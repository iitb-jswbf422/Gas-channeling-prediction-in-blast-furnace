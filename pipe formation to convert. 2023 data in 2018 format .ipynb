{
 "cells": [
  {
   "cell_type": "markdown",
   "id": "cbbbc89b",
   "metadata": {},
   "source": [
    "# pipelline formation "
   ]
  },
  {
   "cell_type": "code",
   "execution_count": 15,
   "id": "60e75d47",
   "metadata": {},
   "outputs": [],
   "source": [
    "import pandas as pd\n",
    "import numpy as np\n",
    "import matplotlib.pyplot as plt\n",
    "import datetime as dt\n",
    "import seaborn as sns\n",
    "\n",
    "import warnings\n",
    "warnings.filterwarnings(\"ignore\")\n",
    "\n",
    "import statsmodels.formula.api as smf\n",
    "import scipy.stats as stats\n",
    "\n",
    "\n",
    "from matplotlib.backends.backend_pdf import PdfPages\n",
    "\n",
    "from sklearn.model_selection import train_test_split\n",
    "from sklearn import metrics\n",
    "from sklearn.linear_model import LogisticRegression\n",
    "from statsmodels.stats.outliers_influence import variance_inflation_factor\n",
    "\n",
    "from sklearn.metrics import roc_curve, auc\n",
    "from sklearn.preprocessing import StandardScaler\n",
    "\n",
    "from sklearn.model_selection import train_test_split, GridSearchCV\n",
    "from sklearn import metrics\n",
    "from sklearn.neighbors import KNeighborsClassifier, KNeighborsRegressor\n",
    "from sklearn.tree import DecisionTreeClassifier\n",
    "from sklearn.tree import DecisionTreeRegressor\n",
    "from sklearn.ensemble import BaggingClassifier, BaggingRegressor,RandomForestClassifier,RandomForestRegressor\n",
    "from sklearn.ensemble import GradientBoostingClassifier,GradientBoostingRegressor, AdaBoostClassifier, AdaBoostRegressor \n",
    "from sklearn.metrics import classification_report\n",
    "\n",
    "from sklearn.ensemble import RandomForestClassifier\n",
    "from sklearn.metrics import accuracy_score, confusion_matrix\n",
    "\n",
    "from sklearn.pipeline import Pipeline\n",
    "from sklearn.impute import SimpleImputer\n",
    "from sklearn.preprocessing import StandardScaler\n",
    "\n",
    "from sklearn.impute import SimpleImputer\n",
    "from sklearn.compose import ColumnTransformer"
   ]
  },
  {
   "cell_type": "code",
   "execution_count": 3,
   "id": "8aed1441",
   "metadata": {},
   "outputs": [],
   "source": [
    "sheet_name = 'Sheet2'"
   ]
  },
  {
   "cell_type": "code",
   "execution_count": 4,
   "id": "1977057f",
   "metadata": {},
   "outputs": [
    {
     "data": {
      "text/plain": [
       "Index(['Date', 'Time', 'Hot_Blast_Vol', 'Heat Flow Flux', 'Hot_Blast_Temp',\n",
       "       'Hot_Blast_Press', 'Top_Press', 'Steam', 'Oxygen', 'Blast_Moist',\n",
       "       ...\n",
       "       'Tuyere 27', 'Tuyere 28', 'Tuyere 29', 'Tuyere 30', 'Tuyere 31',\n",
       "       'Tuyere 32', 'Tuyere 33', 'Tuyere 34', 'Tuyere 35', 'Tuyere 36'],\n",
       "      dtype='object', length=214)"
      ]
     },
     "execution_count": 4,
     "metadata": {},
     "output_type": "execute_result"
    }
   ],
   "source": [
    "df = pd.read_excel(r'C:\\Users\\suraj musale\\OneDrive\\Desktop\\BF data\\Master data\\Oct-Nov2023  data.xlsx' , sheet_name= sheet_name)\n",
    "df.columns"
   ]
  },
  {
   "cell_type": "markdown",
   "id": "01f5ccaf",
   "metadata": {},
   "source": [
    "# Pipeline"
   ]
  },
  {
   "cell_type": "markdown",
   "id": "a96927da",
   "metadata": {},
   "source": [
    "## 1.1 missing value tretment"
   ]
  },
  {
   "cell_type": "code",
   "execution_count": 11,
   "id": "d2260876",
   "metadata": {},
   "outputs": [],
   "source": [
    "# Set display options to show all rows and columns\n",
    "pd.set_option('display.max_rows', None)\n",
    "pd.set_option('display.max_columns', None)"
   ]
  },
  {
   "cell_type": "code",
   "execution_count": 9,
   "id": "9e0ece74",
   "metadata": {},
   "outputs": [],
   "source": [
    "df.drop(columns = ['Date'] , inplace = True )"
   ]
  },
  {
   "cell_type": "code",
   "execution_count": 12,
   "id": "fe08f293",
   "metadata": {},
   "outputs": [
    {
     "data": {
      "text/plain": [
       "Time                 0\n",
       "Hot_Blast_Vol        0\n",
       "Heat Flow Flux       0\n",
       "Hot_Blast_Temp       0\n",
       "Hot_Blast_Press      0\n",
       "Top_Press            0\n",
       "Steam                0\n",
       "Oxygen               0\n",
       "Blast_Moist          0\n",
       "Coal Inj.            0\n",
       "Coal Actual          0\n",
       "RAFT                 0\n",
       "Tuyere Velocity      0\n",
       "Permeability         0\n",
       "Uptakes_Temp1        0\n",
       "Uptakes_Temp2        0\n",
       "Uptakes_Temp3        0\n",
       "Uptakes_Temp4        0\n",
       "ABP1_T1              0\n",
       "ABP1_T2              0\n",
       "ABP1_T3              0\n",
       "ABP1_T4              0\n",
       "ABP1_T5              0\n",
       "ABP1_T6              0\n",
       "ABP1_T7              0\n",
       "ABP2_T1              0\n",
       "ABP2_T2              0\n",
       "ABP2_T3              0\n",
       "ABP2_T4              0\n",
       "ABP2_T5              0\n",
       "ABP2_T6              0\n",
       "ABP2_T7              0\n",
       "ABP2_T8              0\n",
       "ABP3_T1              0\n",
       "ABP3_T2              0\n",
       "ABP3_T3              0\n",
       "ABP3_T4              0\n",
       "ABP3_T5              0\n",
       "ABP3_T6              0\n",
       "ABP3_T7              0\n",
       "%CO_Top              0\n",
       "%CO2_Top             0\n",
       "%H2_Top              0\n",
       "ETA CO               0\n",
       "ETA H2               0\n",
       "Top_Diff_Press       0\n",
       "Middle_Diff_Press    0\n",
       "Bottom_Diff_Press    0\n",
       "O2 Cntrl SP          0\n",
       "O2 Cntrl MV          0\n",
       "Periphery_Temp1      0\n",
       "Periphery_Temp2      0\n",
       "Periphery_Temp3      0\n",
       "Periphery_Temp4      0\n",
       "Periphery_Temp5      0\n",
       "Periphery_Temp6      0\n",
       "Periphery_Temp7      0\n",
       "Periphery_Temp8      0\n",
       "Row8_Q11             0\n",
       "Row8_Q12             0\n",
       "Row8_Q21             0\n",
       "Row8_Q22             0\n",
       "Row8_Q31             0\n",
       "Row8_Q32             0\n",
       "Row8_Q41             0\n",
       "Row8_Q42             0\n",
       "Row9_Q11             0\n",
       "Row9_Q12             0\n",
       "Row9_Q21             0\n",
       "Row9_Q22             0\n",
       "Row9_Q31             0\n",
       "Row9_Q32             0\n",
       "Row9_Q41             0\n",
       "Row9_Q42             0\n",
       "Row10_Q44            0\n",
       "Row10_Q11            0\n",
       "Row10_Q12            0\n",
       "BA1_KU_TE080_NM      0\n",
       "Row10_Q13            0\n",
       "BA1_KU_TE082_NM      0\n",
       "Row10_Q14            0\n",
       "BA1_KU_TE084_NM      0\n",
       "Row10_Q21            0\n",
       "BA1_KU_TE1002_NM     0\n",
       "Row10_Q22            0\n",
       "BA1_KU_TE1004_NM     0\n",
       "Row10_Q23            0\n",
       "BA1_KU_TE1006_NM     0\n",
       "Row10_Q31            0\n",
       "BA1_KU_TE1008_NM     0\n",
       "Row10_Q32            0\n",
       "BA1_KU_TE1010_NM     0\n",
       "Row10_Q33            0\n",
       "BA1_KU_TE1012_NM     0\n",
       "Row10_Q34            0\n",
       "BA1_KU_TE1014_NM     0\n",
       "Row10_Q41            0\n",
       "BA1_KU_TE1016_NM     0\n",
       "Row10_Q42            0\n",
       "BA1_KU_TE1018_NM     0\n",
       "Row10_Q43            0\n",
       "BA1_KU_TE1020_NM     0\n",
       "Row11_Q11            0\n",
       "Row11_Q12            0\n",
       "Row11_Q21            0\n",
       "Row11_Q22            0\n",
       "Row11_Q31            0\n",
       "Row11_Q32            0\n",
       "Row11_Q41            0\n",
       "Row11_Q42            0\n",
       "Row12_Q11            0\n",
       "Row12_Q12            0\n",
       "Row12_Q21            0\n",
       "Row12_Q22            0\n",
       "Row12_Q31            0\n",
       "Row12_Q32            0\n",
       "Row12_Q41            0\n",
       "Row12_Q42            0\n",
       "QUAD1_Heat loss      0\n",
       "QUAD2_Heat loss      0\n",
       "QUAD3_Heat loss      0\n",
       "QUAD4_Heat loss      0\n",
       "Total_Heat loss      0\n",
       "Row13_Q11            0\n",
       "Row13_Q12            0\n",
       "Row13_Q21            0\n",
       "Row13_Q22            0\n",
       "Row13_Q31            0\n",
       "Row13_Q32            0\n",
       "Row13_Q41            0\n",
       "Row13_Q42            0\n",
       "Row14_Q11            0\n",
       "Row14_Q12            0\n",
       "Row14_Q21            0\n",
       "Row14_Q22            0\n",
       "Row14_Q31            0\n",
       "Row14_Q32            0\n",
       "Row14_Q41            0\n",
       "Row14_Q42            0\n",
       "Row15_Q11            0\n",
       "Row15_Q12            0\n",
       "Row15_Q21            0\n",
       "Row15_Q22            0\n",
       "Row15_Q31            0\n",
       "Row15_Q32            0\n",
       "Row15_Q41            0\n",
       "Row15_Q42            0\n",
       "Row16_Q11            0\n",
       "Row16_Q12            0\n",
       "Row16_Q21            0\n",
       "Row16_Q22            0\n",
       "Row16_Q31            0\n",
       "Row16_Q32            0\n",
       "Row16_Q41            0\n",
       "Row16_Q42            0\n",
       "Row17_Q11            0\n",
       "Row17_Q12            0\n",
       "Row17_Q21            0\n",
       "Row17_Q22            0\n",
       "Row17_Q31            0\n",
       "Row17_Q32            0\n",
       "Row17_Q41            0\n",
       "Row17_Q42            0\n",
       "Row18_Q11            0\n",
       "Row18_Q12            0\n",
       "Row18_Q21            0\n",
       "Row18_Q22            0\n",
       "Row18_Q31            0\n",
       "Row18_Q32            0\n",
       "Row18_Q41            0\n",
       "Row18_Q42            0\n",
       "Row19_Q1             0\n",
       "Row19_Q2             0\n",
       "Row19_Q3             0\n",
       "Row19_Q4             0\n",
       "BA1_KU_TE467_NM      0\n",
       "BA1_KU_TE468_NM      0\n",
       "Tuyere 1             0\n",
       "Tuyere 2             0\n",
       "Tuyere 3             0\n",
       "Tuyere 4             0\n",
       "Tuyere 5             0\n",
       "Tuyere 6             0\n",
       "Tuyere 7             0\n",
       "Tuyere 8             0\n",
       "Tuyere 9             0\n",
       "Tuyere 10            0\n",
       "Tuyere 11            0\n",
       "Tuyere 12            0\n",
       "Tuyere 13            0\n",
       "Tuyere 14            0\n",
       "Tuyere 15            0\n",
       "Tuyere 16            0\n",
       "Tuyere 17            0\n",
       "Tuyere 18            0\n",
       "Tuyere 19            0\n",
       "Tuyere 20            0\n",
       "Tuyere 21            0\n",
       "Tuyere 22            0\n",
       "Tuyere 23            0\n",
       "Tuyere 24            0\n",
       "Tuyere 25            0\n",
       "Tuyere 26            0\n",
       "Tuyere 27            0\n",
       "Tuyere 28            0\n",
       "Tuyere 29            0\n",
       "Tuyere 30            0\n",
       "Tuyere 31            0\n",
       "Tuyere 32            0\n",
       "Tuyere 33            0\n",
       "Tuyere 34            0\n",
       "Tuyere 35            0\n",
       "Tuyere 36            0\n",
       "dtype: int64"
      ]
     },
     "execution_count": 12,
     "metadata": {},
     "output_type": "execute_result"
    }
   ],
   "source": [
    "df.isnull().sum()"
   ]
  },
  {
   "cell_type": "code",
   "execution_count": 14,
   "id": "0b7cdc40",
   "metadata": {},
   "outputs": [],
   "source": [
    "imputer = SimpleImputer(strategy='mean')"
   ]
  },
  {
   "cell_type": "code",
   "execution_count": 16,
   "id": "36e47834",
   "metadata": {},
   "outputs": [],
   "source": [
    "preprocessor = ColumnTransformer( transformers=[('impute', imputer, df.columns)])"
   ]
  },
  {
   "cell_type": "markdown",
   "id": "cc0f2f10",
   "metadata": {},
   "source": [
    "## 1.2 Feature selection"
   ]
  },
  {
   "cell_type": "code",
   "execution_count": 20,
   "id": "353b3e97",
   "metadata": {},
   "outputs": [],
   "source": [
    "\n",
    "trf4 = SelectKBest(score_func=chi2,k=8)"
   ]
  },
  {
   "cell_type": "code",
   "execution_count": 21,
   "id": "977f7302",
   "metadata": {},
   "outputs": [
    {
     "data": {
      "text/html": [
       "<style>#sk-container-id-2 {color: black;background-color: white;}#sk-container-id-2 pre{padding: 0;}#sk-container-id-2 div.sk-toggleable {background-color: white;}#sk-container-id-2 label.sk-toggleable__label {cursor: pointer;display: block;width: 100%;margin-bottom: 0;padding: 0.3em;box-sizing: border-box;text-align: center;}#sk-container-id-2 label.sk-toggleable__label-arrow:before {content: \"▸\";float: left;margin-right: 0.25em;color: #696969;}#sk-container-id-2 label.sk-toggleable__label-arrow:hover:before {color: black;}#sk-container-id-2 div.sk-estimator:hover label.sk-toggleable__label-arrow:before {color: black;}#sk-container-id-2 div.sk-toggleable__content {max-height: 0;max-width: 0;overflow: hidden;text-align: left;background-color: #f0f8ff;}#sk-container-id-2 div.sk-toggleable__content pre {margin: 0.2em;color: black;border-radius: 0.25em;background-color: #f0f8ff;}#sk-container-id-2 input.sk-toggleable__control:checked~div.sk-toggleable__content {max-height: 200px;max-width: 100%;overflow: auto;}#sk-container-id-2 input.sk-toggleable__control:checked~label.sk-toggleable__label-arrow:before {content: \"▾\";}#sk-container-id-2 div.sk-estimator input.sk-toggleable__control:checked~label.sk-toggleable__label {background-color: #d4ebff;}#sk-container-id-2 div.sk-label input.sk-toggleable__control:checked~label.sk-toggleable__label {background-color: #d4ebff;}#sk-container-id-2 input.sk-hidden--visually {border: 0;clip: rect(1px 1px 1px 1px);clip: rect(1px, 1px, 1px, 1px);height: 1px;margin: -1px;overflow: hidden;padding: 0;position: absolute;width: 1px;}#sk-container-id-2 div.sk-estimator {font-family: monospace;background-color: #f0f8ff;border: 1px dotted black;border-radius: 0.25em;box-sizing: border-box;margin-bottom: 0.5em;}#sk-container-id-2 div.sk-estimator:hover {background-color: #d4ebff;}#sk-container-id-2 div.sk-parallel-item::after {content: \"\";width: 100%;border-bottom: 1px solid gray;flex-grow: 1;}#sk-container-id-2 div.sk-label:hover label.sk-toggleable__label {background-color: #d4ebff;}#sk-container-id-2 div.sk-serial::before {content: \"\";position: absolute;border-left: 1px solid gray;box-sizing: border-box;top: 0;bottom: 0;left: 50%;z-index: 0;}#sk-container-id-2 div.sk-serial {display: flex;flex-direction: column;align-items: center;background-color: white;padding-right: 0.2em;padding-left: 0.2em;position: relative;}#sk-container-id-2 div.sk-item {position: relative;z-index: 1;}#sk-container-id-2 div.sk-parallel {display: flex;align-items: stretch;justify-content: center;background-color: white;position: relative;}#sk-container-id-2 div.sk-item::before, #sk-container-id-2 div.sk-parallel-item::before {content: \"\";position: absolute;border-left: 1px solid gray;box-sizing: border-box;top: 0;bottom: 0;left: 50%;z-index: -1;}#sk-container-id-2 div.sk-parallel-item {display: flex;flex-direction: column;z-index: 1;position: relative;background-color: white;}#sk-container-id-2 div.sk-parallel-item:first-child::after {align-self: flex-end;width: 50%;}#sk-container-id-2 div.sk-parallel-item:last-child::after {align-self: flex-start;width: 50%;}#sk-container-id-2 div.sk-parallel-item:only-child::after {width: 0;}#sk-container-id-2 div.sk-dashed-wrapped {border: 1px dashed gray;margin: 0 0.4em 0.5em 0.4em;box-sizing: border-box;padding-bottom: 0.4em;background-color: white;}#sk-container-id-2 div.sk-label label {font-family: monospace;font-weight: bold;display: inline-block;line-height: 1.2em;}#sk-container-id-2 div.sk-label-container {text-align: center;}#sk-container-id-2 div.sk-container {/* jupyter's `normalize.less` sets `[hidden] { display: none; }` but bootstrap.min.css set `[hidden] { display: none !important; }` so we also need the `!important` here to be able to override the default hidden behavior on the sphinx rendered scikit-learn.org. See: https://github.com/scikit-learn/scikit-learn/issues/21755 */display: inline-block !important;position: relative;}#sk-container-id-2 div.sk-text-repr-fallback {display: none;}</style><div id=\"sk-container-id-2\" class=\"sk-top-container\"><div class=\"sk-text-repr-fallback\"><pre>SelectKBest(k=8, score_func=&lt;function chi2 at 0x000001D068FA3D00&gt;)</pre><b>In a Jupyter environment, please rerun this cell to show the HTML representation or trust the notebook. <br />On GitHub, the HTML representation is unable to render, please try loading this page with nbviewer.org.</b></div><div class=\"sk-container\" hidden><div class=\"sk-item\"><div class=\"sk-estimator sk-toggleable\"><input class=\"sk-toggleable__control sk-hidden--visually\" id=\"sk-estimator-id-4\" type=\"checkbox\" checked><label for=\"sk-estimator-id-4\" class=\"sk-toggleable__label sk-toggleable__label-arrow\">SelectKBest</label><div class=\"sk-toggleable__content\"><pre>SelectKBest(k=8, score_func=&lt;function chi2 at 0x000001D068FA3D00&gt;)</pre></div></div></div></div></div>"
      ],
      "text/plain": [
       "SelectKBest(k=8, score_func=<function chi2 at 0x000001D068FA3D00>)"
      ]
     },
     "execution_count": 21,
     "metadata": {},
     "output_type": "execute_result"
    }
   ],
   "source": [
    "trf4"
   ]
  },
  {
   "cell_type": "code",
   "execution_count": null,
   "id": "707701ee",
   "metadata": {},
   "outputs": [],
   "source": []
  }
 ],
 "metadata": {
  "kernelspec": {
   "display_name": "Python 3 (ipykernel)",
   "language": "python",
   "name": "python3"
  },
  "language_info": {
   "codemirror_mode": {
    "name": "ipython",
    "version": 3
   },
   "file_extension": ".py",
   "mimetype": "text/x-python",
   "name": "python",
   "nbconvert_exporter": "python",
   "pygments_lexer": "ipython3",
   "version": "3.10.9"
  }
 },
 "nbformat": 4,
 "nbformat_minor": 5
}
