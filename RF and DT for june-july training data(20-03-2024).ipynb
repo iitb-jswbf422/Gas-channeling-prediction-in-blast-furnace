{
 "cells": [
  {
   "cell_type": "markdown",
   "id": "13df8948",
   "metadata": {},
   "source": [
    "# DECISION TREE AND RANDOM FOREST MODEL"
   ]
  },
  {
   "cell_type": "markdown",
   "id": "ef58a875",
   "metadata": {},
   "source": [
    "IMPORTANT NOTES\n",
    "orginal data set = 5133*206"
   ]
  },
  {
   "cell_type": "markdown",
   "id": "e19a1f90",
   "metadata": {},
   "source": [
    "# LIBRARIES "
   ]
  },
  {
   "cell_type": "code",
   "execution_count": 1,
   "id": "8dc8beb8",
   "metadata": {},
   "outputs": [],
   "source": [
    "import pandas as pd\n",
    "import numpy as np\n",
    "import matplotlib.pyplot as plt\n",
    "import datetime as dt\n",
    "import seaborn as sns\n",
    "\n",
    "import warnings\n",
    "warnings.filterwarnings(\"ignore\")\n",
    "\n",
    "import statsmodels.formula.api as smf\n",
    "import scipy.stats as stats\n",
    "\n",
    "\n",
    "from matplotlib.backends.backend_pdf import PdfPages\n",
    "\n",
    "from sklearn.model_selection import train_test_split\n",
    "from sklearn import metrics\n",
    "from sklearn.linear_model import LogisticRegression\n",
    "from statsmodels.stats.outliers_influence import variance_inflation_factor\n",
    "\n",
    "\n",
    "from sklearn.preprocessing import StandardScaler\n",
    "from sklearn.model_selection import train_test_split, GridSearchCV\n",
    "from sklearn import metrics\n",
    "from sklearn.neighbors import KNeighborsClassifier, KNeighborsRegressor"
   ]
  },
  {
   "cell_type": "code",
   "execution_count": null,
   "id": "28684336",
   "metadata": {},
   "outputs": [],
   "source": []
  },
  {
   "cell_type": "code",
   "execution_count": 2,
   "id": "3aa5b781",
   "metadata": {},
   "outputs": [
    {
     "data": {
      "text/plain": [
       "Index(['Date', 'Channelling', 'Hot_Blast_Vol', 'Hot_Blast_Press', 'FTP',\n",
       "       'Steam_Inj', 'Oxygen_Flow', 'Blast_Moist', 'Coal_Inj', 'Coal_Actual',\n",
       "       ...\n",
       "       'BA1_KU_PT530_NM', 'BA1_KU_PT531_NM', 'BA1_KU_PT532_NM',\n",
       "       'BA1_KU_PT533_NM', 'BA1_KU_PT534_NM', 'BA1_KU_PT535_NM',\n",
       "       'BA1_KU_PT536_NM', 'BA1_KU_PT537_NM', 'BA1_KU_PT538_NM',\n",
       "       'BA1_KU_PT539_NM'],\n",
       "      dtype='object', length=198)"
      ]
     },
     "execution_count": 2,
     "metadata": {},
     "output_type": "execute_result"
    }
   ],
   "source": [
    "\n",
    "df = pd.read_excel(r'C:\\Users\\suraj musale\\OneDrive\\Desktop\\BF data\\10 min interval data -2018\\July-august 2018.xlsx')\n",
    "df.columns"
   ]
  },
  {
   "cell_type": "code",
   "execution_count": 3,
   "id": "bac70c9a",
   "metadata": {},
   "outputs": [
    {
     "data": {
      "text/plain": [
       "(8784, 198)"
      ]
     },
     "execution_count": 3,
     "metadata": {},
     "output_type": "execute_result"
    }
   ],
   "source": [
    "df.shape"
   ]
  },
  {
   "cell_type": "markdown",
   "id": "53205a34",
   "metadata": {},
   "source": [
    "# Count of channeling and non channeling"
   ]
  },
  {
   "cell_type": "code",
   "execution_count": 4,
   "id": "7d81550a",
   "metadata": {},
   "outputs": [
    {
     "data": {
      "text/html": [
       "<div>\n",
       "<style scoped>\n",
       "    .dataframe tbody tr th:only-of-type {\n",
       "        vertical-align: middle;\n",
       "    }\n",
       "\n",
       "    .dataframe tbody tr th {\n",
       "        vertical-align: top;\n",
       "    }\n",
       "\n",
       "    .dataframe thead th {\n",
       "        text-align: right;\n",
       "    }\n",
       "</style>\n",
       "<table border=\"1\" class=\"dataframe\">\n",
       "  <thead>\n",
       "    <tr style=\"text-align: right;\">\n",
       "      <th></th>\n",
       "      <th>Channelling</th>\n",
       "      <th>0</th>\n",
       "      <th>1</th>\n",
       "    </tr>\n",
       "  </thead>\n",
       "  <tbody>\n",
       "    <tr>\n",
       "      <th rowspan=\"5\" valign=\"top\">Hot_Blast_Vol</th>\n",
       "      <th>count</th>\n",
       "      <td>5844.0</td>\n",
       "      <td>2940.0</td>\n",
       "    </tr>\n",
       "    <tr>\n",
       "      <th>mean</th>\n",
       "      <td>337645.0</td>\n",
       "      <td>331017.0</td>\n",
       "    </tr>\n",
       "    <tr>\n",
       "      <th>std</th>\n",
       "      <td>82473.0</td>\n",
       "      <td>36889.0</td>\n",
       "    </tr>\n",
       "    <tr>\n",
       "      <th>min</th>\n",
       "      <td>0.0</td>\n",
       "      <td>147039.0</td>\n",
       "    </tr>\n",
       "    <tr>\n",
       "      <th>25%</th>\n",
       "      <td>345501.0</td>\n",
       "      <td>321504.0</td>\n",
       "    </tr>\n",
       "    <tr>\n",
       "      <th>...</th>\n",
       "      <th>...</th>\n",
       "      <td>...</td>\n",
       "      <td>...</td>\n",
       "    </tr>\n",
       "    <tr>\n",
       "      <th rowspan=\"5\" valign=\"top\">BA1_KU_PT539_NM</th>\n",
       "      <th>min</th>\n",
       "      <td>0.0</td>\n",
       "      <td>1.0</td>\n",
       "    </tr>\n",
       "    <tr>\n",
       "      <th>25%</th>\n",
       "      <td>2.0</td>\n",
       "      <td>2.0</td>\n",
       "    </tr>\n",
       "    <tr>\n",
       "      <th>50%</th>\n",
       "      <td>2.0</td>\n",
       "      <td>2.0</td>\n",
       "    </tr>\n",
       "    <tr>\n",
       "      <th>75%</th>\n",
       "      <td>2.0</td>\n",
       "      <td>2.0</td>\n",
       "    </tr>\n",
       "    <tr>\n",
       "      <th>max</th>\n",
       "      <td>3.0</td>\n",
       "      <td>3.0</td>\n",
       "    </tr>\n",
       "  </tbody>\n",
       "</table>\n",
       "<p>1360 rows × 2 columns</p>\n",
       "</div>"
      ],
      "text/plain": [
       "Channelling                   0         1\n",
       "Hot_Blast_Vol   count    5844.0    2940.0\n",
       "                mean   337645.0  331017.0\n",
       "                std     82473.0   36889.0\n",
       "                min         0.0  147039.0\n",
       "                25%    345501.0  321504.0\n",
       "...                         ...       ...\n",
       "BA1_KU_PT539_NM min         0.0       1.0\n",
       "                25%         2.0       2.0\n",
       "                50%         2.0       2.0\n",
       "                75%         2.0       2.0\n",
       "                max         3.0       3.0\n",
       "\n",
       "[1360 rows x 2 columns]"
      ]
     },
     "execution_count": 4,
     "metadata": {},
     "output_type": "execute_result"
    }
   ],
   "source": [
    "df.groupby(\"Channelling\").describe().T.round()"
   ]
  },
  {
   "cell_type": "markdown",
   "id": "4d800dfc",
   "metadata": {},
   "source": [
    "# Outlier treatment \n"
   ]
  },
  {
   "cell_type": "code",
   "execution_count": 5,
   "id": "15023e81",
   "metadata": {},
   "outputs": [
    {
     "data": {
      "text/html": [
       "<div>\n",
       "<style scoped>\n",
       "    .dataframe tbody tr th:only-of-type {\n",
       "        vertical-align: middle;\n",
       "    }\n",
       "\n",
       "    .dataframe tbody tr th {\n",
       "        vertical-align: top;\n",
       "    }\n",
       "\n",
       "    .dataframe thead th {\n",
       "        text-align: right;\n",
       "    }\n",
       "</style>\n",
       "<table border=\"1\" class=\"dataframe\">\n",
       "  <thead>\n",
       "    <tr style=\"text-align: right;\">\n",
       "      <th></th>\n",
       "      <th>Date</th>\n",
       "      <th>Channelling</th>\n",
       "      <th>Hot_Blast_Vol</th>\n",
       "      <th>Hot_Blast_Press</th>\n",
       "      <th>FTP</th>\n",
       "      <th>Steam_Inj</th>\n",
       "      <th>Oxygen_Flow</th>\n",
       "      <th>Blast_Moist</th>\n",
       "      <th>Coal_Inj</th>\n",
       "      <th>Coal_Actual</th>\n",
       "      <th>...</th>\n",
       "      <th>BA1_KU_PT530_NM</th>\n",
       "      <th>BA1_KU_PT531_NM</th>\n",
       "      <th>BA1_KU_PT532_NM</th>\n",
       "      <th>BA1_KU_PT533_NM</th>\n",
       "      <th>BA1_KU_PT534_NM</th>\n",
       "      <th>BA1_KU_PT535_NM</th>\n",
       "      <th>BA1_KU_PT536_NM</th>\n",
       "      <th>BA1_KU_PT537_NM</th>\n",
       "      <th>BA1_KU_PT538_NM</th>\n",
       "      <th>BA1_KU_PT539_NM</th>\n",
       "    </tr>\n",
       "  </thead>\n",
       "  <tbody>\n",
       "    <tr>\n",
       "      <th>0</th>\n",
       "      <td>2018-06-01 00:00:00</td>\n",
       "      <td>0</td>\n",
       "      <td>291314.141460</td>\n",
       "      <td>2.358719</td>\n",
       "      <td>1.305764</td>\n",
       "      <td>1.794598</td>\n",
       "      <td>0.000000</td>\n",
       "      <td>25.167840</td>\n",
       "      <td>0.0</td>\n",
       "      <td>0.000000</td>\n",
       "      <td>...</td>\n",
       "      <td>0.844990</td>\n",
       "      <td>1.678695</td>\n",
       "      <td>1.803070</td>\n",
       "      <td>1.799170</td>\n",
       "      <td>1.811193</td>\n",
       "      <td>1.887992</td>\n",
       "      <td>1.906393</td>\n",
       "      <td>1.861300</td>\n",
       "      <td>1.912253</td>\n",
       "      <td>1.856443</td>\n",
       "    </tr>\n",
       "    <tr>\n",
       "      <th>1</th>\n",
       "      <td>2018-06-01 00:10:00</td>\n",
       "      <td>0</td>\n",
       "      <td>296994.243475</td>\n",
       "      <td>2.465952</td>\n",
       "      <td>1.308096</td>\n",
       "      <td>1.792718</td>\n",
       "      <td>0.000000</td>\n",
       "      <td>25.040695</td>\n",
       "      <td>0.0</td>\n",
       "      <td>0.000000</td>\n",
       "      <td>...</td>\n",
       "      <td>0.926836</td>\n",
       "      <td>1.689639</td>\n",
       "      <td>1.870033</td>\n",
       "      <td>1.864194</td>\n",
       "      <td>1.884448</td>\n",
       "      <td>1.956843</td>\n",
       "      <td>2.102317</td>\n",
       "      <td>1.955040</td>\n",
       "      <td>2.016837</td>\n",
       "      <td>2.128043</td>\n",
       "    </tr>\n",
       "    <tr>\n",
       "      <th>2</th>\n",
       "      <td>2018-06-01 00:20:00</td>\n",
       "      <td>0</td>\n",
       "      <td>327925.318529</td>\n",
       "      <td>2.829154</td>\n",
       "      <td>1.589956</td>\n",
       "      <td>3.948594</td>\n",
       "      <td>0.000000</td>\n",
       "      <td>30.918612</td>\n",
       "      <td>0.0</td>\n",
       "      <td>0.000000</td>\n",
       "      <td>...</td>\n",
       "      <td>1.010383</td>\n",
       "      <td>2.002039</td>\n",
       "      <td>2.192265</td>\n",
       "      <td>2.179730</td>\n",
       "      <td>2.227565</td>\n",
       "      <td>2.253307</td>\n",
       "      <td>2.290551</td>\n",
       "      <td>2.254453</td>\n",
       "      <td>2.287695</td>\n",
       "      <td>2.238155</td>\n",
       "    </tr>\n",
       "    <tr>\n",
       "      <th>3</th>\n",
       "      <td>2018-06-01 00:30:00</td>\n",
       "      <td>0</td>\n",
       "      <td>334864.588813</td>\n",
       "      <td>2.947168</td>\n",
       "      <td>1.671134</td>\n",
       "      <td>5.225084</td>\n",
       "      <td>0.000000</td>\n",
       "      <td>34.702425</td>\n",
       "      <td>0.0</td>\n",
       "      <td>0.000000</td>\n",
       "      <td>...</td>\n",
       "      <td>1.118954</td>\n",
       "      <td>2.111779</td>\n",
       "      <td>2.294494</td>\n",
       "      <td>2.278628</td>\n",
       "      <td>2.286134</td>\n",
       "      <td>2.343890</td>\n",
       "      <td>2.508995</td>\n",
       "      <td>2.379457</td>\n",
       "      <td>2.412233</td>\n",
       "      <td>2.518960</td>\n",
       "    </tr>\n",
       "    <tr>\n",
       "      <th>4</th>\n",
       "      <td>2018-06-01 00:40:00</td>\n",
       "      <td>0</td>\n",
       "      <td>336993.350112</td>\n",
       "      <td>2.956800</td>\n",
       "      <td>1.667515</td>\n",
       "      <td>7.238677</td>\n",
       "      <td>492.171920</td>\n",
       "      <td>40.468882</td>\n",
       "      <td>0.0</td>\n",
       "      <td>0.000000</td>\n",
       "      <td>...</td>\n",
       "      <td>1.208795</td>\n",
       "      <td>2.133903</td>\n",
       "      <td>2.291999</td>\n",
       "      <td>2.289191</td>\n",
       "      <td>2.275220</td>\n",
       "      <td>2.355010</td>\n",
       "      <td>2.400072</td>\n",
       "      <td>2.372695</td>\n",
       "      <td>2.409504</td>\n",
       "      <td>2.356896</td>\n",
       "    </tr>\n",
       "    <tr>\n",
       "      <th>...</th>\n",
       "      <td>...</td>\n",
       "      <td>...</td>\n",
       "      <td>...</td>\n",
       "      <td>...</td>\n",
       "      <td>...</td>\n",
       "      <td>...</td>\n",
       "      <td>...</td>\n",
       "      <td>...</td>\n",
       "      <td>...</td>\n",
       "      <td>...</td>\n",
       "      <td>...</td>\n",
       "      <td>...</td>\n",
       "      <td>...</td>\n",
       "      <td>...</td>\n",
       "      <td>...</td>\n",
       "      <td>...</td>\n",
       "      <td>...</td>\n",
       "      <td>...</td>\n",
       "      <td>...</td>\n",
       "      <td>...</td>\n",
       "      <td>...</td>\n",
       "    </tr>\n",
       "    <tr>\n",
       "      <th>8779</th>\n",
       "      <td>2018-07-31 23:10:00</td>\n",
       "      <td>0</td>\n",
       "      <td>380426.550979</td>\n",
       "      <td>3.273984</td>\n",
       "      <td>1.888153</td>\n",
       "      <td>14.688301</td>\n",
       "      <td>14420.427428</td>\n",
       "      <td>62.210423</td>\n",
       "      <td>82.0</td>\n",
       "      <td>79.010596</td>\n",
       "      <td>...</td>\n",
       "      <td>2.222807</td>\n",
       "      <td>2.231009</td>\n",
       "      <td>2.381458</td>\n",
       "      <td>2.278465</td>\n",
       "      <td>2.276496</td>\n",
       "      <td>2.277897</td>\n",
       "      <td>2.422906</td>\n",
       "      <td>2.338888</td>\n",
       "      <td>2.338578</td>\n",
       "      <td>2.415592</td>\n",
       "    </tr>\n",
       "    <tr>\n",
       "      <th>8780</th>\n",
       "      <td>2018-07-31 23:20:00</td>\n",
       "      <td>0</td>\n",
       "      <td>379231.369970</td>\n",
       "      <td>3.279995</td>\n",
       "      <td>1.887348</td>\n",
       "      <td>13.447530</td>\n",
       "      <td>14317.100824</td>\n",
       "      <td>60.517869</td>\n",
       "      <td>82.0</td>\n",
       "      <td>82.534099</td>\n",
       "      <td>...</td>\n",
       "      <td>2.218610</td>\n",
       "      <td>2.232955</td>\n",
       "      <td>2.358764</td>\n",
       "      <td>2.274749</td>\n",
       "      <td>2.274302</td>\n",
       "      <td>2.276762</td>\n",
       "      <td>2.457865</td>\n",
       "      <td>2.323283</td>\n",
       "      <td>2.336204</td>\n",
       "      <td>2.316843</td>\n",
       "    </tr>\n",
       "    <tr>\n",
       "      <th>8781</th>\n",
       "      <td>2018-07-31 23:30:00</td>\n",
       "      <td>0</td>\n",
       "      <td>357639.016884</td>\n",
       "      <td>3.238955</td>\n",
       "      <td>1.883534</td>\n",
       "      <td>14.578729</td>\n",
       "      <td>13763.905952</td>\n",
       "      <td>65.015972</td>\n",
       "      <td>82.0</td>\n",
       "      <td>86.154869</td>\n",
       "      <td>...</td>\n",
       "      <td>2.211721</td>\n",
       "      <td>2.211301</td>\n",
       "      <td>2.361761</td>\n",
       "      <td>2.255340</td>\n",
       "      <td>2.256334</td>\n",
       "      <td>2.261205</td>\n",
       "      <td>2.372218</td>\n",
       "      <td>2.315952</td>\n",
       "      <td>2.317171</td>\n",
       "      <td>2.387719</td>\n",
       "    </tr>\n",
       "    <tr>\n",
       "      <th>8782</th>\n",
       "      <td>2018-07-31 23:40:00</td>\n",
       "      <td>0</td>\n",
       "      <td>361061.608012</td>\n",
       "      <td>3.235317</td>\n",
       "      <td>1.880723</td>\n",
       "      <td>16.097588</td>\n",
       "      <td>13301.209371</td>\n",
       "      <td>68.265962</td>\n",
       "      <td>82.0</td>\n",
       "      <td>81.238592</td>\n",
       "      <td>...</td>\n",
       "      <td>2.198274</td>\n",
       "      <td>2.202158</td>\n",
       "      <td>2.413125</td>\n",
       "      <td>2.243968</td>\n",
       "      <td>2.245607</td>\n",
       "      <td>2.255391</td>\n",
       "      <td>2.366635</td>\n",
       "      <td>2.289628</td>\n",
       "      <td>2.303045</td>\n",
       "      <td>2.274622</td>\n",
       "    </tr>\n",
       "    <tr>\n",
       "      <th>8783</th>\n",
       "      <td>2018-07-31 23:50:00</td>\n",
       "      <td>0</td>\n",
       "      <td>382423.034970</td>\n",
       "      <td>3.268004</td>\n",
       "      <td>1.884283</td>\n",
       "      <td>15.912728</td>\n",
       "      <td>14292.879009</td>\n",
       "      <td>64.923918</td>\n",
       "      <td>82.0</td>\n",
       "      <td>79.671569</td>\n",
       "      <td>...</td>\n",
       "      <td>2.204195</td>\n",
       "      <td>2.206131</td>\n",
       "      <td>2.497730</td>\n",
       "      <td>2.253445</td>\n",
       "      <td>2.253620</td>\n",
       "      <td>2.265821</td>\n",
       "      <td>2.370772</td>\n",
       "      <td>2.308703</td>\n",
       "      <td>2.307995</td>\n",
       "      <td>2.379443</td>\n",
       "    </tr>\n",
       "  </tbody>\n",
       "</table>\n",
       "<p>8784 rows × 198 columns</p>\n",
       "</div>"
      ],
      "text/plain": [
       "                    Date  Channelling  Hot_Blast_Vol  Hot_Blast_Press  \\\n",
       "0    2018-06-01 00:00:00            0  291314.141460         2.358719   \n",
       "1    2018-06-01 00:10:00            0  296994.243475         2.465952   \n",
       "2    2018-06-01 00:20:00            0  327925.318529         2.829154   \n",
       "3    2018-06-01 00:30:00            0  334864.588813         2.947168   \n",
       "4    2018-06-01 00:40:00            0  336993.350112         2.956800   \n",
       "...                  ...          ...            ...              ...   \n",
       "8779 2018-07-31 23:10:00            0  380426.550979         3.273984   \n",
       "8780 2018-07-31 23:20:00            0  379231.369970         3.279995   \n",
       "8781 2018-07-31 23:30:00            0  357639.016884         3.238955   \n",
       "8782 2018-07-31 23:40:00            0  361061.608012         3.235317   \n",
       "8783 2018-07-31 23:50:00            0  382423.034970         3.268004   \n",
       "\n",
       "           FTP  Steam_Inj   Oxygen_Flow  Blast_Moist  Coal_Inj  Coal_Actual  \\\n",
       "0     1.305764   1.794598      0.000000    25.167840       0.0     0.000000   \n",
       "1     1.308096   1.792718      0.000000    25.040695       0.0     0.000000   \n",
       "2     1.589956   3.948594      0.000000    30.918612       0.0     0.000000   \n",
       "3     1.671134   5.225084      0.000000    34.702425       0.0     0.000000   \n",
       "4     1.667515   7.238677    492.171920    40.468882       0.0     0.000000   \n",
       "...        ...        ...           ...          ...       ...          ...   \n",
       "8779  1.888153  14.688301  14420.427428    62.210423      82.0    79.010596   \n",
       "8780  1.887348  13.447530  14317.100824    60.517869      82.0    82.534099   \n",
       "8781  1.883534  14.578729  13763.905952    65.015972      82.0    86.154869   \n",
       "8782  1.880723  16.097588  13301.209371    68.265962      82.0    81.238592   \n",
       "8783  1.884283  15.912728  14292.879009    64.923918      82.0    79.671569   \n",
       "\n",
       "      ...  BA1_KU_PT530_NM  BA1_KU_PT531_NM  BA1_KU_PT532_NM  BA1_KU_PT533_NM  \\\n",
       "0     ...         0.844990         1.678695         1.803070         1.799170   \n",
       "1     ...         0.926836         1.689639         1.870033         1.864194   \n",
       "2     ...         1.010383         2.002039         2.192265         2.179730   \n",
       "3     ...         1.118954         2.111779         2.294494         2.278628   \n",
       "4     ...         1.208795         2.133903         2.291999         2.289191   \n",
       "...   ...              ...              ...              ...              ...   \n",
       "8779  ...         2.222807         2.231009         2.381458         2.278465   \n",
       "8780  ...         2.218610         2.232955         2.358764         2.274749   \n",
       "8781  ...         2.211721         2.211301         2.361761         2.255340   \n",
       "8782  ...         2.198274         2.202158         2.413125         2.243968   \n",
       "8783  ...         2.204195         2.206131         2.497730         2.253445   \n",
       "\n",
       "      BA1_KU_PT534_NM  BA1_KU_PT535_NM  BA1_KU_PT536_NM BA1_KU_PT537_NM  \\\n",
       "0            1.811193         1.887992         1.906393        1.861300   \n",
       "1            1.884448         1.956843         2.102317        1.955040   \n",
       "2            2.227565         2.253307         2.290551        2.254453   \n",
       "3            2.286134         2.343890         2.508995        2.379457   \n",
       "4            2.275220         2.355010         2.400072        2.372695   \n",
       "...               ...              ...              ...             ...   \n",
       "8779         2.276496         2.277897         2.422906        2.338888   \n",
       "8780         2.274302         2.276762         2.457865        2.323283   \n",
       "8781         2.256334         2.261205         2.372218        2.315952   \n",
       "8782         2.245607         2.255391         2.366635        2.289628   \n",
       "8783         2.253620         2.265821         2.370772        2.308703   \n",
       "\n",
       "     BA1_KU_PT538_NM BA1_KU_PT539_NM  \n",
       "0           1.912253        1.856443  \n",
       "1           2.016837        2.128043  \n",
       "2           2.287695        2.238155  \n",
       "3           2.412233        2.518960  \n",
       "4           2.409504        2.356896  \n",
       "...              ...             ...  \n",
       "8779        2.338578        2.415592  \n",
       "8780        2.336204        2.316843  \n",
       "8781        2.317171        2.387719  \n",
       "8782        2.303045        2.274622  \n",
       "8783        2.307995        2.379443  \n",
       "\n",
       "[8784 rows x 198 columns]"
      ]
     },
     "execution_count": 5,
     "metadata": {},
     "output_type": "execute_result"
    }
   ],
   "source": [
    "df"
   ]
  },
  {
   "cell_type": "code",
   "execution_count": null,
   "id": "3d1476a7",
   "metadata": {},
   "outputs": [],
   "source": []
  },
  {
   "cell_type": "markdown",
   "id": "deabf32d",
   "metadata": {},
   "source": [
    "# Adding extra columns"
   ]
  },
  {
   "cell_type": "markdown",
   "id": "f08d2e76",
   "metadata": {},
   "source": [
    "## uptake avg and std deviation"
   ]
  },
  {
   "cell_type": "code",
   "execution_count": 6,
   "id": "f31ee886",
   "metadata": {},
   "outputs": [],
   "source": [
    "df['Uptake_tem_std'] = df[['Uptakes_Temp1','Uptakes_Temp2','Uptakes_Temp3','Uptakes_Temp4']].std(axis = 1)"
   ]
  },
  {
   "cell_type": "code",
   "execution_count": 7,
   "id": "e9cbb00e",
   "metadata": {},
   "outputs": [],
   "source": [
    "df['Uptake_tem_avg'] = df[['Uptakes_Temp1','Uptakes_Temp2','Uptakes_Temp3','Uptakes_Temp4']].mean(axis = 1)"
   ]
  },
  {
   "cell_type": "markdown",
   "id": "3b9b897b",
   "metadata": {},
   "source": [
    "## periphery avg and std deviation"
   ]
  },
  {
   "cell_type": "code",
   "execution_count": 8,
   "id": "a37a1b62",
   "metadata": {},
   "outputs": [],
   "source": [
    "df['Periphery_Temp_avg'] = df[['Periphery_Temp1','Periphery_Temp2','Periphery_Temp3','Periphery_Temp4','Periphery_Temp5','Periphery_Temp6','Periphery_Temp7','Periphery_Temp8']].mean(axis=1)"
   ]
  },
  {
   "cell_type": "code",
   "execution_count": 9,
   "id": "f6c26e92",
   "metadata": {},
   "outputs": [],
   "source": [
    "df['Periphery_Temp_std'] = df[['Periphery_Temp1','Periphery_Temp2','Periphery_Temp3','Periphery_Temp4','Periphery_Temp5','Periphery_Temp6','Periphery_Temp7','Periphery_Temp8']].std(axis=1)"
   ]
  },
  {
   "cell_type": "markdown",
   "id": "dbcdc641",
   "metadata": {},
   "source": [
    "## Row avg temperature "
   ]
  },
  {
   "cell_type": "markdown",
   "id": "2bfe737c",
   "metadata": {},
   "source": [
    "### Row 8"
   ]
  },
  {
   "cell_type": "code",
   "execution_count": 10,
   "id": "25ab6a88",
   "metadata": {},
   "outputs": [],
   "source": [
    "df['Row8_std'] = df[['Row8_Q11','Row8_Q12','Row8_Q21','Row8_Q22','Row8_Q31','Row8_Q32','Row8_Q41','Row8_Q42']].std(axis = 1)\n"
   ]
  },
  {
   "cell_type": "markdown",
   "id": "1603326a",
   "metadata": {},
   "source": [
    "Row8_avg + Row8_std + Row9_avg + Row9_std + Row10_avg + Row10_std + Row11_avg + Row11_std + Row12_avg + Row12_std + Row13_avg + Row13_std + Row14_avg + Row14_std + Row15_avg + Row15_std + Row16_avg + Row16_std + Row17_avg + Row17_std + Row18_avg + Row18_std + "
   ]
  },
  {
   "cell_type": "code",
   "execution_count": 11,
   "id": "7e444717",
   "metadata": {},
   "outputs": [],
   "source": [
    "df['Row8_avg'] = df[['Row8_Q11','Row8_Q12','Row8_Q21','Row8_Q22','Row8_Q31','Row8_Q32','Row8_Q41','Row8_Q42']].mean(axis = 1)\n"
   ]
  },
  {
   "cell_type": "markdown",
   "id": "6494526b",
   "metadata": {},
   "source": [
    "### Row9"
   ]
  },
  {
   "cell_type": "code",
   "execution_count": 12,
   "id": "c4be18cc",
   "metadata": {},
   "outputs": [],
   "source": [
    "df['Row9_std'] = df[['Row9_Q11','Row9_Q12','Row9_Q21' ,'Row9_Q22','Row9_Q31','Row9_Q32','Row9_Q41','Row9_Q42']].std(axis = 1)"
   ]
  },
  {
   "cell_type": "code",
   "execution_count": 13,
   "id": "79132a35",
   "metadata": {},
   "outputs": [],
   "source": [
    "df['Row9_avg'] = df[['Row9_Q11','Row9_Q12','Row9_Q21' ,'Row9_Q22','Row9_Q31','Row9_Q32','Row9_Q41','Row9_Q42']].mean(axis = 1)"
   ]
  },
  {
   "cell_type": "markdown",
   "id": "198585c2",
   "metadata": {},
   "source": [
    "### Row 10"
   ]
  },
  {
   "cell_type": "code",
   "execution_count": 14,
   "id": "632ebcd4",
   "metadata": {},
   "outputs": [],
   "source": [
    "df['Row10_avg'] = df[['Row10_Q11','Row10_Q12','Row10_Q13','Row10_Q14','Row10_Q21','Row10_Q22','Row10_Q23','Row10_Q31','Row10_Q32', 'Row10_Q33','Row10_Q34','Row10_Q41','Row10_Q42','Row10_Q43','Row10_Q44']].mean(axis = 1)"
   ]
  },
  {
   "cell_type": "code",
   "execution_count": 15,
   "id": "b67d9f4b",
   "metadata": {},
   "outputs": [],
   "source": [
    "df['Row10_std'] = df[['Row10_Q11','Row10_Q12','Row10_Q13','Row10_Q14','Row10_Q21','Row10_Q22','Row10_Q23','Row10_Q31','Row10_Q32', 'Row10_Q33','Row10_Q34','Row10_Q41','Row10_Q42','Row10_Q43','Row10_Q44']].std(axis=1)"
   ]
  },
  {
   "cell_type": "markdown",
   "id": "621dab85",
   "metadata": {},
   "source": [
    "### Row 11"
   ]
  },
  {
   "cell_type": "code",
   "execution_count": 16,
   "id": "53bfb7e7",
   "metadata": {},
   "outputs": [],
   "source": [
    "df['Row11_avg'] = df[['Row11_Q11','Row11_Q12','Row11_Q21','Row11_Q22','Row11_Q31','Row11_Q32','Row11_Q41','Row11_Q42']].mean(axis = 1)\n"
   ]
  },
  {
   "cell_type": "code",
   "execution_count": 17,
   "id": "8b44d1d2",
   "metadata": {},
   "outputs": [],
   "source": [
    "df['Row11_std'] = df[['Row11_Q11','Row11_Q12','Row11_Q21','Row11_Q22','Row11_Q31','Row11_Q32','Row11_Q41','Row11_Q42']].std(axis = 1)\n"
   ]
  },
  {
   "cell_type": "markdown",
   "id": "04262bcb",
   "metadata": {},
   "source": [
    "### Row 12"
   ]
  },
  {
   "cell_type": "code",
   "execution_count": 18,
   "id": "4942398a",
   "metadata": {},
   "outputs": [],
   "source": [
    "df['Row12_avg'] = df[['Row12_Q11','Row12_Q12','Row12_Q21','Row12_Q22','Row12_Q31','Row12_Q32','Row12_Q41','Row12_Q42']].mean(axis = 1)"
   ]
  },
  {
   "cell_type": "code",
   "execution_count": 19,
   "id": "f9c8b1d3",
   "metadata": {},
   "outputs": [],
   "source": [
    "df['Row12_std'] = df[['Row12_Q11','Row12_Q12','Row12_Q21','Row12_Q22','Row12_Q31','Row12_Q32','Row12_Q41','Row12_Q42']].std(axis = 1)"
   ]
  },
  {
   "cell_type": "markdown",
   "id": "d68195c7",
   "metadata": {},
   "source": [
    "### Row 13"
   ]
  },
  {
   "cell_type": "code",
   "execution_count": 20,
   "id": "8e3fa7e6",
   "metadata": {},
   "outputs": [],
   "source": [
    "df['Row13_avg'] = df[['Row13_Q11','Row13_Q12','Row13_Q21','Row13_Q22','Row13_Q31','Row13_Q32','Row13_Q41','Row13_Q42']].mean(axis = 1)"
   ]
  },
  {
   "cell_type": "code",
   "execution_count": 21,
   "id": "cb1f9ebf",
   "metadata": {},
   "outputs": [],
   "source": [
    "df['Row13_std'] = df[['Row13_Q11','Row13_Q12','Row13_Q21','Row13_Q22','Row13_Q31','Row13_Q32','Row13_Q41','Row13_Q42']].std(axis = 1)"
   ]
  },
  {
   "cell_type": "markdown",
   "id": "ed37d8f4",
   "metadata": {},
   "source": [
    "### Row 14"
   ]
  },
  {
   "cell_type": "code",
   "execution_count": 22,
   "id": "1f5c327d",
   "metadata": {},
   "outputs": [],
   "source": [
    "df['Row14_avg'] = df[['Row14_Q11','Row14_Q12','Row14_Q21','Row14_Q22','Row14_Q31','Row14_Q32','Row14_Q41','Row14_Q42']].mean(axis = 1)"
   ]
  },
  {
   "cell_type": "code",
   "execution_count": 23,
   "id": "985dd23f",
   "metadata": {},
   "outputs": [],
   "source": [
    "df['Row14_std'] = df[['Row14_Q11','Row14_Q12','Row14_Q21','Row14_Q22','Row14_Q31','Row14_Q32','Row14_Q41','Row14_Q42']].std(axis = 1)"
   ]
  },
  {
   "cell_type": "markdown",
   "id": "dd5e857d",
   "metadata": {},
   "source": [
    "### Row 15"
   ]
  },
  {
   "cell_type": "code",
   "execution_count": 24,
   "id": "87bbe5bf",
   "metadata": {},
   "outputs": [],
   "source": [
    "df['Row15_avg'] = df[['Row15_Q11','Row15_Q12','Row15_Q21','Row15_Q22','Row15_Q31','Row15_Q32','Row15_Q41','Row15_Q42']].mean(axis = 1)"
   ]
  },
  {
   "cell_type": "code",
   "execution_count": 25,
   "id": "0696c585",
   "metadata": {},
   "outputs": [],
   "source": [
    "df['Row15_std'] = df[['Row15_Q11','Row15_Q12','Row15_Q21','Row15_Q22','Row15_Q31','Row15_Q32','Row15_Q41','Row15_Q42']].std(axis = 1)"
   ]
  },
  {
   "cell_type": "markdown",
   "id": "09609727",
   "metadata": {},
   "source": [
    "### Row 16"
   ]
  },
  {
   "cell_type": "code",
   "execution_count": 26,
   "id": "2f24dbda",
   "metadata": {},
   "outputs": [],
   "source": [
    "df['Row16_avg'] = df[['Row16_Q11','Row16_Q12','Row16_Q21','Row16_Q22','Row16_Q31','Row16_Q32','Row16_Q41','Row16_Q42']].mean(axis = 1)"
   ]
  },
  {
   "cell_type": "code",
   "execution_count": 27,
   "id": "2cb2bf61",
   "metadata": {},
   "outputs": [],
   "source": [
    "df['Row16_std'] = df[['Row16_Q11','Row16_Q12','Row16_Q21','Row16_Q22','Row16_Q31','Row16_Q32','Row16_Q41','Row16_Q42']].std(axis = 1)"
   ]
  },
  {
   "cell_type": "markdown",
   "id": "c2461a04",
   "metadata": {},
   "source": [
    "### Row 17"
   ]
  },
  {
   "cell_type": "code",
   "execution_count": 28,
   "id": "a6ffc1aa",
   "metadata": {},
   "outputs": [],
   "source": [
    "df['Row17_avg']  = df[['Row17_Q11','Row17_Q12','Row17_Q22','Row17_Q31','Row17_Q32','Row17_Q41','Row17_Q42']].mean(axis = 1)"
   ]
  },
  {
   "cell_type": "code",
   "execution_count": 29,
   "id": "1ce2db8b",
   "metadata": {},
   "outputs": [],
   "source": [
    "df['Row17_std']  = df[['Row17_Q11','Row17_Q12','Row17_Q22','Row17_Q31','Row17_Q32','Row17_Q41','Row17_Q42']].std(axis = 1)"
   ]
  },
  {
   "cell_type": "markdown",
   "id": "fd7032ff",
   "metadata": {},
   "source": [
    "### Row 18`"
   ]
  },
  {
   "cell_type": "code",
   "execution_count": 30,
   "id": "8ead1a4b",
   "metadata": {},
   "outputs": [],
   "source": [
    "df['Row18_avg'] = df[['Row18_Q11','Row18_Q12','Row18_Q21','Row18_Q22','Row18_Q31','Row18_Q32','Row18_Q41','Row18_Q42']].mean(axis = 1)"
   ]
  },
  {
   "cell_type": "code",
   "execution_count": 31,
   "id": "c8b48881",
   "metadata": {},
   "outputs": [],
   "source": [
    "\n",
    "df['Row18_std'] = df[['Row18_Q11','Row18_Q12','Row18_Q21','Row18_Q22','Row18_Q31','Row18_Q32','Row18_Q41','Row18_Q42']].std(axis = 1)"
   ]
  },
  {
   "cell_type": "markdown",
   "id": "7d113e6a",
   "metadata": {},
   "source": [
    "### Row 19"
   ]
  },
  {
   "cell_type": "code",
   "execution_count": 32,
   "id": "2dfc8076",
   "metadata": {},
   "outputs": [],
   "source": [
    "df['Row19_avg'] = df[['Row19_Q1','Row19_Q2','Row19_Q3','Row19_Q4']].std(axis = 1)"
   ]
  },
  {
   "cell_type": "code",
   "execution_count": 33,
   "id": "c0f1068f",
   "metadata": {},
   "outputs": [],
   "source": [
    "df['Row19_std'] = df[['Row19_Q1','Row19_Q2','Row19_Q3','Row19_Q4']].mean(axis = 1)"
   ]
  },
  {
   "cell_type": "code",
   "execution_count": 34,
   "id": "19cc7e99",
   "metadata": {},
   "outputs": [
    {
     "data": {
      "text/plain": [
       "[['Row8_Q11',\n",
       "  'Row8_Q12',\n",
       "  'Row8_Q21',\n",
       "  'Row8_Q22',\n",
       "  'Row8_Q31',\n",
       "  'Row8_Q32',\n",
       "  'Row8_Q41',\n",
       "  'Row8_Q42',\n",
       "  'Row9_Q11',\n",
       "  'Row9_Q12',\n",
       "  'Row9_Q21',\n",
       "  'Row9_Q22',\n",
       "  'Row9_Q31',\n",
       "  'Row9_Q32',\n",
       "  'Row9_Q41',\n",
       "  'Row9_Q42',\n",
       "  'Row10_Q11',\n",
       "  'Row10_Q12',\n",
       "  'Row10_Q13',\n",
       "  'Row10_Q14',\n",
       "  'Row10_Q21',\n",
       "  'Row10_Q22',\n",
       "  'Row10_Q23',\n",
       "  'Row10_Q31',\n",
       "  'Row10_Q32',\n",
       "  'Row10_Q33',\n",
       "  'Row10_Q34',\n",
       "  'Row10_Q41',\n",
       "  'Row10_Q42',\n",
       "  'Row10_Q43',\n",
       "  'Row10_Q44',\n",
       "  'Row11_Q11',\n",
       "  'Row11_Q12',\n",
       "  'Row11_Q21',\n",
       "  'Row11_Q22',\n",
       "  'Row11_Q31',\n",
       "  'Row11_Q32',\n",
       "  'Row11_Q41',\n",
       "  'Row11_Q42',\n",
       "  'Row12_Q11',\n",
       "  'Row12_Q12',\n",
       "  'Row12_Q21',\n",
       "  'Row12_Q22',\n",
       "  'Row12_Q31',\n",
       "  'Row12_Q32',\n",
       "  'Row12_Q41',\n",
       "  'Row12_Q42',\n",
       "  'Row13_Q11',\n",
       "  'Row13_Q12',\n",
       "  'Row13_Q21',\n",
       "  'Row13_Q22',\n",
       "  'Row13_Q31',\n",
       "  'Row13_Q32',\n",
       "  'Row13_Q41',\n",
       "  'Row13_Q42',\n",
       "  'Row14_Q11',\n",
       "  'Row14_Q12',\n",
       "  'Row14_Q21',\n",
       "  'Row14_Q22',\n",
       "  'Row14_Q31',\n",
       "  'Row14_Q32',\n",
       "  'Row14_Q41',\n",
       "  'Row14_Q42',\n",
       "  'Row15_Q11',\n",
       "  'Row15_Q12',\n",
       "  'Row15_Q21',\n",
       "  'Row15_Q22',\n",
       "  'Row15_Q31',\n",
       "  'Row15_Q32',\n",
       "  'Row15_Q41',\n",
       "  'Row15_Q42',\n",
       "  'Row16_Q11',\n",
       "  'Row16_Q12',\n",
       "  'Row16_Q21',\n",
       "  'Row16_Q22',\n",
       "  'Row16_Q31',\n",
       "  'Row16_Q32',\n",
       "  'Row16_Q41',\n",
       "  'Row16_Q42',\n",
       "  'Row17_Q11',\n",
       "  'Row17_Q12',\n",
       "  'Row17_Q22',\n",
       "  'Row17_Q31',\n",
       "  'Row17_Q32',\n",
       "  'Row17_Q41',\n",
       "  'Row17_Q42',\n",
       "  'Row18_Q11',\n",
       "  'Row18_Q12',\n",
       "  'Row18_Q21',\n",
       "  'Row18_Q22',\n",
       "  'Row18_Q31',\n",
       "  'Row18_Q32',\n",
       "  'Row18_Q41',\n",
       "  'Row18_Q42',\n",
       "  'Row19_Q1',\n",
       "  'Row19_Q2',\n",
       "  'Row19_Q3',\n",
       "  'Row19_Q4']]"
      ]
     },
     "execution_count": 34,
     "metadata": {},
     "output_type": "execute_result"
    }
   ],
   "source": [
    "[['Row8_Q11','Row8_Q12','Row8_Q21','Row8_Q22','Row8_Q31','Row8_Q32','Row8_Q41','Row8_Q42','Row9_Q11','Row9_Q12','Row9_Q21' ,'Row9_Q22','Row9_Q31','Row9_Q32','Row9_Q41','Row9_Q42','Row10_Q11','Row10_Q12','Row10_Q13','Row10_Q14','Row10_Q21','Row10_Q22','Row10_Q23','Row10_Q31','Row10_Q32', 'Row10_Q33','Row10_Q34','Row10_Q41','Row10_Q42','Row10_Q43','Row10_Q44','Row11_Q11','Row11_Q12','Row11_Q21','Row11_Q22','Row11_Q31','Row11_Q32','Row11_Q41','Row11_Q42','Row12_Q11','Row12_Q12','Row12_Q21','Row12_Q22','Row12_Q31','Row12_Q32','Row12_Q41','Row12_Q42','Row13_Q11','Row13_Q12','Row13_Q21','Row13_Q22','Row13_Q31','Row13_Q32','Row13_Q41','Row13_Q42','Row14_Q11','Row14_Q12','Row14_Q21','Row14_Q22','Row14_Q31','Row14_Q32','Row14_Q41','Row14_Q42','Row15_Q11','Row15_Q12','Row15_Q21','Row15_Q22','Row15_Q31','Row15_Q32','Row15_Q41','Row15_Q42','Row16_Q11','Row16_Q12','Row16_Q21','Row16_Q22','Row16_Q31','Row16_Q32','Row16_Q41','Row16_Q42','Row17_Q11','Row17_Q12','Row17_Q22','Row17_Q31','Row17_Q32','Row17_Q41','Row17_Q42','Row18_Q11','Row18_Q12','Row18_Q21','Row18_Q22','Row18_Q31','Row18_Q32','Row18_Q41','Row18_Q42','Row19_Q1','Row19_Q2','Row19_Q3','Row19_Q4']]"
   ]
  },
  {
   "cell_type": "markdown",
   "id": "50c69a21",
   "metadata": {},
   "source": [
    "# Pressure sensors"
   ]
  },
  {
   "cell_type": "markdown",
   "id": "5c769ff9",
   "metadata": {},
   "source": [
    "### PT 520-523"
   ]
  },
  {
   "cell_type": "code",
   "execution_count": 35,
   "id": "a7e05b5d",
   "metadata": {},
   "outputs": [],
   "source": [
    "df['PT_520_523_avg'] = df[['BA1_KU_PT520_NM','BA1_KU_PT521_NM','BA1_KU_PT522_NM','BA1_KU_PT523_NM']].mean(axis=1)"
   ]
  },
  {
   "cell_type": "code",
   "execution_count": 36,
   "id": "e0c06587",
   "metadata": {},
   "outputs": [],
   "source": [
    "df['PT_520_523_std'] = df[['BA1_KU_PT520_NM','BA1_KU_PT521_NM','BA1_KU_PT522_NM','BA1_KU_PT523_NM']].std(axis=1)"
   ]
  },
  {
   "cell_type": "markdown",
   "id": "8e6a466d",
   "metadata": {},
   "source": [
    "### PT 524-527"
   ]
  },
  {
   "cell_type": "code",
   "execution_count": 37,
   "id": "49988cd1",
   "metadata": {},
   "outputs": [],
   "source": [
    "df['PT_524_527_avg'] = df[['BA1_KU_PT524_NM','BA1_KU_PT525_NM','BA1_KU_PT526_NM','BA1_KU_PT527_NM']].mean(axis=1)"
   ]
  },
  {
   "cell_type": "code",
   "execution_count": 38,
   "id": "99353e8a",
   "metadata": {},
   "outputs": [],
   "source": [
    "df['PT_524_527_std'] = df[['BA1_KU_PT524_NM','BA1_KU_PT525_NM','BA1_KU_PT526_NM','BA1_KU_PT527_NM']].std(axis=1)"
   ]
  },
  {
   "cell_type": "markdown",
   "id": "d7c7a296",
   "metadata": {},
   "source": [
    "### PT 528-531"
   ]
  },
  {
   "cell_type": "code",
   "execution_count": 39,
   "id": "da9a14f4",
   "metadata": {},
   "outputs": [],
   "source": [
    "df['PT_528_531_avg'] = df[['BA1_KU_PT528_NM','BA1_KU_PT529_NM','BA1_KU_PT530_NM','BA1_KU_PT531_NM']].mean(axis = 1)"
   ]
  },
  {
   "cell_type": "code",
   "execution_count": 40,
   "id": "b5a1c289",
   "metadata": {},
   "outputs": [],
   "source": [
    "df['PT_528_531_std'] = df[['BA1_KU_PT528_NM','BA1_KU_PT529_NM','BA1_KU_PT530_NM','BA1_KU_PT531_NM']].std(axis = 1)"
   ]
  },
  {
   "cell_type": "markdown",
   "id": "fa94fc33",
   "metadata": {},
   "source": [
    "### PT 532 - 535"
   ]
  },
  {
   "cell_type": "code",
   "execution_count": 41,
   "id": "d177ca98",
   "metadata": {},
   "outputs": [],
   "source": [
    "df['PT_532_535_avg'] = df[['BA1_KU_PT532_NM','BA1_KU_PT533_NM','BA1_KU_PT534_NM','BA1_KU_PT535_NM']].mean(axis = 1)"
   ]
  },
  {
   "cell_type": "code",
   "execution_count": 42,
   "id": "0ec0175e",
   "metadata": {},
   "outputs": [],
   "source": [
    "df['PT_532_535_std'] = df[['BA1_KU_PT532_NM','BA1_KU_PT533_NM','BA1_KU_PT534_NM','BA1_KU_PT535_NM']].std(axis = 1)"
   ]
  },
  {
   "cell_type": "markdown",
   "id": "61750b19",
   "metadata": {},
   "source": [
    "### PT 536 - 539"
   ]
  },
  {
   "cell_type": "code",
   "execution_count": 43,
   "id": "8d41046f",
   "metadata": {},
   "outputs": [],
   "source": [
    "df['PT_536_539_avg'] = df [['BA1_KU_PT536_NM','BA1_KU_PT537_NM','BA1_KU_PT538_NM','BA1_KU_PT539_NM']].mean(axis = 1)"
   ]
  },
  {
   "cell_type": "code",
   "execution_count": 44,
   "id": "fc8d000e",
   "metadata": {},
   "outputs": [],
   "source": [
    "df['PT_536_539_std'] = df [['BA1_KU_PT536_NM','BA1_KU_PT537_NM','BA1_KU_PT538_NM','BA1_KU_PT539_NM']].std(axis = 1)"
   ]
  },
  {
   "cell_type": "markdown",
   "id": "1e48d547",
   "metadata": {},
   "source": [
    "# Pressure sensors quradantwise std deviation"
   ]
  },
  {
   "cell_type": "code",
   "execution_count": 45,
   "id": "0db4f297",
   "metadata": {},
   "outputs": [],
   "source": [
    "df['PT_Q1_std'] = df[['BA1_KU_PT520_NM','BA1_KU_PT524_NM','BA1_KU_PT528_NM','BA1_KU_PT532_NM','BA1_KU_PT536_NM']].std(axis = 1)"
   ]
  },
  {
   "cell_type": "code",
   "execution_count": 46,
   "id": "3fd4ebcd",
   "metadata": {},
   "outputs": [],
   "source": [
    "df['PT_Q2_std'] = df[['BA1_KU_PT521_NM','BA1_KU_PT525_NM','BA1_KU_PT529_NM','BA1_KU_PT533_NM','BA1_KU_PT537_NM']].std(axis = 1)"
   ]
  },
  {
   "cell_type": "code",
   "execution_count": 47,
   "id": "ba9b7f48",
   "metadata": {},
   "outputs": [],
   "source": [
    "df['PT_Q3_std'] = df[['BA1_KU_PT522_NM','BA1_KU_PT526_NM','BA1_KU_PT530_NM','BA1_KU_PT534_NM','BA1_KU_PT538_NM']].std(axis = 1)"
   ]
  },
  {
   "cell_type": "code",
   "execution_count": 48,
   "id": "1aba5e34",
   "metadata": {},
   "outputs": [],
   "source": [
    "df['PT_Q4_std'] = df[['BA1_KU_PT523_NM','BA1_KU_PT527_NM','BA1_KU_PT531_NM','BA1_KU_PT535_NM','BA1_KU_PT539_NM']].std(axis = 1)"
   ]
  },
  {
   "cell_type": "markdown",
   "id": "123cc7b6",
   "metadata": {},
   "source": [
    "dp = df[['BA1_KU_PT520_NM','BA1_KU_PT524_NM','BA1_KU_PT528_NM','BA1_KU_PT532_NM','BA1_KU_PT536_NM','BA1_KU_PT521_NM','BA1_KU_PT525_NM','BA1_KU_PT529_NM','BA1_KU_PT533_NM','BA1_KU_PT537_NM','BA1_KU_PT522_NM','BA1_KU_PT526_NM','BA1_KU_PT530_NM','BA1_KU_PT534_NM','BA1_KU_PT538_NM','BA1_KU_PT523_NM','BA1_KU_PT527_NM','BA1_KU_PT531_NM','BA1_KU_PT535_NM','BA1_KU_PT539_NM']]"
   ]
  },
  {
   "cell_type": "markdown",
   "id": "94faf472",
   "metadata": {},
   "source": [
    "# Heat loss"
   ]
  },
  {
   "cell_type": "code",
   "execution_count": 49,
   "id": "c4d17594",
   "metadata": {},
   "outputs": [],
   "source": [
    "df['Heat_loss_std'] = df[['QUAD1_Heat_loss','QUAD2_Heat_loss','QUAD3_Heat_loss','QUAD4_Heat_loss']].std(axis = 1)"
   ]
  },
  {
   "cell_type": "markdown",
   "id": "e441c8b2",
   "metadata": {},
   "source": [
    "# DP calculations "
   ]
  },
  {
   "cell_type": "code",
   "execution_count": 50,
   "id": "b1c2ac03",
   "metadata": {},
   "outputs": [
    {
     "data": {
      "text/html": [
       "<div>\n",
       "<style scoped>\n",
       "    .dataframe tbody tr th:only-of-type {\n",
       "        vertical-align: middle;\n",
       "    }\n",
       "\n",
       "    .dataframe tbody tr th {\n",
       "        vertical-align: top;\n",
       "    }\n",
       "\n",
       "    .dataframe thead th {\n",
       "        text-align: right;\n",
       "    }\n",
       "</style>\n",
       "<table border=\"1\" class=\"dataframe\">\n",
       "  <thead>\n",
       "    <tr style=\"text-align: right;\">\n",
       "      <th></th>\n",
       "      <th>Date</th>\n",
       "      <th>Channelling</th>\n",
       "      <th>Hot_Blast_Vol</th>\n",
       "      <th>Hot_Blast_Press</th>\n",
       "      <th>FTP</th>\n",
       "      <th>Steam_Inj</th>\n",
       "      <th>Oxygen_Flow</th>\n",
       "      <th>Blast_Moist</th>\n",
       "      <th>Coal_Inj</th>\n",
       "      <th>Coal_Actual</th>\n",
       "      <th>...</th>\n",
       "      <th>PT_528_531_std</th>\n",
       "      <th>PT_532_535_avg</th>\n",
       "      <th>PT_532_535_std</th>\n",
       "      <th>PT_536_539_avg</th>\n",
       "      <th>PT_536_539_std</th>\n",
       "      <th>PT_Q1_std</th>\n",
       "      <th>PT_Q2_std</th>\n",
       "      <th>PT_Q3_std</th>\n",
       "      <th>PT_Q4_std</th>\n",
       "      <th>Heat_loss_std</th>\n",
       "    </tr>\n",
       "  </thead>\n",
       "  <tbody>\n",
       "    <tr>\n",
       "      <th>0</th>\n",
       "      <td>2018-06-01 00:00:00</td>\n",
       "      <td>0</td>\n",
       "      <td>291314.141460</td>\n",
       "      <td>2.358719</td>\n",
       "      <td>1.305764</td>\n",
       "      <td>1.794598</td>\n",
       "      <td>0.000000</td>\n",
       "      <td>25.167840</td>\n",
       "      <td>0.0</td>\n",
       "      <td>0.000000</td>\n",
       "      <td>...</td>\n",
       "      <td>0.411884</td>\n",
       "      <td>1.825356</td>\n",
       "      <td>0.042057</td>\n",
       "      <td>1.884097</td>\n",
       "      <td>0.029293</td>\n",
       "      <td>0.120956</td>\n",
       "      <td>0.145853</td>\n",
       "      <td>0.424997</td>\n",
       "      <td>0.164929</td>\n",
       "      <td>1.397283</td>\n",
       "    </tr>\n",
       "    <tr>\n",
       "      <th>1</th>\n",
       "      <td>2018-06-01 00:10:00</td>\n",
       "      <td>0</td>\n",
       "      <td>296994.243475</td>\n",
       "      <td>2.465952</td>\n",
       "      <td>1.308096</td>\n",
       "      <td>1.792718</td>\n",
       "      <td>0.000000</td>\n",
       "      <td>25.040695</td>\n",
       "      <td>0.0</td>\n",
       "      <td>0.000000</td>\n",
       "      <td>...</td>\n",
       "      <td>0.393700</td>\n",
       "      <td>1.893880</td>\n",
       "      <td>0.042830</td>\n",
       "      <td>2.050559</td>\n",
       "      <td>0.079464</td>\n",
       "      <td>0.210011</td>\n",
       "      <td>0.157428</td>\n",
       "      <td>0.425095</td>\n",
       "      <td>0.255437</td>\n",
       "      <td>1.539735</td>\n",
       "    </tr>\n",
       "    <tr>\n",
       "      <th>2</th>\n",
       "      <td>2018-06-01 00:20:00</td>\n",
       "      <td>0</td>\n",
       "      <td>327925.318529</td>\n",
       "      <td>2.829154</td>\n",
       "      <td>1.589956</td>\n",
       "      <td>3.948594</td>\n",
       "      <td>0.000000</td>\n",
       "      <td>30.918612</td>\n",
       "      <td>0.0</td>\n",
       "      <td>0.000000</td>\n",
       "      <td>...</td>\n",
       "      <td>0.506011</td>\n",
       "      <td>2.213217</td>\n",
       "      <td>0.033533</td>\n",
       "      <td>2.267714</td>\n",
       "      <td>0.025628</td>\n",
       "      <td>0.173254</td>\n",
       "      <td>0.153403</td>\n",
       "      <td>0.516554</td>\n",
       "      <td>0.194810</td>\n",
       "      <td>1.785631</td>\n",
       "    </tr>\n",
       "    <tr>\n",
       "      <th>3</th>\n",
       "      <td>2018-06-01 00:30:00</td>\n",
       "      <td>0</td>\n",
       "      <td>334864.588813</td>\n",
       "      <td>2.947168</td>\n",
       "      <td>1.671134</td>\n",
       "      <td>5.225084</td>\n",
       "      <td>0.000000</td>\n",
       "      <td>34.702425</td>\n",
       "      <td>0.0</td>\n",
       "      <td>0.000000</td>\n",
       "      <td>...</td>\n",
       "      <td>0.507155</td>\n",
       "      <td>2.300787</td>\n",
       "      <td>0.029457</td>\n",
       "      <td>2.454911</td>\n",
       "      <td>0.069623</td>\n",
       "      <td>0.204915</td>\n",
       "      <td>0.177879</td>\n",
       "      <td>0.510954</td>\n",
       "      <td>0.249852</td>\n",
       "      <td>1.825133</td>\n",
       "    </tr>\n",
       "    <tr>\n",
       "      <th>4</th>\n",
       "      <td>2018-06-01 00:40:00</td>\n",
       "      <td>0</td>\n",
       "      <td>336993.350112</td>\n",
       "      <td>2.956800</td>\n",
       "      <td>1.667515</td>\n",
       "      <td>7.238677</td>\n",
       "      <td>492.171920</td>\n",
       "      <td>40.468882</td>\n",
       "      <td>0.0</td>\n",
       "      <td>0.000000</td>\n",
       "      <td>...</td>\n",
       "      <td>0.460919</td>\n",
       "      <td>2.302855</td>\n",
       "      <td>0.035536</td>\n",
       "      <td>2.384792</td>\n",
       "      <td>0.024281</td>\n",
       "      <td>0.188738</td>\n",
       "      <td>0.183612</td>\n",
       "      <td>0.470688</td>\n",
       "      <td>0.194931</td>\n",
       "      <td>1.700715</td>\n",
       "    </tr>\n",
       "    <tr>\n",
       "      <th>...</th>\n",
       "      <td>...</td>\n",
       "      <td>...</td>\n",
       "      <td>...</td>\n",
       "      <td>...</td>\n",
       "      <td>...</td>\n",
       "      <td>...</td>\n",
       "      <td>...</td>\n",
       "      <td>...</td>\n",
       "      <td>...</td>\n",
       "      <td>...</td>\n",
       "      <td>...</td>\n",
       "      <td>...</td>\n",
       "      <td>...</td>\n",
       "      <td>...</td>\n",
       "      <td>...</td>\n",
       "      <td>...</td>\n",
       "      <td>...</td>\n",
       "      <td>...</td>\n",
       "      <td>...</td>\n",
       "      <td>...</td>\n",
       "      <td>...</td>\n",
       "    </tr>\n",
       "    <tr>\n",
       "      <th>8779</th>\n",
       "      <td>2018-07-31 23:10:00</td>\n",
       "      <td>0</td>\n",
       "      <td>380426.550979</td>\n",
       "      <td>3.273984</td>\n",
       "      <td>1.888153</td>\n",
       "      <td>14.688301</td>\n",
       "      <td>14420.427428</td>\n",
       "      <td>62.210423</td>\n",
       "      <td>82.0</td>\n",
       "      <td>79.010596</td>\n",
       "      <td>...</td>\n",
       "      <td>0.004342</td>\n",
       "      <td>2.303579</td>\n",
       "      <td>0.051926</td>\n",
       "      <td>2.378991</td>\n",
       "      <td>0.046582</td>\n",
       "      <td>0.119865</td>\n",
       "      <td>0.071776</td>\n",
       "      <td>0.067249</td>\n",
       "      <td>0.101154</td>\n",
       "      <td>1.764955</td>\n",
       "    </tr>\n",
       "    <tr>\n",
       "      <th>8780</th>\n",
       "      <td>2018-07-31 23:20:00</td>\n",
       "      <td>0</td>\n",
       "      <td>379231.369970</td>\n",
       "      <td>3.279995</td>\n",
       "      <td>1.887348</td>\n",
       "      <td>13.447530</td>\n",
       "      <td>14317.100824</td>\n",
       "      <td>60.517869</td>\n",
       "      <td>82.0</td>\n",
       "      <td>82.534099</td>\n",
       "      <td>...</td>\n",
       "      <td>0.011458</td>\n",
       "      <td>2.296144</td>\n",
       "      <td>0.041760</td>\n",
       "      <td>2.358549</td>\n",
       "      <td>0.066698</td>\n",
       "      <td>0.127016</td>\n",
       "      <td>0.067461</td>\n",
       "      <td>0.067526</td>\n",
       "      <td>0.065408</td>\n",
       "      <td>1.970793</td>\n",
       "    </tr>\n",
       "    <tr>\n",
       "      <th>8781</th>\n",
       "      <td>2018-07-31 23:30:00</td>\n",
       "      <td>0</td>\n",
       "      <td>357639.016884</td>\n",
       "      <td>3.238955</td>\n",
       "      <td>1.883534</td>\n",
       "      <td>14.578729</td>\n",
       "      <td>13763.905952</td>\n",
       "      <td>65.015972</td>\n",
       "      <td>82.0</td>\n",
       "      <td>86.154869</td>\n",
       "      <td>...</td>\n",
       "      <td>0.000927</td>\n",
       "      <td>2.283660</td>\n",
       "      <td>0.052130</td>\n",
       "      <td>2.348265</td>\n",
       "      <td>0.037154</td>\n",
       "      <td>0.110286</td>\n",
       "      <td>0.069805</td>\n",
       "      <td>0.065529</td>\n",
       "      <td>0.097700</td>\n",
       "      <td>2.065928</td>\n",
       "    </tr>\n",
       "    <tr>\n",
       "      <th>8782</th>\n",
       "      <td>2018-07-31 23:40:00</td>\n",
       "      <td>0</td>\n",
       "      <td>361061.608012</td>\n",
       "      <td>3.235317</td>\n",
       "      <td>1.880723</td>\n",
       "      <td>16.097588</td>\n",
       "      <td>13301.209371</td>\n",
       "      <td>68.265962</td>\n",
       "      <td>82.0</td>\n",
       "      <td>81.238592</td>\n",
       "      <td>...</td>\n",
       "      <td>0.008578</td>\n",
       "      <td>2.289523</td>\n",
       "      <td>0.082556</td>\n",
       "      <td>2.308483</td>\n",
       "      <td>0.040469</td>\n",
       "      <td>0.127695</td>\n",
       "      <td>0.064494</td>\n",
       "      <td>0.064060</td>\n",
       "      <td>0.061886</td>\n",
       "      <td>2.151831</td>\n",
       "    </tr>\n",
       "    <tr>\n",
       "      <th>8783</th>\n",
       "      <td>2018-07-31 23:50:00</td>\n",
       "      <td>0</td>\n",
       "      <td>382423.034970</td>\n",
       "      <td>3.268004</td>\n",
       "      <td>1.884283</td>\n",
       "      <td>15.912728</td>\n",
       "      <td>14292.879009</td>\n",
       "      <td>64.923918</td>\n",
       "      <td>82.0</td>\n",
       "      <td>79.671569</td>\n",
       "      <td>...</td>\n",
       "      <td>0.002789</td>\n",
       "      <td>2.317654</td>\n",
       "      <td>0.120190</td>\n",
       "      <td>2.341728</td>\n",
       "      <td>0.038706</td>\n",
       "      <td>0.155553</td>\n",
       "      <td>0.069543</td>\n",
       "      <td>0.064390</td>\n",
       "      <td>0.097442</td>\n",
       "      <td>3.049086</td>\n",
       "    </tr>\n",
       "  </tbody>\n",
       "</table>\n",
       "<p>8784 rows × 241 columns</p>\n",
       "</div>"
      ],
      "text/plain": [
       "                    Date  Channelling  Hot_Blast_Vol  Hot_Blast_Press  \\\n",
       "0    2018-06-01 00:00:00            0  291314.141460         2.358719   \n",
       "1    2018-06-01 00:10:00            0  296994.243475         2.465952   \n",
       "2    2018-06-01 00:20:00            0  327925.318529         2.829154   \n",
       "3    2018-06-01 00:30:00            0  334864.588813         2.947168   \n",
       "4    2018-06-01 00:40:00            0  336993.350112         2.956800   \n",
       "...                  ...          ...            ...              ...   \n",
       "8779 2018-07-31 23:10:00            0  380426.550979         3.273984   \n",
       "8780 2018-07-31 23:20:00            0  379231.369970         3.279995   \n",
       "8781 2018-07-31 23:30:00            0  357639.016884         3.238955   \n",
       "8782 2018-07-31 23:40:00            0  361061.608012         3.235317   \n",
       "8783 2018-07-31 23:50:00            0  382423.034970         3.268004   \n",
       "\n",
       "           FTP  Steam_Inj   Oxygen_Flow  Blast_Moist  Coal_Inj  Coal_Actual  \\\n",
       "0     1.305764   1.794598      0.000000    25.167840       0.0     0.000000   \n",
       "1     1.308096   1.792718      0.000000    25.040695       0.0     0.000000   \n",
       "2     1.589956   3.948594      0.000000    30.918612       0.0     0.000000   \n",
       "3     1.671134   5.225084      0.000000    34.702425       0.0     0.000000   \n",
       "4     1.667515   7.238677    492.171920    40.468882       0.0     0.000000   \n",
       "...        ...        ...           ...          ...       ...          ...   \n",
       "8779  1.888153  14.688301  14420.427428    62.210423      82.0    79.010596   \n",
       "8780  1.887348  13.447530  14317.100824    60.517869      82.0    82.534099   \n",
       "8781  1.883534  14.578729  13763.905952    65.015972      82.0    86.154869   \n",
       "8782  1.880723  16.097588  13301.209371    68.265962      82.0    81.238592   \n",
       "8783  1.884283  15.912728  14292.879009    64.923918      82.0    79.671569   \n",
       "\n",
       "      ...  PT_528_531_std  PT_532_535_avg  PT_532_535_std  PT_536_539_avg  \\\n",
       "0     ...        0.411884        1.825356        0.042057        1.884097   \n",
       "1     ...        0.393700        1.893880        0.042830        2.050559   \n",
       "2     ...        0.506011        2.213217        0.033533        2.267714   \n",
       "3     ...        0.507155        2.300787        0.029457        2.454911   \n",
       "4     ...        0.460919        2.302855        0.035536        2.384792   \n",
       "...   ...             ...             ...             ...             ...   \n",
       "8779  ...        0.004342        2.303579        0.051926        2.378991   \n",
       "8780  ...        0.011458        2.296144        0.041760        2.358549   \n",
       "8781  ...        0.000927        2.283660        0.052130        2.348265   \n",
       "8782  ...        0.008578        2.289523        0.082556        2.308483   \n",
       "8783  ...        0.002789        2.317654        0.120190        2.341728   \n",
       "\n",
       "      PT_536_539_std  PT_Q1_std  PT_Q2_std PT_Q3_std PT_Q4_std Heat_loss_std  \n",
       "0           0.029293   0.120956   0.145853  0.424997  0.164929      1.397283  \n",
       "1           0.079464   0.210011   0.157428  0.425095  0.255437      1.539735  \n",
       "2           0.025628   0.173254   0.153403  0.516554  0.194810      1.785631  \n",
       "3           0.069623   0.204915   0.177879  0.510954  0.249852      1.825133  \n",
       "4           0.024281   0.188738   0.183612  0.470688  0.194931      1.700715  \n",
       "...              ...        ...        ...       ...       ...           ...  \n",
       "8779        0.046582   0.119865   0.071776  0.067249  0.101154      1.764955  \n",
       "8780        0.066698   0.127016   0.067461  0.067526  0.065408      1.970793  \n",
       "8781        0.037154   0.110286   0.069805  0.065529  0.097700      2.065928  \n",
       "8782        0.040469   0.127695   0.064494  0.064060  0.061886      2.151831  \n",
       "8783        0.038706   0.155553   0.069543  0.064390  0.097442      3.049086  \n",
       "\n",
       "[8784 rows x 241 columns]"
      ]
     },
     "execution_count": 50,
     "metadata": {},
     "output_type": "execute_result"
    }
   ],
   "source": [
    "df"
   ]
  },
  {
   "cell_type": "code",
   "execution_count": 51,
   "id": "c5d9d076",
   "metadata": {},
   "outputs": [],
   "source": [
    "df['diff_pressure'] = df.Hot_Blast_Press - df.FTP"
   ]
  },
  {
   "cell_type": "code",
   "execution_count": 52,
   "id": "ee19a023",
   "metadata": {},
   "outputs": [
    {
     "data": {
      "text/plain": [
       "0       1.052955\n",
       "1       1.157856\n",
       "2       1.239198\n",
       "3       1.276034\n",
       "4       1.289285\n",
       "          ...   \n",
       "8779    1.385831\n",
       "8780    1.392646\n",
       "8781    1.355421\n",
       "8782    1.354594\n",
       "8783    1.383722\n",
       "Name: diff_pressure, Length: 8784, dtype: float64"
      ]
     },
     "execution_count": 52,
     "metadata": {},
     "output_type": "execute_result"
    }
   ],
   "source": [
    "df['diff_pressure']"
   ]
  },
  {
   "cell_type": "markdown",
   "id": "f1ccf9e2",
   "metadata": {},
   "source": [
    "# Quadrant wise Row temperature "
   ]
  },
  {
   "cell_type": "markdown",
   "id": "56e4968d",
   "metadata": {},
   "source": [
    "# Row 8"
   ]
  },
  {
   "cell_type": "code",
   "execution_count": 53,
   "id": "80a915cc",
   "metadata": {},
   "outputs": [],
   "source": [
    "df['Row8_Q1'] = df[['Row8_Q11','Row8_Q12']].mean(axis = 1)"
   ]
  },
  {
   "cell_type": "code",
   "execution_count": 54,
   "id": "33bc1e4e",
   "metadata": {},
   "outputs": [],
   "source": [
    "df['Row8_Q2'] = df[['Row8_Q21','Row8_Q22']].mean(axis = 1)"
   ]
  },
  {
   "cell_type": "code",
   "execution_count": 55,
   "id": "a74e94f7",
   "metadata": {},
   "outputs": [],
   "source": [
    "df['Row8_Q3'] = df[['Row8_Q31','Row8_Q32']].mean(axis = 1)"
   ]
  },
  {
   "cell_type": "code",
   "execution_count": 56,
   "id": "bd660b59",
   "metadata": {},
   "outputs": [],
   "source": [
    "df['Row8_Q4'] = df[['Row8_Q41','Row8_Q42']].mean(axis = 1)"
   ]
  },
  {
   "cell_type": "markdown",
   "id": "81d824c3",
   "metadata": {},
   "source": [
    "'Row8_Q11' ,'Row8_Q21','Row8_Q31','Row8_Q41'"
   ]
  },
  {
   "cell_type": "markdown",
   "id": "a7014ad0",
   "metadata": {},
   "source": [
    "# Row 9"
   ]
  },
  {
   "cell_type": "code",
   "execution_count": 57,
   "id": "64bbcce0",
   "metadata": {},
   "outputs": [],
   "source": [
    "df['Row9_Q1'] = df[['Row9_Q11','Row9_Q12']].mean(axis = 1)"
   ]
  },
  {
   "cell_type": "code",
   "execution_count": 58,
   "id": "0d962fc0",
   "metadata": {},
   "outputs": [],
   "source": [
    "df['Row9_Q2'] = df[['Row9_Q21','Row9_Q22']].mean(axis = 1)"
   ]
  },
  {
   "cell_type": "code",
   "execution_count": 59,
   "id": "4ee9404e",
   "metadata": {},
   "outputs": [],
   "source": [
    "df['Row9_Q3'] = df[['Row9_Q31','Row9_Q32']].mean(axis = 1)"
   ]
  },
  {
   "cell_type": "code",
   "execution_count": 60,
   "id": "b5c49c8f",
   "metadata": {},
   "outputs": [],
   "source": [
    "df['Row9_Q4'] = df[['Row9_Q41','Row9_Q42']].mean(axis = 1)"
   ]
  },
  {
   "cell_type": "code",
   "execution_count": null,
   "id": "be287df1",
   "metadata": {},
   "outputs": [],
   "source": []
  },
  {
   "cell_type": "markdown",
   "id": "6e30ee1a",
   "metadata": {},
   "source": [
    "'Row9_Q11' ,'Row9_Q21','Row9_Q31','Row9_Q41'"
   ]
  },
  {
   "cell_type": "markdown",
   "id": "54951022",
   "metadata": {},
   "source": [
    "#  Row 10"
   ]
  },
  {
   "cell_type": "code",
   "execution_count": 61,
   "id": "85272c77",
   "metadata": {},
   "outputs": [],
   "source": [
    "df['Row10_Q1'] = df[['Row10_Q11','Row10_Q12']].mean(axis = 1)"
   ]
  },
  {
   "cell_type": "code",
   "execution_count": 62,
   "id": "18fd0638",
   "metadata": {},
   "outputs": [],
   "source": [
    "df['Row10_Q2'] = df[['Row10_Q21','Row10_Q22']].mean(axis = 1)"
   ]
  },
  {
   "cell_type": "code",
   "execution_count": 63,
   "id": "ad8f48b9",
   "metadata": {},
   "outputs": [],
   "source": [
    "df['Row10_Q3'] = df[['Row10_Q31','Row10_Q32']].mean(axis = 1)"
   ]
  },
  {
   "cell_type": "code",
   "execution_count": 64,
   "id": "9971f166",
   "metadata": {},
   "outputs": [],
   "source": [
    "df['Row10_Q4'] = df[['Row10_Q41','Row10_Q42']].mean(axis = 1)"
   ]
  },
  {
   "cell_type": "markdown",
   "id": "7a3cb61f",
   "metadata": {},
   "source": [
    "# Row 11"
   ]
  },
  {
   "cell_type": "code",
   "execution_count": 65,
   "id": "960927a1",
   "metadata": {},
   "outputs": [],
   "source": [
    "df['Row11_Q1'] = df[['Row11_Q11','Row11_Q12']].mean(axis = 1)"
   ]
  },
  {
   "cell_type": "code",
   "execution_count": 66,
   "id": "07ab6eb7",
   "metadata": {},
   "outputs": [],
   "source": [
    "df['Row11_Q2'] = df[['Row11_Q21','Row11_Q22']].mean(axis = 1)"
   ]
  },
  {
   "cell_type": "code",
   "execution_count": 67,
   "id": "8ec994d9",
   "metadata": {},
   "outputs": [],
   "source": [
    "df['Row11_Q3'] = df[['Row11_Q31','Row11_Q32']].mean(axis = 1)"
   ]
  },
  {
   "cell_type": "code",
   "execution_count": 68,
   "id": "bbbc59a9",
   "metadata": {},
   "outputs": [],
   "source": [
    "df['Row11_Q4'] = df[['Row11_Q41','Row11_Q42']].mean(axis = 1)"
   ]
  },
  {
   "cell_type": "markdown",
   "id": "3e3b4805",
   "metadata": {},
   "source": [
    "'Row11_Q11' ,'Row11_Q21','Row11_Q31','Row11_Q41'"
   ]
  },
  {
   "cell_type": "markdown",
   "id": "2c2b092c",
   "metadata": {},
   "source": [
    "# Row 12"
   ]
  },
  {
   "cell_type": "code",
   "execution_count": 69,
   "id": "22f75362",
   "metadata": {},
   "outputs": [],
   "source": [
    "df['Row12_Q1'] = df[['Row12_Q11','Row12_Q12']].mean(axis = 1)"
   ]
  },
  {
   "cell_type": "code",
   "execution_count": 70,
   "id": "dc56e8ee",
   "metadata": {},
   "outputs": [],
   "source": [
    "df['Row12_Q2'] = df[['Row12_Q21','Row12_Q22']].mean(axis = 1)"
   ]
  },
  {
   "cell_type": "code",
   "execution_count": 71,
   "id": "aeb58fb8",
   "metadata": {},
   "outputs": [],
   "source": [
    "df['Row12_Q3'] = df[['Row12_Q31','Row12_Q32']].mean(axis = 1)"
   ]
  },
  {
   "cell_type": "code",
   "execution_count": 72,
   "id": "8526abf8",
   "metadata": {},
   "outputs": [],
   "source": [
    "df['Row12_Q4'] = df[['Row12_Q41','Row12_Q42']].mean(axis = 1)"
   ]
  },
  {
   "cell_type": "markdown",
   "id": "0fff2a64",
   "metadata": {},
   "source": [
    "'Row12_Q11' ,'Row12_Q21','Row12_Q31','Row12_Q41'"
   ]
  },
  {
   "cell_type": "markdown",
   "id": "d626d295",
   "metadata": {},
   "source": [
    "# Row 13"
   ]
  },
  {
   "cell_type": "code",
   "execution_count": 73,
   "id": "5051c180",
   "metadata": {},
   "outputs": [],
   "source": [
    "df['Row13_Q1'] = df[['Row13_Q11','Row13_Q12']].mean(axis = 1)"
   ]
  },
  {
   "cell_type": "code",
   "execution_count": 74,
   "id": "2478c13f",
   "metadata": {},
   "outputs": [],
   "source": [
    "df['Row13_Q2'] = df[['Row13_Q21','Row13_Q22']].mean(axis = 1)"
   ]
  },
  {
   "cell_type": "code",
   "execution_count": 75,
   "id": "15ce997c",
   "metadata": {},
   "outputs": [],
   "source": [
    "df['Row13_Q3'] = df[['Row13_Q31','Row13_Q32']].mean(axis = 1)"
   ]
  },
  {
   "cell_type": "code",
   "execution_count": 76,
   "id": "5c83e0f8",
   "metadata": {},
   "outputs": [],
   "source": [
    "df['Row13_Q4'] = df[['Row13_Q41','Row13_Q42']].mean(axis = 1)"
   ]
  },
  {
   "cell_type": "markdown",
   "id": "abdc4dfb",
   "metadata": {},
   "source": [
    "'Row13_Q11' ,'Row13_Q21','Row13_Q31','Row13_Q41'"
   ]
  },
  {
   "cell_type": "markdown",
   "id": "b784c259",
   "metadata": {},
   "source": [
    "# Row 14"
   ]
  },
  {
   "cell_type": "code",
   "execution_count": 77,
   "id": "fa46a913",
   "metadata": {},
   "outputs": [],
   "source": [
    "df['Row14_Q1'] = df[['Row14_Q11','Row14_Q12']].mean(axis = 1)"
   ]
  },
  {
   "cell_type": "code",
   "execution_count": 78,
   "id": "0a3a407a",
   "metadata": {},
   "outputs": [],
   "source": [
    "df['Row14_Q2'] = df[['Row14_Q21','Row14_Q22']].mean(axis = 1)"
   ]
  },
  {
   "cell_type": "code",
   "execution_count": 79,
   "id": "29f6fa4b",
   "metadata": {},
   "outputs": [],
   "source": [
    "df['Row14_Q3'] = df[['Row14_Q31','Row14_Q32']].mean(axis = 1)"
   ]
  },
  {
   "cell_type": "code",
   "execution_count": 80,
   "id": "86d244f9",
   "metadata": {},
   "outputs": [],
   "source": [
    "df['Row14_Q4'] = df[['Row14_Q41','Row14_Q42']].mean(axis = 1)"
   ]
  },
  {
   "cell_type": "markdown",
   "id": "ac0cbff4",
   "metadata": {},
   "source": [
    "'Row14_Q11' ,'Row14_Q21','Row14_Q31','Row14_Q41'"
   ]
  },
  {
   "cell_type": "markdown",
   "id": "6e52d3db",
   "metadata": {},
   "source": [
    "# Row 15"
   ]
  },
  {
   "cell_type": "code",
   "execution_count": 81,
   "id": "a83b651c",
   "metadata": {},
   "outputs": [],
   "source": [
    "df['Row15_Q1'] = df[['Row15_Q11','Row15_Q12']].mean(axis = 1)"
   ]
  },
  {
   "cell_type": "code",
   "execution_count": 82,
   "id": "eaca35a4",
   "metadata": {},
   "outputs": [],
   "source": [
    "df['Row15_Q2'] = df[['Row15_Q21','Row15_Q22']].mean(axis = 1)"
   ]
  },
  {
   "cell_type": "code",
   "execution_count": 83,
   "id": "775f27d0",
   "metadata": {},
   "outputs": [],
   "source": [
    "df['Row15_Q3'] = df[['Row15_Q31','Row15_Q32']].mean(axis = 1)"
   ]
  },
  {
   "cell_type": "code",
   "execution_count": 84,
   "id": "983ac6b5",
   "metadata": {},
   "outputs": [],
   "source": [
    "df['Row15_Q4'] = df[['Row15_Q41','Row15_Q42']].mean(axis = 1)"
   ]
  },
  {
   "cell_type": "markdown",
   "id": "12347865",
   "metadata": {},
   "source": [
    "'Row15_Q11' ,'Row15_Q21','Row15_Q31','Row15_Q41'"
   ]
  },
  {
   "cell_type": "markdown",
   "id": "5ff0c432",
   "metadata": {},
   "source": [
    "# Row 16"
   ]
  },
  {
   "cell_type": "code",
   "execution_count": 85,
   "id": "fd748d33",
   "metadata": {},
   "outputs": [],
   "source": [
    "df['Row16_Q1'] = df[['Row16_Q11','Row16_Q12']].mean(axis = 1)"
   ]
  },
  {
   "cell_type": "code",
   "execution_count": 86,
   "id": "a1f882e3",
   "metadata": {},
   "outputs": [],
   "source": [
    "df['Row16_Q2'] = df[['Row16_Q21','Row16_Q22']].mean(axis = 1)"
   ]
  },
  {
   "cell_type": "code",
   "execution_count": 87,
   "id": "99313c02",
   "metadata": {},
   "outputs": [],
   "source": [
    "df['Row16_Q3'] = df[['Row16_Q31','Row16_Q32']].mean(axis = 1)"
   ]
  },
  {
   "cell_type": "code",
   "execution_count": 88,
   "id": "914e1364",
   "metadata": {},
   "outputs": [],
   "source": [
    "df['Row16_Q4'] = df[['Row16_Q41','Row16_Q42']].mean(axis = 1)"
   ]
  },
  {
   "cell_type": "markdown",
   "id": "72c07c07",
   "metadata": {},
   "source": [
    "'Row16_Q11' ,'Row16_Q21','Row16_Q31','Row16_Q41'"
   ]
  },
  {
   "cell_type": "markdown",
   "id": "34f5036d",
   "metadata": {},
   "source": [
    "# Row 17"
   ]
  },
  {
   "cell_type": "code",
   "execution_count": 89,
   "id": "8f878d4a",
   "metadata": {},
   "outputs": [],
   "source": [
    "df['Row17_Q1'] = df[['Row17_Q11','Row17_Q12']].mean(axis = 1)"
   ]
  },
  {
   "cell_type": "code",
   "execution_count": 90,
   "id": "bbdb019f",
   "metadata": {},
   "outputs": [],
   "source": [
    "df['Row17_Q2'] = df[['Row17_Q21','Row17_Q22']].mean(axis = 1)"
   ]
  },
  {
   "cell_type": "code",
   "execution_count": 91,
   "id": "abd77cac",
   "metadata": {},
   "outputs": [],
   "source": [
    "df['Row17_Q3'] = df[['Row17_Q31','Row17_Q32']].mean(axis = 1)"
   ]
  },
  {
   "cell_type": "code",
   "execution_count": 92,
   "id": "96cb0e61",
   "metadata": {},
   "outputs": [],
   "source": [
    "df['Row17_Q4'] = df[['Row17_Q41','Row17_Q42']].mean(axis = 1)"
   ]
  },
  {
   "cell_type": "markdown",
   "id": "55b7b700",
   "metadata": {},
   "source": [
    "'Row17_Q11' ,'Row17_Q21','Row17_Q31','Row17_Q41'"
   ]
  },
  {
   "cell_type": "markdown",
   "id": "e6c579a5",
   "metadata": {},
   "source": [
    "# Row 18"
   ]
  },
  {
   "cell_type": "code",
   "execution_count": 93,
   "id": "49e3d8a4",
   "metadata": {},
   "outputs": [],
   "source": [
    "df['Row18_Q1'] = df[['Row18_Q11','Row18_Q12']].mean(axis = 1)"
   ]
  },
  {
   "cell_type": "code",
   "execution_count": 94,
   "id": "9ad41bde",
   "metadata": {},
   "outputs": [],
   "source": [
    "df['Row18_Q2'] = df[['Row18_Q21','Row18_Q22']].mean(axis = 1)"
   ]
  },
  {
   "cell_type": "code",
   "execution_count": 95,
   "id": "5ea8b2da",
   "metadata": {},
   "outputs": [],
   "source": [
    "df['Row18_Q3'] = df[['Row18_Q31','Row18_Q32']].mean(axis = 1)"
   ]
  },
  {
   "cell_type": "code",
   "execution_count": 96,
   "id": "067fe445",
   "metadata": {},
   "outputs": [],
   "source": [
    "df['Row18_Q4'] = df[['Row18_Q41','Row18_Q42']].mean(axis = 1)"
   ]
  },
  {
   "cell_type": "markdown",
   "id": "d8ef56f2",
   "metadata": {},
   "source": [
    "'Row18_Q11' ,'Row18_Q21','Row18_Q31','Row18_Q41'"
   ]
  },
  {
   "cell_type": "markdown",
   "id": "8b91bba9",
   "metadata": {},
   "source": [
    "## Row avg vs Qurter avg"
   ]
  },
  {
   "cell_type": "code",
   "execution_count": 97,
   "id": "01688b55",
   "metadata": {},
   "outputs": [],
   "source": [
    "df['Row18_R1'] = df['Row18_avg'] - df['Row18_Q1']"
   ]
  },
  {
   "cell_type": "code",
   "execution_count": 98,
   "id": "0598ef21",
   "metadata": {},
   "outputs": [],
   "source": [
    "df['Row18_R2'] = df['Row18_avg'] - df['Row18_Q2']"
   ]
  },
  {
   "cell_type": "code",
   "execution_count": 99,
   "id": "778c2cb9",
   "metadata": {},
   "outputs": [],
   "source": [
    "df['Row18_R3'] = df['Row18_avg'] - df['Row18_Q3']"
   ]
  },
  {
   "cell_type": "code",
   "execution_count": 100,
   "id": "c625cd4d",
   "metadata": {},
   "outputs": [],
   "source": [
    "df['Row18_R4'] = df['Row18_avg'] - df['Row18_Q4']"
   ]
  },
  {
   "cell_type": "markdown",
   "id": "90429d29",
   "metadata": {},
   "source": [
    "ds = df[['Date','HM_PROD_RATE','ETA_CO','Channelling','Row8_Q1' ,'Row8_Q2','Row8_Q3','Row8_Q4','Row9_Q1' ,'Row9_Q2','Row9_Q3','Row9_Q4','Row10_Q1' ,'Row10_Q2','Row10_Q3','Row10_Q4','Row11_Q1' ,'Row11_Q21','Row11_Q3','Row11_Q4','Row12_Q1' ,'Row12_Q2','Row12_Q3','Row12_Q4','Row13_Q1' ,'Row13_Q2','Row13_Q3','Row13_Q4','Row14_Q1' ,'Row14_Q2','Row14_Q3','Row14_Q4','Row15_Q1' ,'Row15_Q2','Row15_Q3','Row15_Q4','Row16_Q1' ,'Row16_Q2','Row16_Q3','Row16_Q4','Row17_Q1' ,'Row17_Q2','Row17_Q3','Row17_Q4','Row18_Q1' ,'Row18_Q2','Row18_Q3','Row18_Q4']]"
   ]
  },
  {
   "cell_type": "markdown",
   "id": "4c6ee397",
   "metadata": {},
   "source": [
    "ds1 = ds[(ds['HM_PROD_RATE'] > 100) & (ds['HM_PROD_RATE'] < 410) ]"
   ]
  },
  {
   "cell_type": "markdown",
   "id": "f809d23c",
   "metadata": {},
   "source": [
    "ds2 = ds1[(ds1['ETA_CO'] > 0.38) & (ds1['ETA_CO'] < 0.48) ]"
   ]
  },
  {
   "cell_type": "markdown",
   "id": "dbce15e1",
   "metadata": {},
   "source": [
    "sns.boxplot(ds2,x=ds2[\"Channelling\"],y=ds2['Row11_Q4'])\n",
    "plt.xlabel('Channeling', fontsize=20)\n",
    "plt.ylabel('Permeability', fontsize=20)"
   ]
  },
  {
   "cell_type": "markdown",
   "id": "c790d9fc",
   "metadata": {},
   "source": [
    "p0 = ds2.Row11_Q4.min() \n",
    "p100 = ds2.Row11_Q4.max()\n",
    "p25 =  ds2.Row11_Q4.quantile(0.25)\n",
    "p75 = ds2.Row11_Q4.quantile(0.75)\n",
    "iqr = p75 - p25\n",
    "lc = p25 - 1.5 * iqr\n",
    "uc = p75 + 1.5 * iqr"
   ]
  },
  {
   "cell_type": "markdown",
   "id": "a3e90c23",
   "metadata": {},
   "source": [
    "ds2.Row11_Q4.clip(lower = lc, upper = uc, inplace = True)"
   ]
  },
  {
   "cell_type": "markdown",
   "id": "0ad79e16",
   "metadata": {},
   "source": [
    "sns.boxplot(ds2,x=ds2[\"Channelling\"],y=ds2['Row11_Q4'])\n",
    "plt.xlabel('Channeling', fontsize=20)\n",
    "plt.ylabel('Row11_Q4', fontsize=20)\n"
   ]
  },
  {
   "cell_type": "markdown",
   "id": "f5043540",
   "metadata": {},
   "source": [
    "import pandas as pd\n",
    "from scipy import stats\n"
   ]
  },
  {
   "cell_type": "markdown",
   "id": "a1e3070e",
   "metadata": {},
   "source": [
    "columns_to_check = ['Row8_Q1' ,'Row8_Q2','Row8_Q3','Row8_Q4','Row9_Q1' ,'Row9_Q2','Row9_Q3','Row9_Q4','Row10_Q1' ,'Row10_Q2','Row10_Q3','Row10_Q4','Row11_Q1' ,'Row11_Q21','Row11_Q3','Row11_Q4','Row12_Q1' ,'Row12_Q2','Row12_Q3','Row12_Q4','Row13_Q1' ,'Row13_Q2','Row13_Q3','Row13_Q4','Row14_Q1' ,'Row14_Q2','Row14_Q3','Row14_Q4','Row15_Q1' ,'Row15_Q2','Row15_Q3','Row15_Q4','Row16_Q1' ,'Row16_Q2','Row16_Q3','Row16_Q4','Row17_Q1' ,'Row17_Q2','Row17_Q3','Row17_Q4','Row18_Q1' ,'Row18_Q2','Row18_Q3','Row18_Q4']"
   ]
  },
  {
   "cell_type": "markdown",
   "id": "cc716642",
   "metadata": {},
   "source": [
    "## Calculate z-scores\n",
    "z_scores = stats.zscore(ds2[columns_to_check])\n",
    "\n",
    "# Set a threshold for outlier detection\n",
    "threshold = 3\n",
    "\n",
    "# Identify rows without outliers\n",
    "outlier_mask = (abs(z_scores) < threshold).all(axis=1)\n",
    "\n",
    "# Filter the DataFrame based on the outlier mask\n",
    "ds_no_outliers = ds2[outlier_mask]\n",
    "\n",
    "# Display the resulting DataFrame\n",
    "print(ds_no_outliers)"
   ]
  },
  {
   "cell_type": "markdown",
   "id": "1fd4b10e",
   "metadata": {},
   "source": [
    "ds_no_outliers.to_excel(r'C:\\Users\\suraj musale\\OneDrive\\Desktop\\BF data\\no_outliers.xlsx', index=False)"
   ]
  },
  {
   "cell_type": "markdown",
   "id": "0cfad0e6",
   "metadata": {},
   "source": [
    "ds2.to_excel(r'C:\\Users\\suraj musale\\OneDrive\\Desktop\\BF data\\Master data\\allrowtemp.xlsx')"
   ]
  },
  {
   "cell_type": "markdown",
   "id": "69522a04",
   "metadata": {},
   "source": [
    "dp = df[['Date','Channelling','BA1_KU_PT536_NM','BA1_KU_PT537_NM','BA1_KU_PT538_NM','BA1_KU_PT539_NM','BA1_KU_PT528_NM','BA1_KU_PT529_NM','BA1_KU_PT530_NM','BA1_KU_PT531_NM','BA1_KU_PT524_NM','BA1_KU_PT525_NM','BA1_KU_PT526_NM','BA1_KU_PT527_NM','BA1_KU_PT532_NM','BA1_KU_PT533_NM','BA1_KU_PT534_NM','BA1_KU_PT535_NM','BA1_KU_PT520_NM','BA1_KU_PT521_NM','BA1_KU_PT522_NM','BA1_KU_PT523_NM']]"
   ]
  },
  {
   "cell_type": "markdown",
   "id": "d76f29ae",
   "metadata": {},
   "source": [
    "dp.to_excel(r'C:\\Users\\suraj musale\\OneDrive\\Desktop\\BF data\\Master data\\contourplotdata_pt.xlsx')"
   ]
  },
  {
   "cell_type": "markdown",
   "id": "73572350",
   "metadata": {},
   "source": [
    "# Changes in the name of the variables"
   ]
  },
  {
   "cell_type": "markdown",
   "id": "87d7c36e",
   "metadata": {},
   "source": [
    "df['CO_per_Top'] = df['%CO_Top'] \n",
    "df['CO2_per_Top'] = df['%CO2_Top'] \n",
    "df['H2_per_Top'] = df['%H2_Top']\n",
    "df['ETA_CO'] = df['ETA CO']\n",
    "df['O2_cntrl_sp'] = df['O2 Cntrl SP']\n",
    "df['O2_cntrl_mv'] = df['O2 Cntrl MV']\n",
    "df['OXY_RATE'] = df['OXY RATE']\n",
    "df['QUAD1_Heat_loss'] = df['QUAD1_Heat loss']\n",
    "df['QUAD2_Heat_loss'] = df['QUAD2_Heat loss']\n",
    "df['QUAD3_Heat_loss'] = df['QUAD3_Heat loss']\n",
    "df['QUAD4_Heat_loss'] = df['QUAD4_Heat loss']\n",
    "df['Total_Heat_loss'] = df['Total_Heat loss']\n"
   ]
  },
  {
   "cell_type": "markdown",
   "id": "f4b0149c",
   "metadata": {},
   "source": [
    "# Keeping the required variables and dropping others"
   ]
  },
  {
   "cell_type": "markdown",
   "id": "ce12f398",
   "metadata": {},
   "source": [
    "# All Features"
   ]
  },
  {
   "cell_type": "code",
   "execution_count": null,
   "id": "462bbf30",
   "metadata": {},
   "outputs": [],
   "source": []
  },
  {
   "cell_type": "code",
   "execution_count": 101,
   "id": "6f3afd10",
   "metadata": {},
   "outputs": [],
   "source": [
    "df1 = df[['Date','Channelling','Hot_Blast_Vol','Hot_Blast_Press','FTP','diff_pressure','Permeability','Top_Diff_Press','Middle_Diff_Press','Bottom_Diff_Press','ETA_CO','HM_PROD_RATE','QUAD1_Heat_loss','QUAD2_Heat_loss','QUAD3_Heat_loss','QUAD4_Heat_loss','Total_Heat_loss','Heat_loss_std', 'Periphery_Temp_avg' ,'Periphery_Temp_std','Uptake_tem_avg','Uptake_tem_std', 'Row8_avg','Row8_std','Row9_avg','Row9_std','Row10_avg','Row10_std','Row11_avg','Row11_std','Row12_avg','Row12_std' ,'Row13_avg','Row13_std','Row14_avg','Row14_std','Row15_avg','Row15_std','Row16_avg','Row16_std','Row17_avg','Row17_std','Row18_avg','Row18_std','Row19_avg','Row19_std','PT_520_523_avg','PT_520_523_std','PT_524_527_avg','PT_524_527_std','PT_528_531_avg','PT_528_531_std','PT_532_535_avg','PT_532_535_std','PT_536_539_avg','PT_536_539_std','PT_Q1_std','PT_Q2_std','PT_Q3_std','PT_Q4_std']]"
   ]
  },
  {
   "cell_type": "code",
   "execution_count": 102,
   "id": "2f6ec88a",
   "metadata": {},
   "outputs": [],
   "source": [
    "dm = df[['Date','Channelling','ETA_CO','HM_PROD_RATE','Row8_Q11','Row8_Q12','Row8_Q21','Row8_Q22','Row8_Q31','Row8_Q32','Row8_Q41','Row8_Q42','Row9_Q11','Row9_Q12','Row9_Q21' ,'Row9_Q22','Row9_Q31','Row9_Q32','Row9_Q41','Row9_Q42','Row10_Q11','Row10_Q12','Row10_Q13','Row10_Q14','Row10_Q21','Row10_Q22','Row10_Q23','Row10_Q31','Row10_Q32', 'Row10_Q33','Row10_Q34','Row10_Q41','Row10_Q42','Row10_Q43','Row10_Q44','Row11_Q11','Row11_Q12','Row11_Q21','Row11_Q22','Row11_Q31','Row11_Q32','Row11_Q41','Row11_Q42','Row12_Q11','Row12_Q12','Row12_Q21','Row12_Q22','Row12_Q31','Row12_Q32','Row12_Q41','Row12_Q42','Row13_Q11','Row13_Q12','Row13_Q21','Row13_Q22','Row13_Q31','Row13_Q32','Row13_Q41','Row13_Q42','Row14_Q11','Row14_Q12','Row14_Q21','Row14_Q22','Row14_Q31','Row14_Q32','Row14_Q41','Row14_Q42','Row15_Q11','Row15_Q12','Row15_Q21','Row15_Q22','Row15_Q31','Row15_Q32','Row15_Q41','Row15_Q42','Row16_Q11','Row16_Q12','Row16_Q21','Row16_Q22','Row16_Q31','Row16_Q32','Row16_Q41','Row16_Q42','Row17_Q11','Row17_Q12','Row17_Q21','Row17_Q22','Row17_Q31','Row17_Q32','Row17_Q41','Row17_Q42','Row18_Q11','Row18_Q12','Row18_Q21','Row18_Q22','Row18_Q31','Row18_Q32','Row18_Q41','Row18_Q42','Row19_Q1','Row19_Q2','Row19_Q3','Row19_Q4']]"
   ]
  },
  {
   "cell_type": "code",
   "execution_count": 103,
   "id": "874d3391",
   "metadata": {},
   "outputs": [],
   "source": [
    "dm1 = dm[(dm['HM_PROD_RATE'] > 100) & (dm['HM_PROD_RATE'] < 410) ]"
   ]
  },
  {
   "cell_type": "code",
   "execution_count": 104,
   "id": "b01715bf",
   "metadata": {},
   "outputs": [],
   "source": [
    "dm2 = dm1[(dm1['ETA_CO'] > 0.38) & (dm1['ETA_CO'] < 0.48) ]"
   ]
  },
  {
   "cell_type": "code",
   "execution_count": 105,
   "id": "39d12403",
   "metadata": {},
   "outputs": [],
   "source": [
    "dm2.drop(columns = [ 'ETA_CO','HM_PROD_RATE'] , inplace = True)"
   ]
  },
  {
   "cell_type": "code",
   "execution_count": 106,
   "id": "9d8d3a01",
   "metadata": {},
   "outputs": [],
   "source": [
    "dm2.to_excel(r'C:\\Users\\suraj musale\\OneDrive\\Desktop\\BF data\\PT_contours_all sensors.xlsx')"
   ]
  },
  {
   "cell_type": "markdown",
   "id": "f4fe8396",
   "metadata": {},
   "source": [
    "## PT sensors for contoours"
   ]
  },
  {
   "cell_type": "code",
   "execution_count": 107,
   "id": "1fb2fc40",
   "metadata": {},
   "outputs": [
    {
     "data": {
      "text/plain": [
       "Index(['Date', 'Channelling', 'Hot_Blast_Vol', 'Hot_Blast_Press', 'FTP',\n",
       "       'Steam_Inj', 'Oxygen_Flow', 'Blast_Moist', 'Coal_Inj', 'Coal_Actual',\n",
       "       ...\n",
       "       'Row17_Q3', 'Row17_Q4', 'Row18_Q1', 'Row18_Q2', 'Row18_Q3', 'Row18_Q4',\n",
       "       'Row18_R1', 'Row18_R2', 'Row18_R3', 'Row18_R4'],\n",
       "      dtype='object', length=290)"
      ]
     },
     "execution_count": 107,
     "metadata": {},
     "output_type": "execute_result"
    }
   ],
   "source": [
    "df.columns"
   ]
  },
  {
   "cell_type": "code",
   "execution_count": 108,
   "id": "0acc2af9",
   "metadata": {},
   "outputs": [],
   "source": [
    "df['Serial_No'] = range(1, len(df) + 1)"
   ]
  },
  {
   "cell_type": "code",
   "execution_count": 109,
   "id": "ac888930",
   "metadata": {},
   "outputs": [],
   "source": [
    "dp = df[['Serial_No','Date', 'Channelling','BA1_KU_PT520_NM','BA1_KU_PT524_NM','BA1_KU_PT528_NM','BA1_KU_PT532_NM','BA1_KU_PT536_NM','BA1_KU_PT521_NM','BA1_KU_PT525_NM','BA1_KU_PT529_NM','BA1_KU_PT533_NM','BA1_KU_PT537_NM','BA1_KU_PT522_NM','BA1_KU_PT526_NM','BA1_KU_PT530_NM','BA1_KU_PT534_NM','BA1_KU_PT538_NM','BA1_KU_PT523_NM','BA1_KU_PT527_NM','BA1_KU_PT531_NM','BA1_KU_PT535_NM','BA1_KU_PT539_NM','Row8_Q1' ,'Row8_Q2', 'Row8_Q3', 'Row8_Q4','Row9_Q1', 'Row9_Q2', 'Row9_Q3', 'Row9_Q4','Row10_Q1','Row10_Q2','Row10_Q3','Row10_Q4','Row11_Q1','Row11_Q2','Row11_Q3','Row11_Q4', 'Row12_Q1', 'Row12_Q2', 'Row12_Q3', 'Row12_Q4','Row13_Q1', 'Row13_Q2', 'Row13_Q3', 'Row13_Q4', 'Row14_Q1','Row14_Q2', 'Row14_Q3', 'Row14_Q4', 'Row15_Q1', 'Row15_Q2', 'Row15_Q3', 'Row15_Q4', 'Row16_Q1', 'Row16_Q2', 'Row16_Q3', 'Row16_Q4', 'Row17_Q1', 'Row17_Q2', 'Row17_Q3', 'Row17_Q4', 'Row18_Q1', 'Row18_Q2', 'Row18_Q3', 'Row18_Q4', 'Row18_R1', 'Row18_R2', 'Row18_R3', 'Row18_R4']]"
   ]
  },
  {
   "cell_type": "code",
   "execution_count": 110,
   "id": "089c1faf",
   "metadata": {},
   "outputs": [],
   "source": [
    "dp.to_excel(r'C:\\Users\\suraj musale\\OneDrive\\Desktop\\BF data\\PT_contoours.xlsx')"
   ]
  },
  {
   "cell_type": "markdown",
   "id": "7c2d4743",
   "metadata": {},
   "source": [
    "from sklearn.model_selection import train_test_split\n",
    "from sklearn.preprocessing import StandardScaler"
   ]
  },
  {
   "cell_type": "markdown",
   "id": "9a68f577",
   "metadata": {},
   "source": [
    "# sklearn needs x and y to be separated in different dataframes\n",
    "Y = df3.Channelling\n",
    "X = df3[df3.columns.difference(['Channelling'])]"
   ]
  },
  {
   "cell_type": "markdown",
   "id": "873f4fa3",
   "metadata": {},
   "source": [
    "train, test = train_test_split(df3, test_size=0.3, random_state=123)"
   ]
  },
  {
   "cell_type": "markdown",
   "id": "d6979ebd",
   "metadata": {},
   "source": [
    "df1.columns"
   ]
  },
  {
   "cell_type": "markdown",
   "id": "d47887ea",
   "metadata": {},
   "source": [
    "model = smf.logit('Channelling ~  FTP + diff_pressure + Permeability + Top_Diff_Press  + ETA_CO   + QUAD3_Heat_loss + QUAD4_Heat_loss + Total_Heat_loss + Heat_loss_std + Periphery_Temp_avg + Periphery_Temp_std + Row8_avg + Row8_std + Row9_avg + Row9_std + Row10_avg + Row10_std  + Row12_avg + Row12_std + Row13_avg  + Row14_avg + Row14_std + Row15_avg + Row15_std + Row16_avg + Row16_std + Row17_avg + Row17_std + Row18_avg + Row18_std + Uptake_tem_avg + Uptake_tem_std + PT_520_523_std + PT_524_527_avg  + PT_528_531_avg +PT_528_531_std + PT_532_535_avg + PT_532_535_std + PT_536_539_avg + + PT_536_539_std' , data=train).fit()"
   ]
  },
  {
   "cell_type": "markdown",
   "id": "868ea099",
   "metadata": {},
   "source": [
    "print(model.summary())"
   ]
  },
  {
   "cell_type": "code",
   "execution_count": 111,
   "id": "76fb2470",
   "metadata": {},
   "outputs": [],
   "source": [
    "#dk = df[['Date','Channelling', 'FTP','diff_pressure', 'Permeability', 'Top_Diff_Press', 'ETA_CO', 'QUAD3_Heat_loss', 'QUAD4_Heat_loss','Total_Heat_loss', 'Heat_loss_std', 'Periphery_Temp_avg', 'Periphery_Temp_std',  'Row8_avg','Row8_std', 'Row9_avg', 'Row9_std', 'Row10_avg', 'Row10_std','Row12_avg', 'Row12_std', 'Row13_avg','Row14_avg', 'Row14_std', 'Row15_avg', 'Row15_std','Row16_avg', 'Row16_std', 'Row17_avg', 'Row17_std', 'Row18_avg','Row18_std', 'Uptake_tem_avg', 'Uptake_tem_std', 'PT_520_523_std', 'PT_524_527_avg','PT_528_531_avg', 'PT_528_531_std', 'PT_532_535_avg', 'PT_532_535_std', 'PT_536_539_avg','PT_536_539_std']]"
   ]
  },
  {
   "cell_type": "markdown",
   "id": "0a2f9a18",
   "metadata": {},
   "source": [
    "dk.columns"
   ]
  },
  {
   "cell_type": "code",
   "execution_count": 112,
   "id": "282a1dce",
   "metadata": {},
   "outputs": [],
   "source": [
    "#dk.to_excel(r'C:\\Users\\suraj musale\\OneDrive\\Desktop\\BF data\\impfea.xlsx')"
   ]
  },
  {
   "cell_type": "code",
   "execution_count": 113,
   "id": "ec9096a8",
   "metadata": {},
   "outputs": [
    {
     "data": {
      "text/plain": [
       "(8784, 60)"
      ]
     },
     "execution_count": 113,
     "metadata": {},
     "output_type": "execute_result"
    }
   ],
   "source": [
    "df1.shape"
   ]
  },
  {
   "cell_type": "markdown",
   "id": "e4bcfbe2",
   "metadata": {},
   "source": [
    "# All features includeing quardantwise press stdev"
   ]
  },
  {
   "cell_type": "code",
   "execution_count": 114,
   "id": "88b4ab78",
   "metadata": {},
   "outputs": [
    {
     "data": {
      "text/plain": [
       "['Date',\n",
       " 'Channelling',\n",
       " 'Hot_Blast_Vol',\n",
       " 'Hot_Blast_Press',\n",
       " 'FTP',\n",
       " 'Steam_Inj',\n",
       " 'Oxygen_Flow',\n",
       " 'Blast_Moist',\n",
       " 'Coal_Inj',\n",
       " 'Coal_Actual',\n",
       " 'RAFT',\n",
       " 'Tuyere_Velocity',\n",
       " 'Permeability',\n",
       " 'Uptakes_Temp1',\n",
       " 'Uptakes_Temp2',\n",
       " 'Uptakes_Temp3',\n",
       " 'Uptakes_Temp4',\n",
       " 'ABP1_T1',\n",
       " 'ABP1_T2',\n",
       " 'ABP1_T3',\n",
       " 'ABP1_T4',\n",
       " 'ABP1_T5',\n",
       " 'ABP1_T6',\n",
       " 'ABP1_T7',\n",
       " 'ABP2_T1',\n",
       " 'ABP2_T2',\n",
       " 'ABP2_T3',\n",
       " 'ABP2_T4',\n",
       " 'ABP2_T5',\n",
       " 'ABP2_T6',\n",
       " 'ABP2_T7',\n",
       " 'ABP2_T8',\n",
       " 'ABP3_T1',\n",
       " 'ABP3_T2',\n",
       " 'ABP3_T3',\n",
       " 'ABP3_T4',\n",
       " 'ABP3_T5',\n",
       " 'ABP3_T6',\n",
       " 'ABP3_T7',\n",
       " 'per_CO_Top',\n",
       " 'per_CO2_Top',\n",
       " 'per_H2_Top',\n",
       " 'ETA_CO',\n",
       " 'ETA_H2',\n",
       " 'Top_Diff_Press',\n",
       " 'Middle_Diff_Press',\n",
       " 'Bottom_Diff_Press',\n",
       " 'O2_percentage',\n",
       " 'O2_Cntrl_ MV',\n",
       " 'Oxy_rate',\n",
       " 'HM_PROD_RATE',\n",
       " 'SLAG_RATE',\n",
       " 'COKE_RATE',\n",
       " 'Periphery_Temp1',\n",
       " 'Periphery_Temp2',\n",
       " 'Periphery_Temp3',\n",
       " 'Periphery_Temp4',\n",
       " 'Periphery_Temp5',\n",
       " 'Periphery_Temp6',\n",
       " 'Periphery_Temp7',\n",
       " 'Periphery_Temp8',\n",
       " 'Row8_Q11',\n",
       " 'Row8_Q12',\n",
       " 'Row8_Q21',\n",
       " 'Row8_Q22',\n",
       " 'Row8_Q31',\n",
       " 'Row8_Q32',\n",
       " 'Row8_Q41',\n",
       " 'Row8_Q42',\n",
       " 'Row9_Q11',\n",
       " 'Row9_Q12',\n",
       " 'Row9_Q21',\n",
       " 'Row9_Q22',\n",
       " 'Row9_Q31',\n",
       " 'Row9_Q32',\n",
       " 'Row9_Q41',\n",
       " 'Row9_Q42',\n",
       " 'Row10_Q44',\n",
       " 'Row10_Q11',\n",
       " 'Row10_Q12',\n",
       " 'BA1_KU_TE080_NM',\n",
       " 'Row10_Q13',\n",
       " 'BA1_KU_TE082_NM',\n",
       " 'Row10_Q14',\n",
       " 'BA1_KU_TE084_NM',\n",
       " 'Row10_Q21',\n",
       " 'BA1_KU_TE1002_NM',\n",
       " 'Row10_Q22',\n",
       " 'BA1_KU_TE1004_NM',\n",
       " 'Row10_Q23',\n",
       " 'BA1_KU_TE1006_NM',\n",
       " 'Row10_Q31',\n",
       " 'BA1_KU_TE1008_NM',\n",
       " 'Row10_Q32',\n",
       " 'BA1_KU_TE1010_NM',\n",
       " 'Row10_Q33',\n",
       " 'BA1_KU_TE1012_NM',\n",
       " 'Row10_Q34',\n",
       " 'BA1_KU_TE1014_NM',\n",
       " 'Row10_Q41',\n",
       " 'BA1_KU_TE1016_NM',\n",
       " 'Row10_Q42',\n",
       " 'BA1_KU_TE1018_NM',\n",
       " 'Row10_Q43',\n",
       " 'BA1_KU_TE1020_NM',\n",
       " 'Row11_Q11',\n",
       " 'Row11_Q12',\n",
       " 'Row11_Q21',\n",
       " 'Row11_Q22',\n",
       " 'Row11_Q31',\n",
       " 'Row11_Q32',\n",
       " 'Row11_Q41',\n",
       " 'Row11_Q42',\n",
       " 'Row12_Q11',\n",
       " 'Row12_Q12',\n",
       " 'Row12_Q21',\n",
       " 'Row12_Q22',\n",
       " 'Row12_Q31',\n",
       " 'Row12_Q32',\n",
       " 'Row12_Q41',\n",
       " 'Row12_Q42',\n",
       " 'QUAD1_Heat_loss',\n",
       " 'QUAD2_Heat_loss',\n",
       " 'QUAD3_Heat_loss',\n",
       " 'QUAD4_Heat_loss',\n",
       " 'Total_Heat_loss',\n",
       " 'Row13_Q11',\n",
       " 'Row13_Q12',\n",
       " 'Row13_Q21',\n",
       " 'Row13_Q22',\n",
       " 'Row13_Q31',\n",
       " 'Row13_Q32',\n",
       " 'Row13_Q41',\n",
       " 'Row13_Q42',\n",
       " 'Row14_Q11',\n",
       " 'Row14_Q12',\n",
       " 'Row14_Q21',\n",
       " 'Row14_Q22',\n",
       " 'Row14_Q31',\n",
       " 'Row14_Q32',\n",
       " 'Row14_Q41',\n",
       " 'Row14_Q42',\n",
       " 'Row15_Q11',\n",
       " 'Row15_Q12',\n",
       " 'Row15_Q21',\n",
       " 'Row15_Q22',\n",
       " 'Row15_Q31',\n",
       " 'Row15_Q32',\n",
       " 'Row15_Q41',\n",
       " 'Row15_Q42',\n",
       " 'Row16_Q11',\n",
       " 'Row16_Q12',\n",
       " 'Row16_Q21',\n",
       " 'Row16_Q22',\n",
       " 'Row16_Q31',\n",
       " 'Row16_Q32',\n",
       " 'Row16_Q41',\n",
       " 'Row16_Q42',\n",
       " 'Row17_Q11',\n",
       " 'Row17_Q12',\n",
       " 'Row17_Q21',\n",
       " 'Row17_Q22',\n",
       " 'Row17_Q31',\n",
       " 'Row17_Q32',\n",
       " 'Row17_Q41',\n",
       " 'Row17_Q42',\n",
       " 'Row18_Q11',\n",
       " 'Row18_Q12',\n",
       " 'Row18_Q21',\n",
       " 'Row18_Q22',\n",
       " 'Row18_Q31',\n",
       " 'Row18_Q32',\n",
       " 'Row18_Q41',\n",
       " 'Row18_Q42',\n",
       " 'Row19_Q1',\n",
       " 'Row19_Q2',\n",
       " 'Row19_Q3',\n",
       " 'Row19_Q4',\n",
       " 'BA1_KU_PT520_NM',\n",
       " 'BA1_KU_PT521_NM',\n",
       " 'BA1_KU_PT522_NM',\n",
       " 'BA1_KU_PT523_NM',\n",
       " 'BA1_KU_PT524_NM',\n",
       " 'BA1_KU_PT525_NM',\n",
       " 'BA1_KU_PT526_NM',\n",
       " 'BA1_KU_PT527_NM',\n",
       " 'BA1_KU_PT528_NM',\n",
       " 'BA1_KU_PT529_NM',\n",
       " 'BA1_KU_PT530_NM',\n",
       " 'BA1_KU_PT531_NM',\n",
       " 'BA1_KU_PT532_NM',\n",
       " 'BA1_KU_PT533_NM',\n",
       " 'BA1_KU_PT534_NM',\n",
       " 'BA1_KU_PT535_NM',\n",
       " 'BA1_KU_PT536_NM',\n",
       " 'BA1_KU_PT537_NM',\n",
       " 'BA1_KU_PT538_NM',\n",
       " 'BA1_KU_PT539_NM',\n",
       " 'Uptake_tem_std',\n",
       " 'Uptake_tem_avg',\n",
       " 'Periphery_Temp_avg',\n",
       " 'Periphery_Temp_std',\n",
       " 'Row8_std',\n",
       " 'Row8_avg',\n",
       " 'Row9_std',\n",
       " 'Row9_avg',\n",
       " 'Row10_avg',\n",
       " 'Row10_std',\n",
       " 'Row11_avg',\n",
       " 'Row11_std',\n",
       " 'Row12_avg',\n",
       " 'Row12_std',\n",
       " 'Row13_avg',\n",
       " 'Row13_std',\n",
       " 'Row14_avg',\n",
       " 'Row14_std',\n",
       " 'Row15_avg',\n",
       " 'Row15_std',\n",
       " 'Row16_avg',\n",
       " 'Row16_std',\n",
       " 'Row17_avg',\n",
       " 'Row17_std',\n",
       " 'Row18_avg',\n",
       " 'Row18_std',\n",
       " 'Row19_avg',\n",
       " 'Row19_std',\n",
       " 'PT_520_523_avg',\n",
       " 'PT_520_523_std',\n",
       " 'PT_524_527_avg',\n",
       " 'PT_524_527_std',\n",
       " 'PT_528_531_avg',\n",
       " 'PT_528_531_std',\n",
       " 'PT_532_535_avg',\n",
       " 'PT_532_535_std',\n",
       " 'PT_536_539_avg',\n",
       " 'PT_536_539_std',\n",
       " 'PT_Q1_std',\n",
       " 'PT_Q2_std',\n",
       " 'PT_Q3_std',\n",
       " 'PT_Q4_std',\n",
       " 'Heat_loss_std',\n",
       " 'diff_pressure',\n",
       " 'Row8_Q1',\n",
       " 'Row8_Q2',\n",
       " 'Row8_Q3',\n",
       " 'Row8_Q4',\n",
       " 'Row9_Q1',\n",
       " 'Row9_Q2',\n",
       " 'Row9_Q3',\n",
       " 'Row9_Q4',\n",
       " 'Row10_Q1',\n",
       " 'Row10_Q2',\n",
       " 'Row10_Q3',\n",
       " 'Row10_Q4',\n",
       " 'Row11_Q1',\n",
       " 'Row11_Q2',\n",
       " 'Row11_Q3',\n",
       " 'Row11_Q4',\n",
       " 'Row12_Q1',\n",
       " 'Row12_Q2',\n",
       " 'Row12_Q3',\n",
       " 'Row12_Q4',\n",
       " 'Row13_Q1',\n",
       " 'Row13_Q2',\n",
       " 'Row13_Q3',\n",
       " 'Row13_Q4',\n",
       " 'Row14_Q1',\n",
       " 'Row14_Q2',\n",
       " 'Row14_Q3',\n",
       " 'Row14_Q4',\n",
       " 'Row15_Q1',\n",
       " 'Row15_Q2',\n",
       " 'Row15_Q3',\n",
       " 'Row15_Q4',\n",
       " 'Row16_Q1',\n",
       " 'Row16_Q2',\n",
       " 'Row16_Q3',\n",
       " 'Row16_Q4',\n",
       " 'Row17_Q1',\n",
       " 'Row17_Q2',\n",
       " 'Row17_Q3',\n",
       " 'Row17_Q4',\n",
       " 'Row18_Q1',\n",
       " 'Row18_Q2',\n",
       " 'Row18_Q3',\n",
       " 'Row18_Q4',\n",
       " 'Row18_R1',\n",
       " 'Row18_R2',\n",
       " 'Row18_R3',\n",
       " 'Row18_R4',\n",
       " 'Serial_No']"
      ]
     },
     "execution_count": 114,
     "metadata": {},
     "output_type": "execute_result"
    }
   ],
   "source": [
    "df.columns.tolist()"
   ]
  },
  {
   "cell_type": "code",
   "execution_count": 115,
   "id": "ccecf5d1",
   "metadata": {},
   "outputs": [
    {
     "data": {
      "text/plain": [
       "['Date',\n",
       " 'Channelling',\n",
       " 'Hot_Blast_Vol',\n",
       " 'Hot_Blast_Press',\n",
       " 'FTP',\n",
       " 'Steam_Inj',\n",
       " 'Oxygen_Flow',\n",
       " 'Blast_Moist',\n",
       " 'Coal_Inj',\n",
       " 'Coal_Actual',\n",
       " 'RAFT',\n",
       " 'Tuyere_Velocity',\n",
       " 'Permeability',\n",
       " 'Uptakes_Temp1',\n",
       " 'Uptakes_Temp2',\n",
       " 'Uptakes_Temp3',\n",
       " 'Uptakes_Temp4',\n",
       " 'ABP1_T1',\n",
       " 'ABP1_T2',\n",
       " 'ABP1_T3',\n",
       " 'ABP1_T4',\n",
       " 'ABP1_T5',\n",
       " 'ABP1_T6',\n",
       " 'ABP1_T7',\n",
       " 'ABP2_T1',\n",
       " 'ABP2_T2',\n",
       " 'ABP2_T3',\n",
       " 'ABP2_T4',\n",
       " 'ABP2_T5',\n",
       " 'ABP2_T6',\n",
       " 'ABP2_T7',\n",
       " 'ABP2_T8',\n",
       " 'ABP3_T1',\n",
       " 'ABP3_T2',\n",
       " 'ABP3_T3',\n",
       " 'ABP3_T4',\n",
       " 'ABP3_T5',\n",
       " 'ABP3_T6',\n",
       " 'ABP3_T7',\n",
       " 'per_CO_Top',\n",
       " 'per_CO2_Top',\n",
       " 'per_H2_Top',\n",
       " 'ETA_CO',\n",
       " 'ETA_H2',\n",
       " 'Top_Diff_Press',\n",
       " 'Middle_Diff_Press',\n",
       " 'Bottom_Diff_Press',\n",
       " 'O2_percentage',\n",
       " 'O2_Cntrl_ MV',\n",
       " 'Oxy_rate',\n",
       " 'HM_PROD_RATE',\n",
       " 'SLAG_RATE',\n",
       " 'COKE_RATE',\n",
       " 'Periphery_Temp1',\n",
       " 'Periphery_Temp2',\n",
       " 'Periphery_Temp3',\n",
       " 'Periphery_Temp4',\n",
       " 'Periphery_Temp5',\n",
       " 'Periphery_Temp6',\n",
       " 'Periphery_Temp7',\n",
       " 'Periphery_Temp8',\n",
       " 'Row8_Q11',\n",
       " 'Row8_Q12',\n",
       " 'Row8_Q21',\n",
       " 'Row8_Q22',\n",
       " 'Row8_Q31',\n",
       " 'Row8_Q32',\n",
       " 'Row8_Q41',\n",
       " 'Row8_Q42',\n",
       " 'Row9_Q11',\n",
       " 'Row9_Q12',\n",
       " 'Row9_Q21',\n",
       " 'Row9_Q22',\n",
       " 'Row9_Q31',\n",
       " 'Row9_Q32',\n",
       " 'Row9_Q41',\n",
       " 'Row9_Q42',\n",
       " 'Row10_Q44',\n",
       " 'Row10_Q11',\n",
       " 'Row10_Q12',\n",
       " 'BA1_KU_TE080_NM',\n",
       " 'Row10_Q13',\n",
       " 'BA1_KU_TE082_NM',\n",
       " 'Row10_Q14',\n",
       " 'BA1_KU_TE084_NM',\n",
       " 'Row10_Q21',\n",
       " 'BA1_KU_TE1002_NM',\n",
       " 'Row10_Q22',\n",
       " 'BA1_KU_TE1004_NM',\n",
       " 'Row10_Q23',\n",
       " 'BA1_KU_TE1006_NM',\n",
       " 'Row10_Q31',\n",
       " 'BA1_KU_TE1008_NM',\n",
       " 'Row10_Q32',\n",
       " 'BA1_KU_TE1010_NM',\n",
       " 'Row10_Q33',\n",
       " 'BA1_KU_TE1012_NM',\n",
       " 'Row10_Q34',\n",
       " 'BA1_KU_TE1014_NM',\n",
       " 'Row10_Q41',\n",
       " 'BA1_KU_TE1016_NM',\n",
       " 'Row10_Q42',\n",
       " 'BA1_KU_TE1018_NM',\n",
       " 'Row10_Q43',\n",
       " 'BA1_KU_TE1020_NM',\n",
       " 'Row11_Q11',\n",
       " 'Row11_Q12',\n",
       " 'Row11_Q21',\n",
       " 'Row11_Q22',\n",
       " 'Row11_Q31',\n",
       " 'Row11_Q32',\n",
       " 'Row11_Q41',\n",
       " 'Row11_Q42',\n",
       " 'Row12_Q11',\n",
       " 'Row12_Q12',\n",
       " 'Row12_Q21',\n",
       " 'Row12_Q22',\n",
       " 'Row12_Q31',\n",
       " 'Row12_Q32',\n",
       " 'Row12_Q41',\n",
       " 'Row12_Q42',\n",
       " 'QUAD1_Heat_loss',\n",
       " 'QUAD2_Heat_loss',\n",
       " 'QUAD3_Heat_loss',\n",
       " 'QUAD4_Heat_loss',\n",
       " 'Total_Heat_loss',\n",
       " 'Row13_Q11',\n",
       " 'Row13_Q12',\n",
       " 'Row13_Q21',\n",
       " 'Row13_Q22',\n",
       " 'Row13_Q31',\n",
       " 'Row13_Q32',\n",
       " 'Row13_Q41',\n",
       " 'Row13_Q42',\n",
       " 'Row14_Q11',\n",
       " 'Row14_Q12',\n",
       " 'Row14_Q21',\n",
       " 'Row14_Q22',\n",
       " 'Row14_Q31',\n",
       " 'Row14_Q32',\n",
       " 'Row14_Q41',\n",
       " 'Row14_Q42',\n",
       " 'Row15_Q11',\n",
       " 'Row15_Q12',\n",
       " 'Row15_Q21',\n",
       " 'Row15_Q22',\n",
       " 'Row15_Q31',\n",
       " 'Row15_Q32',\n",
       " 'Row15_Q41',\n",
       " 'Row15_Q42',\n",
       " 'Row16_Q11',\n",
       " 'Row16_Q12',\n",
       " 'Row16_Q21',\n",
       " 'Row16_Q22',\n",
       " 'Row16_Q31',\n",
       " 'Row16_Q32',\n",
       " 'Row16_Q41',\n",
       " 'Row16_Q42',\n",
       " 'Row17_Q11',\n",
       " 'Row17_Q12',\n",
       " 'Row17_Q21',\n",
       " 'Row17_Q22',\n",
       " 'Row17_Q31',\n",
       " 'Row17_Q32',\n",
       " 'Row17_Q41',\n",
       " 'Row17_Q42',\n",
       " 'Row18_Q11',\n",
       " 'Row18_Q12',\n",
       " 'Row18_Q21',\n",
       " 'Row18_Q22',\n",
       " 'Row18_Q31',\n",
       " 'Row18_Q32',\n",
       " 'Row18_Q41',\n",
       " 'Row18_Q42',\n",
       " 'Row19_Q1',\n",
       " 'Row19_Q2',\n",
       " 'Row19_Q3',\n",
       " 'Row19_Q4',\n",
       " 'BA1_KU_PT520_NM',\n",
       " 'BA1_KU_PT521_NM',\n",
       " 'BA1_KU_PT522_NM',\n",
       " 'BA1_KU_PT523_NM',\n",
       " 'BA1_KU_PT524_NM',\n",
       " 'BA1_KU_PT525_NM',\n",
       " 'BA1_KU_PT526_NM',\n",
       " 'BA1_KU_PT527_NM',\n",
       " 'BA1_KU_PT528_NM',\n",
       " 'BA1_KU_PT529_NM',\n",
       " 'BA1_KU_PT530_NM',\n",
       " 'BA1_KU_PT531_NM',\n",
       " 'BA1_KU_PT532_NM',\n",
       " 'BA1_KU_PT533_NM',\n",
       " 'BA1_KU_PT534_NM',\n",
       " 'BA1_KU_PT535_NM',\n",
       " 'BA1_KU_PT536_NM',\n",
       " 'BA1_KU_PT537_NM',\n",
       " 'BA1_KU_PT538_NM',\n",
       " 'BA1_KU_PT539_NM',\n",
       " 'Uptake_tem_std',\n",
       " 'Uptake_tem_avg',\n",
       " 'Periphery_Temp_avg',\n",
       " 'Periphery_Temp_std',\n",
       " 'Row8_std',\n",
       " 'Row8_avg',\n",
       " 'Row9_std',\n",
       " 'Row9_avg',\n",
       " 'Row10_avg',\n",
       " 'Row10_std',\n",
       " 'Row11_avg',\n",
       " 'Row11_std',\n",
       " 'Row12_avg',\n",
       " 'Row12_std',\n",
       " 'Row13_avg',\n",
       " 'Row13_std',\n",
       " 'Row14_avg',\n",
       " 'Row14_std',\n",
       " 'Row15_avg',\n",
       " 'Row15_std',\n",
       " 'Row16_avg',\n",
       " 'Row16_std',\n",
       " 'Row17_avg',\n",
       " 'Row17_std',\n",
       " 'Row18_avg',\n",
       " 'Row18_std',\n",
       " 'Row19_avg',\n",
       " 'Row19_std',\n",
       " 'PT_520_523_avg',\n",
       " 'PT_520_523_std',\n",
       " 'PT_524_527_avg',\n",
       " 'PT_524_527_std',\n",
       " 'PT_528_531_avg',\n",
       " 'PT_528_531_std',\n",
       " 'PT_532_535_avg',\n",
       " 'PT_532_535_std',\n",
       " 'PT_536_539_avg',\n",
       " 'PT_536_539_std',\n",
       " 'PT_Q1_std',\n",
       " 'PT_Q2_std',\n",
       " 'PT_Q3_std',\n",
       " 'PT_Q4_std',\n",
       " 'Heat_loss_std',\n",
       " 'diff_pressure',\n",
       " 'Row8_Q1',\n",
       " 'Row8_Q2',\n",
       " 'Row8_Q3',\n",
       " 'Row8_Q4',\n",
       " 'Row9_Q1',\n",
       " 'Row9_Q2',\n",
       " 'Row9_Q3',\n",
       " 'Row9_Q4',\n",
       " 'Row10_Q1',\n",
       " 'Row10_Q2',\n",
       " 'Row10_Q3',\n",
       " 'Row10_Q4',\n",
       " 'Row11_Q1',\n",
       " 'Row11_Q2',\n",
       " 'Row11_Q3',\n",
       " 'Row11_Q4',\n",
       " 'Row12_Q1',\n",
       " 'Row12_Q2',\n",
       " 'Row12_Q3',\n",
       " 'Row12_Q4',\n",
       " 'Row13_Q1',\n",
       " 'Row13_Q2',\n",
       " 'Row13_Q3',\n",
       " 'Row13_Q4',\n",
       " 'Row14_Q1',\n",
       " 'Row14_Q2',\n",
       " 'Row14_Q3',\n",
       " 'Row14_Q4',\n",
       " 'Row15_Q1',\n",
       " 'Row15_Q2',\n",
       " 'Row15_Q3',\n",
       " 'Row15_Q4',\n",
       " 'Row16_Q1',\n",
       " 'Row16_Q2',\n",
       " 'Row16_Q3',\n",
       " 'Row16_Q4',\n",
       " 'Row17_Q1',\n",
       " 'Row17_Q2',\n",
       " 'Row17_Q3',\n",
       " 'Row17_Q4',\n",
       " 'Row18_Q1',\n",
       " 'Row18_Q2',\n",
       " 'Row18_Q3',\n",
       " 'Row18_Q4',\n",
       " 'Row18_R1',\n",
       " 'Row18_R2',\n",
       " 'Row18_R3',\n",
       " 'Row18_R4',\n",
       " 'Serial_No']"
      ]
     },
     "execution_count": 115,
     "metadata": {},
     "output_type": "execute_result"
    }
   ],
   "source": [
    "df.columns.tolist()"
   ]
  },
  {
   "cell_type": "code",
   "execution_count": 116,
   "id": "e517432f",
   "metadata": {},
   "outputs": [],
   "source": [
    "df1 = df[['Date','Channelling','Hot_Blast_Vol','Hot_Blast_Press','FTP','diff_pressure','Permeability','Top_Diff_Press','Middle_Diff_Press','Bottom_Diff_Press','ETA_CO','HM_PROD_RATE','QUAD1_Heat_loss','QUAD2_Heat_loss','QUAD3_Heat_loss','QUAD4_Heat_loss','Total_Heat_loss','Heat_loss_std', 'Periphery_Temp_avg' ,'Periphery_Temp_std','Uptake_tem_avg','Uptake_tem_std', 'Row8_avg','Row8_std','Row9_avg','Row9_std','Row10_avg','Row10_std','Row11_avg','Row11_std','Row12_avg','Row12_std' ,'Row13_avg','Row13_std','Row14_avg','Row14_std','Row15_avg','Row15_std','Row16_avg','Row16_std','Row17_avg','Row17_std','Row18_avg','Row18_std','Row19_avg','Row19_std','PT_520_523_avg','PT_520_523_std','PT_524_527_avg','PT_524_527_std','PT_528_531_avg','PT_528_531_std','PT_532_535_avg','PT_532_535_std','PT_536_539_avg','PT_536_539_std']]"
   ]
  },
  {
   "cell_type": "markdown",
   "id": "43736578",
   "metadata": {},
   "source": [
    "# Quardantwise temp avg"
   ]
  },
  {
   "cell_type": "code",
   "execution_count": 117,
   "id": "013cbb18",
   "metadata": {},
   "outputs": [],
   "source": [
    "#df1 = df[['Date','Channelling','Hot_Blast_Press','Top_Press','diff_pressure','Permeability','Top_Diff_Press','Middle_Diff_Press','Bottom_Diff_Press','ETA_CO','HM_PROD_RATE','QUAD1_Heat_loss','QUAD2_Heat_loss','QUAD3_Heat_loss','QUAD4_Heat_loss','Total_Heat_loss','Heat_loss_std', 'Periphery_Temp1','Periphery_Temp2','Periphery_Temp3','Periphery_Temp4','Periphery_Temp5','Periphery_Temp6','Periphery_Temp7','Periphery_Temp8', 'Periphery_Temp_avg' ,'Periphery_Temp_std','Uptake_tem_avg','Uptake_tem_std','Row8_Q1' ,'Row8_Q2','Row8_Q3','Row8_Q4','Row9_Q1' ,'Row9_Q2','Row9_Q3','Row9_Q4','Row10_Q1' ,'Row10_Q2','Row10_Q3','Row10_Q4','Row11_Q1' ,'Row11_Q2','Row11_Q3','Row11_Q4','Row12_Q1' ,'Row12_Q2','Row12_Q3','Row12_Q4','Row13_Q1' ,'Row13_Q2','Row13_Q3','Row13_Q4','Row14_Q1' ,'Row14_Q2','Row14_Q3','Row14_Q4','Row15_Q1' ,'Row15_Q2','Row15_Q3','Row15_Q4','Row16_Q1' ,'Row16_Q2','Row16_Q3','Row16_Q4','Row17_Q1' ,'Row17_Q2','Row17_Q3','Row17_Q4','Row18_Q1' ,'Row18_Q2','Row18_Q3','Row18_Q4','PT_520_523_avg','PT_520_523_std','PT_524_527_avg','PT_524_527_std','PT_528_531_avg','PT_528_531_std','PT_532_535_avg','PT_532_535_std','PT_536_539_avg','PT_536_539_std']]"
   ]
  },
  {
   "cell_type": "markdown",
   "id": "81d20c44",
   "metadata": {},
   "source": [
    "# Imporatant features only"
   ]
  },
  {
   "cell_type": "code",
   "execution_count": 118,
   "id": "2462ed23",
   "metadata": {},
   "outputs": [],
   "source": [
    "#df1 = df[['Channelling','Hot_Blast_Vol','Hot_Blast_Press','Top_Press','diff_pressure','Permeability','Top_Diff_Press','Middle_Diff_Press','Bottom_Diff_Press','ETA_CO','HM_PROD_RATE','QUAD1_Heat loss','QUAD2_Heat loss','QUAD3_Heat loss','QUAD4_Heat loss','Total_Heat_loss','Heat_loss_std', 'Periphery_Temp_avg' ,'Periphery_Temp_std','Uptake_tem_avg','Uptake_tem_std', 'Row8_avg','Row8_std','Row11_avg','Row13_std','Row16_avg','Row16_std','PT_520_523_std','PT_528_531_avg','PT_528_531_std','PT_Q1_std','PT_Q2_std','PT_Q3_std','PT_Q4_std']]"
   ]
  },
  {
   "cell_type": "markdown",
   "id": "dc20d084",
   "metadata": {},
   "source": [
    "# Production rate filter to neglect the shutdown and process abnormality¶"
   ]
  },
  {
   "cell_type": "code",
   "execution_count": 119,
   "id": "c9c3ca04",
   "metadata": {},
   "outputs": [],
   "source": [
    "df2 = df1[(df1['HM_PROD_RATE'] > 100) & (df1['HM_PROD_RATE'] < 410) ]"
   ]
  },
  {
   "cell_type": "code",
   "execution_count": 120,
   "id": "df7d510d",
   "metadata": {},
   "outputs": [
    {
     "data": {
      "text/plain": [
       "(8447, 56)"
      ]
     },
     "execution_count": 120,
     "metadata": {},
     "output_type": "execute_result"
    }
   ],
   "source": [
    "df2.shape"
   ]
  },
  {
   "cell_type": "markdown",
   "id": "777fdff0",
   "metadata": {},
   "source": [
    "### ETA CO filter"
   ]
  },
  {
   "cell_type": "code",
   "execution_count": 121,
   "id": "c8d22638",
   "metadata": {},
   "outputs": [],
   "source": [
    "df3 = df2[(df2['ETA_CO'] > 0.38) & (df2['ETA_CO'] < 0.48) ]"
   ]
  },
  {
   "cell_type": "code",
   "execution_count": 122,
   "id": "651ef352",
   "metadata": {},
   "outputs": [
    {
     "data": {
      "text/plain": [
       "Index(['Date', 'Channelling', 'Hot_Blast_Vol', 'Hot_Blast_Press', 'FTP',\n",
       "       'diff_pressure', 'Permeability', 'Top_Diff_Press', 'Middle_Diff_Press',\n",
       "       'Bottom_Diff_Press', 'ETA_CO', 'HM_PROD_RATE', 'QUAD1_Heat_loss',\n",
       "       'QUAD2_Heat_loss', 'QUAD3_Heat_loss', 'QUAD4_Heat_loss',\n",
       "       'Total_Heat_loss', 'Heat_loss_std', 'Periphery_Temp_avg',\n",
       "       'Periphery_Temp_std', 'Uptake_tem_avg', 'Uptake_tem_std', 'Row8_avg',\n",
       "       'Row8_std', 'Row9_avg', 'Row9_std', 'Row10_avg', 'Row10_std',\n",
       "       'Row11_avg', 'Row11_std', 'Row12_avg', 'Row12_std', 'Row13_avg',\n",
       "       'Row13_std', 'Row14_avg', 'Row14_std', 'Row15_avg', 'Row15_std',\n",
       "       'Row16_avg', 'Row16_std', 'Row17_avg', 'Row17_std', 'Row18_avg',\n",
       "       'Row18_std', 'Row19_avg', 'Row19_std', 'PT_520_523_avg',\n",
       "       'PT_520_523_std', 'PT_524_527_avg', 'PT_524_527_std', 'PT_528_531_avg',\n",
       "       'PT_528_531_std', 'PT_532_535_avg', 'PT_532_535_std', 'PT_536_539_avg',\n",
       "       'PT_536_539_std'],\n",
       "      dtype='object')"
      ]
     },
     "execution_count": 122,
     "metadata": {},
     "output_type": "execute_result"
    }
   ],
   "source": [
    "df3.columns"
   ]
  },
  {
   "cell_type": "code",
   "execution_count": 123,
   "id": "e06a9f65",
   "metadata": {},
   "outputs": [],
   "source": [
    "df3.to_excel(r'C:\\Users\\suraj musale\\OneDrive\\Desktop\\BF data\\Master data\\123.xlsx')"
   ]
  },
  {
   "cell_type": "markdown",
   "id": "7b3e2377",
   "metadata": {},
   "source": [
    "df3.to_excel(r'C:\\Users\\suraj musale\\OneDrive\\Desktop\\BF data\\df3_new.xlsx')"
   ]
  },
  {
   "cell_type": "markdown",
   "id": "6f56b121",
   "metadata": {},
   "source": [
    "# droping irrelevant features"
   ]
  },
  {
   "cell_type": "markdown",
   "id": "557fb2fd",
   "metadata": {},
   "source": [
    "### df3.drop(columns = ['Date','HM_PROD_RATE','Hot_Blast_Vol','Hot_Blast_Press'] , inplace = True) "
   ]
  },
  {
   "cell_type": "code",
   "execution_count": 124,
   "id": "9ab78b01",
   "metadata": {},
   "outputs": [],
   "source": [
    " df3.drop(columns = ['Date', 'Hot_Blast_Vol', 'Hot_Blast_Press'] , inplace = True)"
   ]
  },
  {
   "cell_type": "code",
   "execution_count": 125,
   "id": "ad378a47",
   "metadata": {},
   "outputs": [],
   "source": [
    "df3.drop(columns =['HM_PROD_RATE'] , inplace = True)"
   ]
  },
  {
   "cell_type": "code",
   "execution_count": 126,
   "id": "f2b2cd9c",
   "metadata": {},
   "outputs": [],
   "source": [
    "df4 = df3[['Channelling','FTP','diff_pressure','Permeability','Top_Diff_Press','Middle_Diff_Press','Bottom_Diff_Press','ETA_CO','QUAD1_Heat_loss','QUAD2_Heat_loss','QUAD3_Heat_loss','QUAD4_Heat_loss','Total_Heat_loss','Heat_loss_std', 'Periphery_Temp_avg' ,'Periphery_Temp_std','Uptake_tem_avg','Uptake_tem_std', 'Row8_avg','Row8_std','Row9_avg','Row9_std','Row10_avg','Row10_std','Row11_avg','Row11_std','Row12_avg','Row12_std' ,'Row13_avg','Row13_std','Row14_avg','Row14_std','Row15_avg','Row15_std','Row16_avg','Row16_std','Row17_avg','Row17_std','Row18_avg','Row18_std','Row19_avg','Row19_std','PT_520_523_avg','PT_520_523_std','PT_524_527_avg','PT_524_527_std','PT_528_531_avg','PT_528_531_std','PT_532_535_avg','PT_532_535_std','PT_536_539_avg','PT_536_539_std']]"
   ]
  },
  {
   "cell_type": "markdown",
   "id": "5781f0bf",
   "metadata": {},
   "source": [
    "df4 = df3[['Channelling','ETA_CO','Row16_std','PT_520_523_std','Row18_std','Row8_avg','Row15_std','Periphery_Temp_std','Row19_std','Row17_avg','Periphery_Temp_avg' ,'diff_pressure','QUAD4_Heat_loss','Uptake_tem_avg','Permeability','FTP','Row10_std','Row12_avg','QUAD2_Heat_loss','PT_520_523_avg','Row10_avg','Row16_avg','QUAD1_Heat_loss','Heat_loss_std','Total_Heat_loss','Uptake_tem_std']]"
   ]
  },
  {
   "cell_type": "code",
   "execution_count": 127,
   "id": "7bfbace2",
   "metadata": {},
   "outputs": [],
   "source": [
    "df4.to_excel(r'C:\\Users\\suraj musale\\OneDrive\\Desktop\\BF data\\Master data\\10mindata_traning.xlsx')"
   ]
  },
  {
   "cell_type": "markdown",
   "id": "9d5a5236",
   "metadata": {},
   "source": [
    "# Pipeline"
   ]
  },
  {
   "cell_type": "code",
   "execution_count": 128,
   "id": "f0c6729e",
   "metadata": {},
   "outputs": [],
   "source": [
    "from sklearn.pipeline import Pipeline\n",
    "from sklearn.impute import SimpleImputer\n",
    "from sklearn.preprocessing import RobustScaler\n",
    "from sklearn.compose import ColumnTransformer"
   ]
  },
  {
   "cell_type": "markdown",
   "id": "92427ab1",
   "metadata": {},
   "source": [
    "## 1.missing value & outlier  treatment "
   ]
  },
  {
   "cell_type": "markdown",
   "id": "e3d81289",
   "metadata": {},
   "source": [
    "# Identify columns with missing values and columns for outlier treatment\n",
    "columns_with_missing_values = df3.columns[df3.isnull().any()].tolist()\n",
    "columns_to_scale = df3.columns\n",
    "\n",
    "# Create a pipeline for missing value replacement and outlier treatment\n",
    "\n",
    "pipeline = Pipeline([('preprocessor', ColumnTransformer(transformers=[('num_missing', SimpleImputer(strategy='mean'), columns_with_missing_values),('scaler', RobustScaler(), columns_to_scale)],remainder='passthrough'  ))])\n",
    "\n"
   ]
  },
  {
   "cell_type": "markdown",
   "id": "3d55bc47",
   "metadata": {},
   "source": [
    "# Missing values"
   ]
  },
  {
   "cell_type": "markdown",
   "id": "c86b4521",
   "metadata": {},
   "source": [
    "# Outlier detection and treatment "
   ]
  },
  {
   "cell_type": "code",
   "execution_count": 129,
   "id": "404314ad",
   "metadata": {},
   "outputs": [],
   "source": [
    "# sklearn needs x and y to be separated in different dataframes\n",
    "Y = df3.Channelling\n",
    "X = df3[df3.columns.difference(['Channelling'])]"
   ]
  },
  {
   "cell_type": "code",
   "execution_count": 130,
   "id": "1c3b135e",
   "metadata": {},
   "outputs": [],
   "source": [
    "\n",
    "train_X, test_X, train_y, test_y = train_test_split(X,Y, test_size = 0.3, random_state = 42)"
   ]
  },
  {
   "cell_type": "code",
   "execution_count": 131,
   "id": "8da56ac5",
   "metadata": {},
   "outputs": [
    {
     "data": {
      "text/plain": [
       "Index(['Bottom_Diff_Press', 'ETA_CO', 'FTP', 'Heat_loss_std',\n",
       "       'Middle_Diff_Press', 'PT_520_523_avg', 'PT_520_523_std',\n",
       "       'PT_524_527_avg', 'PT_524_527_std', 'PT_528_531_avg', 'PT_528_531_std',\n",
       "       'PT_532_535_avg', 'PT_532_535_std', 'PT_536_539_avg', 'PT_536_539_std',\n",
       "       'Periphery_Temp_avg', 'Periphery_Temp_std', 'Permeability',\n",
       "       'QUAD1_Heat_loss', 'QUAD2_Heat_loss', 'QUAD3_Heat_loss',\n",
       "       'QUAD4_Heat_loss', 'Row10_avg', 'Row10_std', 'Row11_avg', 'Row11_std',\n",
       "       'Row12_avg', 'Row12_std', 'Row13_avg', 'Row13_std', 'Row14_avg',\n",
       "       'Row14_std', 'Row15_avg', 'Row15_std', 'Row16_avg', 'Row16_std',\n",
       "       'Row17_avg', 'Row17_std', 'Row18_avg', 'Row18_std', 'Row19_avg',\n",
       "       'Row19_std', 'Row8_avg', 'Row8_std', 'Row9_avg', 'Row9_std',\n",
       "       'Top_Diff_Press', 'Total_Heat_loss', 'Uptake_tem_avg', 'Uptake_tem_std',\n",
       "       'diff_pressure'],\n",
       "      dtype='object')"
      ]
     },
     "execution_count": 131,
     "metadata": {},
     "output_type": "execute_result"
    }
   ],
   "source": [
    "train_X.columns"
   ]
  },
  {
   "cell_type": "code",
   "execution_count": 132,
   "id": "1b749b21",
   "metadata": {},
   "outputs": [
    {
     "data": {
      "text/plain": [
       "Index(['Bottom_Diff_Press', 'ETA_CO', 'FTP', 'Heat_loss_std',\n",
       "       'Middle_Diff_Press', 'PT_520_523_avg', 'PT_520_523_std',\n",
       "       'PT_524_527_avg', 'PT_524_527_std', 'PT_528_531_avg', 'PT_528_531_std',\n",
       "       'PT_532_535_avg', 'PT_532_535_std', 'PT_536_539_avg', 'PT_536_539_std',\n",
       "       'Periphery_Temp_avg', 'Periphery_Temp_std', 'Permeability',\n",
       "       'QUAD1_Heat_loss', 'QUAD2_Heat_loss', 'QUAD3_Heat_loss',\n",
       "       'QUAD4_Heat_loss', 'Row10_avg', 'Row10_std', 'Row11_avg', 'Row11_std',\n",
       "       'Row12_avg', 'Row12_std', 'Row13_avg', 'Row13_std', 'Row14_avg',\n",
       "       'Row14_std', 'Row15_avg', 'Row15_std', 'Row16_avg', 'Row16_std',\n",
       "       'Row17_avg', 'Row17_std', 'Row18_avg', 'Row18_std', 'Row19_avg',\n",
       "       'Row19_std', 'Row8_avg', 'Row8_std', 'Row9_avg', 'Row9_std',\n",
       "       'Top_Diff_Press', 'Total_Heat_loss', 'Uptake_tem_avg', 'Uptake_tem_std',\n",
       "       'diff_pressure'],\n",
       "      dtype='object')"
      ]
     },
     "execution_count": 132,
     "metadata": {},
     "output_type": "execute_result"
    }
   ],
   "source": [
    "test_X.columns"
   ]
  },
  {
   "cell_type": "markdown",
   "id": "0d0dd880",
   "metadata": {},
   "source": [
    "# Select the Right Threshold values using ROC Curve¶"
   ]
  },
  {
   "cell_type": "markdown",
   "id": "764a11db",
   "metadata": {},
   "source": [
    "from sklearn.metrics import roc_curve\n",
    "from sklearn.metrics import roc_auc_score"
   ]
  },
  {
   "cell_type": "markdown",
   "id": "d9929896",
   "metadata": {},
   "source": [
    "## Random Forests"
   ]
  },
  {
   "cell_type": "markdown",
   "id": "95395833",
   "metadata": {},
   "source": [
    "train_X, test_X, train_y, test_y = train_test_split(X,Y, test_size = 0.3, random_state = 42)\n",
    "train_X"
   ]
  },
  {
   "cell_type": "markdown",
   "id": "b33b4236",
   "metadata": {},
   "source": [
    "from sklearn.ensemble import RandomForestClassifier\n",
    "rf_model = RandomForestClassifier()\n",
    "rf_model.fit(train_X, train_y)\n",
    "ytrain_pred = rf_model.predict_proba(train_X)\n",
    "print('RF train roc-auc: {}'.format(roc_auc_score(train_y, ytrain_pred[:,1])))\n",
    "ytest_pred = rf_model.predict_proba(test_X)\n",
    "print('RF test roc-auc: {}'.format(roc_auc_score(test_y, ytest_pred[:,1])))"
   ]
  },
  {
   "cell_type": "markdown",
   "id": "d2b556dc",
   "metadata": {},
   "source": [
    "## Logistic Regression"
   ]
  },
  {
   "cell_type": "markdown",
   "id": "47c959a1",
   "metadata": {},
   "source": [
    "from sklearn.linear_model import LogisticRegression\n",
    "log_classifier=LogisticRegression()\n",
    "log_classifier.fit(train_X, train_y)\n",
    "ytrain_pred = log_classifier.predict_proba(train_X)\n",
    "print('log train roc-auc: {}'.format(roc_auc_score(train_y, ytrain_pred[:,1])))\n",
    "ytest_pred = log_classifier.predict_proba(test_X)\n",
    "print('log test roc-auc: {}'.format(roc_auc_score(test_y, ytest_pred[:,1])))"
   ]
  },
  {
   "cell_type": "markdown",
   "id": "a5df2fbf",
   "metadata": {},
   "source": [
    "## Adaboost Classifier"
   ]
  },
  {
   "cell_type": "markdown",
   "id": "fac0147d",
   "metadata": {},
   "source": [
    "from sklearn.ensemble import AdaBoostClassifier\n",
    "ada_classifier=AdaBoostClassifier()\n",
    "ada_classifier.fit(train_X, train_y)\n",
    "ytrain_pred = ada_classifier.predict_proba(train_X)\n",
    "print('Adaboost train roc-auc: {}'.format(roc_auc_score(train_y, ytrain_pred[:,1])))\n",
    "ytest_pred =ada_classifier.predict_proba(test_X)\n",
    "print('Adaboost test roc-auc: {}'.format(roc_auc_score(test_y, ytest_pred[:,1])))"
   ]
  },
  {
   "cell_type": "markdown",
   "id": "d86ecc13",
   "metadata": {},
   "source": [
    "## KNNClassifier"
   ]
  },
  {
   "cell_type": "markdown",
   "id": "b20cb88b",
   "metadata": {},
   "source": [
    "from sklearn.neighbors import KNeighborsClassifier\n",
    "knn_classifier=KNeighborsClassifier()\n",
    "knn_classifier.fit(train_X, train_y)\n",
    "ytrain_pred = knn_classifier.predict_proba(train_X)\n",
    "print('KNN train roc-auc: {}'.format(roc_auc_score(train_y, ytrain_pred[:,1])))\n",
    "ytest_pred = knn_classifier.predict_proba(test_X)\n",
    "print('KNN test roc-auc: {}'.format(roc_auc_score(test_y, ytest_pred[:,1])))"
   ]
  },
  {
   "cell_type": "markdown",
   "id": "73b20e7e",
   "metadata": {},
   "source": [
    "pred=[]\n",
    "for model in [rf_model,log_classifier,ada_classifier,knn_classifier]:\n",
    "    pred.append(pd.Series(model.predict_proba(test_X)[:,1]))\n",
    "final_prediction=pd.concat(pred,axis=1).mean(axis=1)\n",
    "print('Ensemble test roc-auc: {}'.format(roc_auc_score(test_y,final_prediction)))"
   ]
  },
  {
   "cell_type": "markdown",
   "id": "f46b5e89",
   "metadata": {},
   "source": [
    "pd.concat(pred,axis=1)"
   ]
  },
  {
   "cell_type": "markdown",
   "id": "9844508f",
   "metadata": {},
   "source": [
    "final_prediction"
   ]
  },
  {
   "cell_type": "markdown",
   "id": "1f6fc840",
   "metadata": {},
   "source": [
    "#### Calculate the ROc Curve\n",
    "\n",
    "\n",
    "fpr, tpr, thresholds = roc_curve(test_y, final_prediction)\n",
    "thresholds"
   ]
  },
  {
   "cell_type": "markdown",
   "id": "5d81ab24",
   "metadata": {},
   "source": [
    "from sklearn.metrics import accuracy_score\n",
    "accuracy_ls = []\n",
    "for thres in thresholds:\n",
    "    y_pred = np.where(final_prediction>thres,1,0)\n",
    "    accuracy_ls.append(accuracy_score(test_y, y_pred, normalize=True))\n",
    "    \n",
    "accuracy_ls = pd.concat([pd.Series(thresholds), pd.Series(accuracy_ls)],\n",
    "                        axis=1)\n",
    "accuracy_ls.columns = ['thresholds', 'accuracy']\n",
    "accuracy_ls.sort_values(by='accuracy', ascending=False, inplace=True)\n",
    "accuracy_ls.head()"
   ]
  },
  {
   "cell_type": "markdown",
   "id": "97046c58",
   "metadata": {},
   "source": [
    "accuracy_ls"
   ]
  },
  {
   "cell_type": "markdown",
   "id": "dbb10cea",
   "metadata": {},
   "source": [
    "def plot_roc_curve(fpr, tpr):\n",
    "    plt.plot(fpr, tpr, color='orange', label='ROC')\n",
    "    plt.plot([0, 1], [0, 1], color='darkblue', linestyle='--')\n",
    "    plt.xlabel('False Positive Rate')\n",
    "    plt.ylabel('True Positive Rate')\n",
    "    plt.title('Receiver Operating Characteristic (ROC) Curve')\n",
    "    plt.legend()\n",
    "    plt.show()"
   ]
  },
  {
   "cell_type": "markdown",
   "id": "4c604f2d",
   "metadata": {},
   "source": [
    "plot_roc_curve(fpr,tpr)"
   ]
  },
  {
   "cell_type": "markdown",
   "id": "625d0a3f",
   "metadata": {},
   "source": [
    "# Building decision tree model"
   ]
  },
  {
   "cell_type": "markdown",
   "id": "d08887c4",
   "metadata": {},
   "source": [
    "from sklearn.tree import DecisionTreeClassifier\n",
    "from sklearn.tree import DecisionTreeRegressor"
   ]
  },
  {
   "cell_type": "markdown",
   "id": "c953c47b",
   "metadata": {},
   "source": [
    "DT_model = DecisionTreeClassifier(max_depth = 10, max_features = 15, max_leaf_nodes = 10)"
   ]
  },
  {
   "cell_type": "markdown",
   "id": "5394b7cd",
   "metadata": {},
   "source": [
    "Y = df3.Channelling\n",
    "X = df3[df3.columns.difference(['Channelling'])]"
   ]
  },
  {
   "cell_type": "markdown",
   "id": "abffa6cf",
   "metadata": {},
   "source": [
    "train_X, test_X, train_y, test_y = train_test_split(X,Y, test_size = 0.3, random_state = 42)\n",
    "train_X"
   ]
  },
  {
   "cell_type": "markdown",
   "id": "160c474e",
   "metadata": {},
   "source": [
    "DT_model = DT_model.fit(train_X, train_y)"
   ]
  },
  {
   "cell_type": "markdown",
   "id": "fad5fdd9",
   "metadata": {},
   "source": [
    "DT_model_train_predict = DT_model.predict(train_X)"
   ]
  },
  {
   "cell_type": "markdown",
   "id": "ee0f1332",
   "metadata": {},
   "source": [
    "print(metrics.classification_report(train_y,DT_model_train_predict))"
   ]
  },
  {
   "cell_type": "markdown",
   "id": "305500c5",
   "metadata": {},
   "source": [
    "print(metrics.classification_report(test_y,DT_model.predict(test_X)))"
   ]
  },
  {
   "cell_type": "markdown",
   "id": "7593d6dd",
   "metadata": {},
   "source": [
    "grid = { 'max_depth': [7,8,9,10,11,12,13],\n",
    "        'max_features': [5,6,7,8,9,10,11,12,13,14,15,16,17,18],\n",
    "        'max_leaf_nodes': [7,8,9,10,11]}\n",
    "\n",
    "DT_model_GS = GridSearchCV(DecisionTreeClassifier(), param_grid = grid, \n",
    "                           scoring = 'roc_auc', cv = 5, verbose = True)\n",
    "\n",
    "DT_model_GS = DT_model_GS.fit(train_X, train_y)"
   ]
  },
  {
   "cell_type": "markdown",
   "id": "d2905b79",
   "metadata": {},
   "source": [
    "DT_model_GS.best_params_"
   ]
  },
  {
   "cell_type": "markdown",
   "id": "52c5c5f0",
   "metadata": {},
   "source": [
    "## Using above hyper-parameters to get the final model"
   ]
  },
  {
   "cell_type": "markdown",
   "id": "61ff2574",
   "metadata": {},
   "source": [
    "DT_model_final = DecisionTreeClassifier(max_depth = 11, max_features = 15, max_leaf_nodes = 11)\n",
    "DT_model_final = DT_model_final.fit(train_X, train_y)"
   ]
  },
  {
   "cell_type": "markdown",
   "id": "eb02a11f",
   "metadata": {},
   "source": [
    "predict_train = DT_model_final.predict(train_X)"
   ]
  },
  {
   "cell_type": "markdown",
   "id": "d49ac9c7",
   "metadata": {},
   "source": [
    "predict_test = DT_model_final.predict(test_X)"
   ]
  },
  {
   "cell_type": "markdown",
   "id": "59819a4c",
   "metadata": {},
   "source": [
    "pd.crosstab(train_y,predict_train , margins = True)"
   ]
  },
  {
   "cell_type": "markdown",
   "id": "e21c59a6",
   "metadata": {},
   "source": [
    "print(metrics.classification_report(train_y,DT_model_final.predict(train_X)))"
   ]
  },
  {
   "cell_type": "markdown",
   "id": "d265c410",
   "metadata": {},
   "source": [
    "pd.crosstab(test_y,predict_test , margins = True)"
   ]
  },
  {
   "cell_type": "markdown",
   "id": "27df6b91",
   "metadata": {},
   "source": [
    "print(metrics.classification_report(test_y,DT_model_final.predict(test_X)))"
   ]
  },
  {
   "cell_type": "markdown",
   "id": "cecdf6eb",
   "metadata": {},
   "source": [
    "## Exploring the interpretation of this model"
   ]
  },
  {
   "cell_type": "markdown",
   "id": "5870792e",
   "metadata": {},
   "source": [
    "DT_model_final.feature_importances_"
   ]
  },
  {
   "cell_type": "markdown",
   "id": "82ec6526",
   "metadata": {},
   "source": [
    "feature_imp = pd.concat([pd.Series(train_X.columns), pd.Series(DT_model_final.feature_importances_)], axis = 1)\n",
    "feature_imp.columns = ['feature', 'imp']\n",
    "feature_imp"
   ]
  },
  {
   "cell_type": "markdown",
   "id": "04e64558",
   "metadata": {},
   "source": [
    "#sp = feature_imp.sort_values(by = 'imp', ascending = False)\n",
    "feature_imp.sort_values(by = 'imp', ascending = False)"
   ]
  },
  {
   "cell_type": "markdown",
   "id": "4418adf9",
   "metadata": {},
   "source": [
    "# Relative Importance - All the importances adds up to 100%"
   ]
  },
  {
   "cell_type": "markdown",
   "id": "409ab588",
   "metadata": {},
   "source": [
    "from sklearn import tree"
   ]
  },
  {
   "cell_type": "markdown",
   "id": "2ced2a83",
   "metadata": {},
   "source": [
    "fig = plt.figure(figsize=(35,30))\n",
    "_ = tree.plot_tree(DT_model_final, feature_names=train_X.columns,filled=True)"
   ]
  },
  {
   "cell_type": "code",
   "execution_count": 133,
   "id": "c8811b52",
   "metadata": {},
   "outputs": [],
   "source": [
    "#fig.savefig(r\"C:\\Users\\suraj musale\\OneDrive\\Desktop\\BF data\\Filterd master data(2-8-2023)\\decistion_tree_2.png\")"
   ]
  },
  {
   "cell_type": "markdown",
   "id": "403e91dd",
   "metadata": {},
   "source": [
    "df3"
   ]
  },
  {
   "cell_type": "markdown",
   "id": "0d590785",
   "metadata": {},
   "source": [
    "from sklearn.tree import DecisionTreeClassifier"
   ]
  },
  {
   "cell_type": "markdown",
   "id": "c3b57e29",
   "metadata": {},
   "source": [
    "model = DecisionTreeClassifier()"
   ]
  },
  {
   "cell_type": "markdown",
   "id": "2b238462",
   "metadata": {},
   "source": [
    "model.fit(train_X,train_y)"
   ]
  },
  {
   "cell_type": "markdown",
   "id": "09e4df7d",
   "metadata": {},
   "source": [
    "base_pred = model.predict(test_X)"
   ]
  },
  {
   "cell_type": "markdown",
   "id": "098af5cc",
   "metadata": {},
   "source": [
    "best_pred = model.predict(train_X)"
   ]
  },
  {
   "cell_type": "markdown",
   "id": "d92d42cc",
   "metadata": {},
   "source": [
    "from sklearn.metrics import confusion_matrix,classification_report\n",
    "confusion_matrix(test_y,base_pred)"
   ]
  },
  {
   "cell_type": "markdown",
   "id": "ec6f390d",
   "metadata": {},
   "source": [
    "test_y.shape"
   ]
  },
  {
   "cell_type": "markdown",
   "id": "76c3426e",
   "metadata": {},
   "source": [
    "from sklearn.metrics import ConfusionMatrixDisplay\n",
    "\n",
    "confusion_matrix_ = confusion_matrix(test_y,base_pred)\n",
    "disp = ConfusionMatrixDisplay(confusion_matrix=confusion_matrix_,\n",
    "                            display_labels=model.classes_)\n",
    "disp.plot()\n",
    "plt.show()"
   ]
  },
  {
   "cell_type": "markdown",
   "id": "46b3f652",
   "metadata": {},
   "source": [
    "from sklearn.tree import plot_tree\n",
    "plt.figure(figsize=(100,100),dpi=100)\n",
    "plot_tree(model,filled=True,feature_names=X.columns);\n",
    "#plt.savefig(r'C:\\Users\\suraj musale\\OneDrive\\Desktop\\BF data\\Filterd master data(2-8-2023)\\DT_new.png')"
   ]
  },
  {
   "cell_type": "markdown",
   "id": "b5b4cb30",
   "metadata": {},
   "source": [
    "print(classification_report(test_y,base_pred))"
   ]
  },
  {
   "cell_type": "markdown",
   "id": "8c1175ce",
   "metadata": {
    "scrolled": true
   },
   "source": [
    "#Importance of features\n",
    "dp = pd.DataFrame(index=test_X.columns,data=model.feature_importances_,columns=['Feature Importance']).sort_values(by=['Feature Importance'],ascending=False)\n",
    "pd.DataFrame(index=test_X.columns,data=model.feature_importances_,columns=['Feature Importance']).sort_values(by=['Feature Importance'],ascending=False)"
   ]
  },
  {
   "cell_type": "code",
   "execution_count": 134,
   "id": "6a4d13b9",
   "metadata": {},
   "outputs": [],
   "source": [
    "#dp.to_excel(r'C:\\Users\\suraj musale\\OneDrive\\Desktop\\BF data\\29-09-2023.xlsx', index=True)"
   ]
  },
  {
   "cell_type": "markdown",
   "id": "e53fc220",
   "metadata": {},
   "source": [
    "# Random Forest - HyperParameter Exploration"
   ]
  },
  {
   "cell_type": "markdown",
   "id": "2983a58a",
   "metadata": {},
   "source": [
    "# RANDOM FOREST "
   ]
  },
  {
   "cell_type": "code",
   "execution_count": 135,
   "id": "53da0b52",
   "metadata": {},
   "outputs": [
    {
     "data": {
      "text/plain": [
       "Index(['Channelling', 'FTP', 'diff_pressure', 'Permeability', 'Top_Diff_Press',\n",
       "       'Middle_Diff_Press', 'Bottom_Diff_Press', 'ETA_CO', 'QUAD1_Heat_loss',\n",
       "       'QUAD2_Heat_loss', 'QUAD3_Heat_loss', 'QUAD4_Heat_loss',\n",
       "       'Total_Heat_loss', 'Heat_loss_std', 'Periphery_Temp_avg',\n",
       "       'Periphery_Temp_std', 'Uptake_tem_avg', 'Uptake_tem_std', 'Row8_avg',\n",
       "       'Row8_std', 'Row9_avg', 'Row9_std', 'Row10_avg', 'Row10_std',\n",
       "       'Row11_avg', 'Row11_std', 'Row12_avg', 'Row12_std', 'Row13_avg',\n",
       "       'Row13_std', 'Row14_avg', 'Row14_std', 'Row15_avg', 'Row15_std',\n",
       "       'Row16_avg', 'Row16_std', 'Row17_avg', 'Row17_std', 'Row18_avg',\n",
       "       'Row18_std', 'Row19_avg', 'Row19_std', 'PT_520_523_avg',\n",
       "       'PT_520_523_std', 'PT_524_527_avg', 'PT_524_527_std', 'PT_528_531_avg',\n",
       "       'PT_528_531_std', 'PT_532_535_avg', 'PT_532_535_std', 'PT_536_539_avg',\n",
       "       'PT_536_539_std'],\n",
       "      dtype='object')"
      ]
     },
     "execution_count": 135,
     "metadata": {},
     "output_type": "execute_result"
    }
   ],
   "source": [
    "df3.columns\n"
   ]
  },
  {
   "cell_type": "code",
   "execution_count": 136,
   "id": "e9a931ba",
   "metadata": {},
   "outputs": [
    {
     "data": {
      "text/html": [
       "<style>#sk-container-id-1 {color: black;background-color: white;}#sk-container-id-1 pre{padding: 0;}#sk-container-id-1 div.sk-toggleable {background-color: white;}#sk-container-id-1 label.sk-toggleable__label {cursor: pointer;display: block;width: 100%;margin-bottom: 0;padding: 0.3em;box-sizing: border-box;text-align: center;}#sk-container-id-1 label.sk-toggleable__label-arrow:before {content: \"▸\";float: left;margin-right: 0.25em;color: #696969;}#sk-container-id-1 label.sk-toggleable__label-arrow:hover:before {color: black;}#sk-container-id-1 div.sk-estimator:hover label.sk-toggleable__label-arrow:before {color: black;}#sk-container-id-1 div.sk-toggleable__content {max-height: 0;max-width: 0;overflow: hidden;text-align: left;background-color: #f0f8ff;}#sk-container-id-1 div.sk-toggleable__content pre {margin: 0.2em;color: black;border-radius: 0.25em;background-color: #f0f8ff;}#sk-container-id-1 input.sk-toggleable__control:checked~div.sk-toggleable__content {max-height: 200px;max-width: 100%;overflow: auto;}#sk-container-id-1 input.sk-toggleable__control:checked~label.sk-toggleable__label-arrow:before {content: \"▾\";}#sk-container-id-1 div.sk-estimator input.sk-toggleable__control:checked~label.sk-toggleable__label {background-color: #d4ebff;}#sk-container-id-1 div.sk-label input.sk-toggleable__control:checked~label.sk-toggleable__label {background-color: #d4ebff;}#sk-container-id-1 input.sk-hidden--visually {border: 0;clip: rect(1px 1px 1px 1px);clip: rect(1px, 1px, 1px, 1px);height: 1px;margin: -1px;overflow: hidden;padding: 0;position: absolute;width: 1px;}#sk-container-id-1 div.sk-estimator {font-family: monospace;background-color: #f0f8ff;border: 1px dotted black;border-radius: 0.25em;box-sizing: border-box;margin-bottom: 0.5em;}#sk-container-id-1 div.sk-estimator:hover {background-color: #d4ebff;}#sk-container-id-1 div.sk-parallel-item::after {content: \"\";width: 100%;border-bottom: 1px solid gray;flex-grow: 1;}#sk-container-id-1 div.sk-label:hover label.sk-toggleable__label {background-color: #d4ebff;}#sk-container-id-1 div.sk-serial::before {content: \"\";position: absolute;border-left: 1px solid gray;box-sizing: border-box;top: 0;bottom: 0;left: 50%;z-index: 0;}#sk-container-id-1 div.sk-serial {display: flex;flex-direction: column;align-items: center;background-color: white;padding-right: 0.2em;padding-left: 0.2em;position: relative;}#sk-container-id-1 div.sk-item {position: relative;z-index: 1;}#sk-container-id-1 div.sk-parallel {display: flex;align-items: stretch;justify-content: center;background-color: white;position: relative;}#sk-container-id-1 div.sk-item::before, #sk-container-id-1 div.sk-parallel-item::before {content: \"\";position: absolute;border-left: 1px solid gray;box-sizing: border-box;top: 0;bottom: 0;left: 50%;z-index: -1;}#sk-container-id-1 div.sk-parallel-item {display: flex;flex-direction: column;z-index: 1;position: relative;background-color: white;}#sk-container-id-1 div.sk-parallel-item:first-child::after {align-self: flex-end;width: 50%;}#sk-container-id-1 div.sk-parallel-item:last-child::after {align-self: flex-start;width: 50%;}#sk-container-id-1 div.sk-parallel-item:only-child::after {width: 0;}#sk-container-id-1 div.sk-dashed-wrapped {border: 1px dashed gray;margin: 0 0.4em 0.5em 0.4em;box-sizing: border-box;padding-bottom: 0.4em;background-color: white;}#sk-container-id-1 div.sk-label label {font-family: monospace;font-weight: bold;display: inline-block;line-height: 1.2em;}#sk-container-id-1 div.sk-label-container {text-align: center;}#sk-container-id-1 div.sk-container {/* jupyter's `normalize.less` sets `[hidden] { display: none; }` but bootstrap.min.css set `[hidden] { display: none !important; }` so we also need the `!important` here to be able to override the default hidden behavior on the sphinx rendered scikit-learn.org. See: https://github.com/scikit-learn/scikit-learn/issues/21755 */display: inline-block !important;position: relative;}#sk-container-id-1 div.sk-text-repr-fallback {display: none;}</style><div id=\"sk-container-id-1\" class=\"sk-top-container\"><div class=\"sk-text-repr-fallback\"><pre>RandomForestClassifier(max_depth=15, max_features=10, n_jobs=-1, oob_score=True)</pre><b>In a Jupyter environment, please rerun this cell to show the HTML representation or trust the notebook. <br />On GitHub, the HTML representation is unable to render, please try loading this page with nbviewer.org.</b></div><div class=\"sk-container\" hidden><div class=\"sk-item\"><div class=\"sk-estimator sk-toggleable\"><input class=\"sk-toggleable__control sk-hidden--visually\" id=\"sk-estimator-id-1\" type=\"checkbox\" checked><label for=\"sk-estimator-id-1\" class=\"sk-toggleable__label sk-toggleable__label-arrow\">RandomForestClassifier</label><div class=\"sk-toggleable__content\"><pre>RandomForestClassifier(max_depth=15, max_features=10, n_jobs=-1, oob_score=True)</pre></div></div></div></div></div>"
      ],
      "text/plain": [
       "RandomForestClassifier(max_depth=15, max_features=10, n_jobs=-1, oob_score=True)"
      ]
     },
     "execution_count": 136,
     "metadata": {},
     "output_type": "execute_result"
    }
   ],
   "source": [
    "from sklearn.ensemble import RandomForestClassifier\n",
    "\n",
    "radm_clf = RandomForestClassifier(oob_score=True,n_estimators=100 , max_depth = 15, max_features=10, n_jobs=-1)\n",
    "radm_clf.fit( train_X, train_y )"
   ]
  },
  {
   "cell_type": "code",
   "execution_count": 137,
   "id": "636c1993",
   "metadata": {},
   "outputs": [
    {
     "name": "stdout",
     "output_type": "stream",
     "text": [
      "1.0\n",
      "0.9990152408221423\n"
     ]
    }
   ],
   "source": [
    "#Train data - AUC Score\n",
    "print(metrics.roc_auc_score(train_y, pd.DataFrame(radm_clf.predict_proba(train_X))[1]))\n",
    "\n",
    "#Test data - AUC Score\n",
    "print(metrics.roc_auc_score(test_y, pd.DataFrame(radm_clf.predict_proba(test_X))[1]))"
   ]
  },
  {
   "cell_type": "markdown",
   "id": "e1d7d373",
   "metadata": {},
   "source": [
    "# Feature importance from the Random Forest Model"
   ]
  },
  {
   "cell_type": "code",
   "execution_count": 138,
   "id": "b4e57d33",
   "metadata": {},
   "outputs": [
    {
     "data": {
      "text/plain": [
       "array([0.01141003, 0.10952706, 0.01840523, 0.00495178, 0.00309604,\n",
       "       0.01995341, 0.04552649, 0.00872653, 0.01316862, 0.00994212,\n",
       "       0.00501847, 0.01163545, 0.00989314, 0.00590343, 0.00276596,\n",
       "       0.02160859, 0.03903882, 0.02296674, 0.01885562, 0.01713622,\n",
       "       0.01257256, 0.01619454, 0.02113538, 0.02164961, 0.01318522,\n",
       "       0.00948901, 0.02011635, 0.00926793, 0.01256142, 0.00888895,\n",
       "       0.01403835, 0.0084343 , 0.00943128, 0.02985485, 0.02087629,\n",
       "       0.06973611, 0.03165156, 0.02646918, 0.0148189 , 0.02893173,\n",
       "       0.02375896, 0.02916558, 0.04340226, 0.0117517 , 0.01275787,\n",
       "       0.00391105, 0.01250933, 0.01364862, 0.02176545, 0.00442674,\n",
       "       0.02406919])"
      ]
     },
     "execution_count": 138,
     "metadata": {},
     "output_type": "execute_result"
    }
   ],
   "source": [
    "radm_clf.feature_importances_"
   ]
  },
  {
   "cell_type": "code",
   "execution_count": 139,
   "id": "d225a1d3",
   "metadata": {},
   "outputs": [
    {
     "data": {
      "text/plain": [
       "Index(['Bottom_Diff_Press', 'ETA_CO', 'FTP', 'Heat_loss_std',\n",
       "       'Middle_Diff_Press', 'PT_520_523_avg', 'PT_520_523_std',\n",
       "       'PT_524_527_avg', 'PT_524_527_std', 'PT_528_531_avg', 'PT_528_531_std',\n",
       "       'PT_532_535_avg', 'PT_532_535_std', 'PT_536_539_avg', 'PT_536_539_std',\n",
       "       'Periphery_Temp_avg', 'Periphery_Temp_std', 'Permeability',\n",
       "       'QUAD1_Heat_loss', 'QUAD2_Heat_loss', 'QUAD3_Heat_loss',\n",
       "       'QUAD4_Heat_loss', 'Row10_avg', 'Row10_std', 'Row11_avg', 'Row11_std',\n",
       "       'Row12_avg', 'Row12_std', 'Row13_avg', 'Row13_std', 'Row14_avg',\n",
       "       'Row14_std', 'Row15_avg', 'Row15_std', 'Row16_avg', 'Row16_std',\n",
       "       'Row17_avg', 'Row17_std', 'Row18_avg', 'Row18_std', 'Row19_avg',\n",
       "       'Row19_std', 'Row8_avg', 'Row8_std', 'Row9_avg', 'Row9_std',\n",
       "       'Top_Diff_Press', 'Total_Heat_loss', 'Uptake_tem_avg', 'Uptake_tem_std',\n",
       "       'diff_pressure'],\n",
       "      dtype='object')"
      ]
     },
     "execution_count": 139,
     "metadata": {},
     "output_type": "execute_result"
    }
   ],
   "source": [
    "train_X.columns"
   ]
  },
  {
   "cell_type": "code",
   "execution_count": 140,
   "id": "1b8465f1",
   "metadata": {},
   "outputs": [
    {
     "data": {
      "text/plain": [
       "array([0.01141003, 0.10952706, 0.01840523, 0.00495178, 0.00309604,\n",
       "       0.01995341, 0.04552649, 0.00872653, 0.01316862, 0.00994212,\n",
       "       0.00501847, 0.01163545, 0.00989314, 0.00590343, 0.00276596,\n",
       "       0.02160859, 0.03903882, 0.02296674, 0.01885562, 0.01713622,\n",
       "       0.01257256, 0.01619454, 0.02113538, 0.02164961, 0.01318522,\n",
       "       0.00948901, 0.02011635, 0.00926793, 0.01256142, 0.00888895,\n",
       "       0.01403835, 0.0084343 , 0.00943128, 0.02985485, 0.02087629,\n",
       "       0.06973611, 0.03165156, 0.02646918, 0.0148189 , 0.02893173,\n",
       "       0.02375896, 0.02916558, 0.04340226, 0.0117517 , 0.01275787,\n",
       "       0.00391105, 0.01250933, 0.01364862, 0.02176545, 0.00442674,\n",
       "       0.02406919])"
      ]
     },
     "execution_count": 140,
     "metadata": {},
     "output_type": "execute_result"
    }
   ],
   "source": [
    "radm_clf.feature_importances_"
   ]
  },
  {
   "cell_type": "code",
   "execution_count": 141,
   "id": "fe0bff1a",
   "metadata": {},
   "outputs": [],
   "source": [
    "radm_clf.feature_importances_\n",
    "\n",
    "indices = np.argsort(radm_clf.feature_importances_)[::-1]"
   ]
  },
  {
   "cell_type": "code",
   "execution_count": 142,
   "id": "6cda12c7",
   "metadata": {},
   "outputs": [],
   "source": [
    "import seaborn as sn"
   ]
  },
  {
   "cell_type": "code",
   "execution_count": 143,
   "id": "45ab8fca",
   "metadata": {},
   "outputs": [
    {
     "data": {
      "text/plain": [
       "<Axes: xlabel='importance', ylabel='feature'>"
      ]
     },
     "execution_count": 143,
     "metadata": {},
     "output_type": "execute_result"
    },
    {
     "data": {
      "image/png": "[encoded data removed]",
      "text/plain": [
       "<Figure size 2000x3000 with 1 Axes>"
      ]
     },
     "metadata": {},
     "output_type": "display_data"
    }
   ],
   "source": [
    "plt.figure(figsize=(20,30),dpi = 100)\n",
    "indices = np.argsort(radm_clf.feature_importances_)[::-1]\n",
    "feature_rank = pd.DataFrame( columns = ['rank', 'feature', 'importance'] )\n",
    "for f in range(train_X.shape[1]):\n",
    "  feature_rank.loc[f] = [f+1,\n",
    "                         train_X.columns[indices[f]],\n",
    "                         radm_clf.feature_importances_[indices[f]]]\n",
    "sn.barplot( y = 'feature', x = 'importance', data = feature_rank )"
   ]
  },
  {
   "cell_type": "markdown",
   "id": "8b110ba8",
   "metadata": {},
   "source": [
    "# Tuning parameters"
   ]
  },
  {
   "cell_type": "code",
   "execution_count": 144,
   "id": "242cbf78",
   "metadata": {},
   "outputs": [],
   "source": [
    "pargrid_ada = {'n_estimators': [70, 80, 90, 100],\n",
    "                'max_features': [2,3,4],\n",
    "              'max_depth': [2,3,4,5,6]}\n",
    "gscv_Rf = GridSearchCV(estimator=RandomForestClassifier(), \n",
    "                        param_grid=pargrid_ada, \n",
    "                        cv=5,\n",
    "                        verbose=True, n_jobs=-1, scoring='roc_auc')"
   ]
  },
  {
   "cell_type": "code",
   "execution_count": 145,
   "id": "39398487",
   "metadata": {},
   "outputs": [
    {
     "name": "stdout",
     "output_type": "stream",
     "text": [
      "Fitting 5 folds for each of 60 candidates, totalling 300 fits\n"
     ]
    },
    {
     "data": {
      "text/plain": [
       "0.9786579327133011"
      ]
     },
     "execution_count": 145,
     "metadata": {},
     "output_type": "execute_result"
    }
   ],
   "source": [
    "gscv_results = gscv_Rf.fit(train_X, train_y)\n",
    "gscv_results.best_score_"
   ]
  },
  {
   "cell_type": "code",
   "execution_count": 146,
   "id": "cc85bf6c",
   "metadata": {},
   "outputs": [
    {
     "data": {
      "text/plain": [
       "{'max_depth': 6, 'max_features': 4, 'n_estimators': 80}"
      ]
     },
     "execution_count": 146,
     "metadata": {},
     "output_type": "execute_result"
    }
   ],
   "source": [
    "gscv_results.best_params_"
   ]
  },
  {
   "cell_type": "markdown",
   "id": "0a4b84e4",
   "metadata": {},
   "source": [
    "sfvggashhh"
   ]
  },
  {
   "cell_type": "markdown",
   "id": "07cbbc86",
   "metadata": {},
   "source": [
    "gscv_results.predict(train_X)"
   ]
  },
  {
   "cell_type": "code",
   "execution_count": 147,
   "id": "eaca6388",
   "metadata": {},
   "outputs": [
    {
     "name": "stdout",
     "output_type": "stream",
     "text": [
      "0.9870562555896963\n",
      "0.9793636905975435\n"
     ]
    }
   ],
   "source": [
    "#Train data - AUC Score\n",
    "print(metrics.roc_auc_score(train_y, pd.DataFrame(gscv_results.predict_proba(train_X))[1]))\n",
    "\n",
    "#Test data - AUC Score\n",
    "print(metrics.roc_auc_score(test_y, pd.DataFrame(gscv_results.predict_proba(test_X))[1]))"
   ]
  },
  {
   "cell_type": "code",
   "execution_count": 148,
   "id": "25f0d580",
   "metadata": {},
   "outputs": [
    {
     "ename": "NameError",
     "evalue": "name 'xyz' is not defined",
     "output_type": "error",
     "traceback": [
      "\u001b[1;31m---------------------------------------------------------------------------\u001b[0m",
      "\u001b[1;31mNameError\u001b[0m                                 Traceback (most recent call last)",
      "Cell \u001b[1;32mIn[148], line 1\u001b[0m\n\u001b[1;32m----> 1\u001b[0m \u001b[43mxyz\u001b[49m\n",
      "\u001b[1;31mNameError\u001b[0m: name 'xyz' is not defined"
     ]
    }
   ],
   "source": [
    "xyz"
   ]
  },
  {
   "cell_type": "code",
   "execution_count": 145,
   "id": "10ae11bf",
   "metadata": {},
   "outputs": [
    {
     "data": {
      "text/html": [
       "<style>#sk-container-id-3 {color: black;background-color: white;}#sk-container-id-3 pre{padding: 0;}#sk-container-id-3 div.sk-toggleable {background-color: white;}#sk-container-id-3 label.sk-toggleable__label {cursor: pointer;display: block;width: 100%;margin-bottom: 0;padding: 0.3em;box-sizing: border-box;text-align: center;}#sk-container-id-3 label.sk-toggleable__label-arrow:before {content: \"▸\";float: left;margin-right: 0.25em;color: #696969;}#sk-container-id-3 label.sk-toggleable__label-arrow:hover:before {color: black;}#sk-container-id-3 div.sk-estimator:hover label.sk-toggleable__label-arrow:before {color: black;}#sk-container-id-3 div.sk-toggleable__content {max-height: 0;max-width: 0;overflow: hidden;text-align: left;background-color: #f0f8ff;}#sk-container-id-3 div.sk-toggleable__content pre {margin: 0.2em;color: black;border-radius: 0.25em;background-color: #f0f8ff;}#sk-container-id-3 input.sk-toggleable__control:checked~div.sk-toggleable__content {max-height: 200px;max-width: 100%;overflow: auto;}#sk-container-id-3 input.sk-toggleable__control:checked~label.sk-toggleable__label-arrow:before {content: \"▾\";}#sk-container-id-3 div.sk-estimator input.sk-toggleable__control:checked~label.sk-toggleable__label {background-color: #d4ebff;}#sk-container-id-3 div.sk-label input.sk-toggleable__control:checked~label.sk-toggleable__label {background-color: #d4ebff;}#sk-container-id-3 input.sk-hidden--visually {border: 0;clip: rect(1px 1px 1px 1px);clip: rect(1px, 1px, 1px, 1px);height: 1px;margin: -1px;overflow: hidden;padding: 0;position: absolute;width: 1px;}#sk-container-id-3 div.sk-estimator {font-family: monospace;background-color: #f0f8ff;border: 1px dotted black;border-radius: 0.25em;box-sizing: border-box;margin-bottom: 0.5em;}#sk-container-id-3 div.sk-estimator:hover {background-color: #d4ebff;}#sk-container-id-3 div.sk-parallel-item::after {content: \"\";width: 100%;border-bottom: 1px solid gray;flex-grow: 1;}#sk-container-id-3 div.sk-label:hover label.sk-toggleable__label {background-color: #d4ebff;}#sk-container-id-3 div.sk-serial::before {content: \"\";position: absolute;border-left: 1px solid gray;box-sizing: border-box;top: 0;bottom: 0;left: 50%;z-index: 0;}#sk-container-id-3 div.sk-serial {display: flex;flex-direction: column;align-items: center;background-color: white;padding-right: 0.2em;padding-left: 0.2em;position: relative;}#sk-container-id-3 div.sk-item {position: relative;z-index: 1;}#sk-container-id-3 div.sk-parallel {display: flex;align-items: stretch;justify-content: center;background-color: white;position: relative;}#sk-container-id-3 div.sk-item::before, #sk-container-id-3 div.sk-parallel-item::before {content: \"\";position: absolute;border-left: 1px solid gray;box-sizing: border-box;top: 0;bottom: 0;left: 50%;z-index: -1;}#sk-container-id-3 div.sk-parallel-item {display: flex;flex-direction: column;z-index: 1;position: relative;background-color: white;}#sk-container-id-3 div.sk-parallel-item:first-child::after {align-self: flex-end;width: 50%;}#sk-container-id-3 div.sk-parallel-item:last-child::after {align-self: flex-start;width: 50%;}#sk-container-id-3 div.sk-parallel-item:only-child::after {width: 0;}#sk-container-id-3 div.sk-dashed-wrapped {border: 1px dashed gray;margin: 0 0.4em 0.5em 0.4em;box-sizing: border-box;padding-bottom: 0.4em;background-color: white;}#sk-container-id-3 div.sk-label label {font-family: monospace;font-weight: bold;display: inline-block;line-height: 1.2em;}#sk-container-id-3 div.sk-label-container {text-align: center;}#sk-container-id-3 div.sk-container {/* jupyter's `normalize.less` sets `[hidden] { display: none; }` but bootstrap.min.css set `[hidden] { display: none !important; }` so we also need the `!important` here to be able to override the default hidden behavior on the sphinx rendered scikit-learn.org. See: https://github.com/scikit-learn/scikit-learn/issues/21755 */display: inline-block !important;position: relative;}#sk-container-id-3 div.sk-text-repr-fallback {display: none;}</style><div id=\"sk-container-id-3\" class=\"sk-top-container\"><div class=\"sk-text-repr-fallback\"><pre>RandomForestClassifier(max_depth=6, max_features=4, n_estimators=80, n_jobs=-1,\n",
       "                       oob_score=True)</pre><b>In a Jupyter environment, please rerun this cell to show the HTML representation or trust the notebook. <br />On GitHub, the HTML representation is unable to render, please try loading this page with nbviewer.org.</b></div><div class=\"sk-container\" hidden><div class=\"sk-item\"><div class=\"sk-estimator sk-toggleable\"><input class=\"sk-toggleable__control sk-hidden--visually\" id=\"sk-estimator-id-3\" type=\"checkbox\" checked><label for=\"sk-estimator-id-3\" class=\"sk-toggleable__label sk-toggleable__label-arrow\">RandomForestClassifier</label><div class=\"sk-toggleable__content\"><pre>RandomForestClassifier(max_depth=6, max_features=4, n_estimators=80, n_jobs=-1,\n",
       "                       oob_score=True)</pre></div></div></div></div></div>"
      ],
      "text/plain": [
       "RandomForestClassifier(max_depth=6, max_features=4, n_estimators=80, n_jobs=-1,\n",
       "                       oob_score=True)"
      ]
     },
     "execution_count": 145,
     "metadata": {},
     "output_type": "execute_result"
    }
   ],
   "source": [
    "from sklearn.ensemble import RandomForestClassifier\n",
    "\n",
    "radm_clf_final = RandomForestClassifier(oob_score=True,n_estimators=80 , max_depth = 6, max_features=4, n_jobs=-1)\n",
    "radm_clf_final.fit( train_X, train_y )"
   ]
  },
  {
   "cell_type": "code",
   "execution_count": 153,
   "id": "cfcfa9e9",
   "metadata": {},
   "outputs": [
    {
     "data": {
      "text/plain": [
       "Index(['Bottom_Diff_Press', 'ETA_CO', 'FTP', 'Heat_loss_std',\n",
       "       'Middle_Diff_Press', 'PT_520_523_avg', 'PT_520_523_std',\n",
       "       'PT_524_527_avg', 'PT_524_527_std', 'PT_528_531_avg', 'PT_528_531_std',\n",
       "       'PT_532_535_avg', 'PT_532_535_std', 'PT_536_539_avg', 'PT_536_539_std',\n",
       "       'Periphery_Temp_avg', 'Periphery_Temp_std', 'Permeability',\n",
       "       'QUAD1_Heat_loss', 'QUAD2_Heat_loss', 'QUAD3_Heat_loss',\n",
       "       'QUAD4_Heat_loss', 'Row10_avg', 'Row10_std', 'Row11_avg', 'Row11_std',\n",
       "       'Row12_avg', 'Row12_std', 'Row13_avg', 'Row13_std', 'Row14_avg',\n",
       "       'Row14_std', 'Row15_avg', 'Row15_std', 'Row16_avg', 'Row16_std',\n",
       "       'Row17_avg', 'Row17_std', 'Row18_avg', 'Row18_std', 'Row19_avg',\n",
       "       'Row19_std', 'Row8_avg', 'Row8_std', 'Row9_avg', 'Row9_std',\n",
       "       'Top_Diff_Press', 'Total_Heat_loss', 'Uptake_tem_avg', 'Uptake_tem_std',\n",
       "       'diff_pressure'],\n",
       "      dtype='object')"
      ]
     },
     "execution_count": 153,
     "metadata": {},
     "output_type": "execute_result"
    }
   ],
   "source": [
    " train_X.columns"
   ]
  },
  {
   "cell_type": "code",
   "execution_count": null,
   "id": "2770a301",
   "metadata": {},
   "outputs": [],
   "source": [
    "radm_clf.feature_importances_"
   ]
  },
  {
   "cell_type": "code",
   "execution_count": null,
   "id": "0f0b2774",
   "metadata": {},
   "outputs": [],
   "source": [
    "radm_clf.feature_importances_\n",
    "\n",
    "indices = np.argsort(radm_clf.feature_importances_)[::-1]"
   ]
  },
  {
   "cell_type": "code",
   "execution_count": null,
   "id": "6348608f",
   "metadata": {},
   "outputs": [],
   "source": [
    "plt.figure(figsize=(20,30),dpi = 100)\n",
    "indices = np.argsort(radm_clf.feature_importances_)[::-1]\n",
    "feature_rank = pd.DataFrame( columns = ['rank', 'feature', 'importance'] )\n",
    "for f in range(train_X.shape[1]):\n",
    "  feature_rank.loc[f] = [f+1,\n",
    "                         train_X.columns[indices[f]],\n",
    "                         radm_clf.feature_importances_[indices[f]]]\n",
    "sn.barplot( y = 'feature', x = 'importance', data = feature_rank )"
   ]
  },
  {
   "cell_type": "code",
   "execution_count": null,
   "id": "112604e8",
   "metadata": {},
   "outputs": [],
   "source": [
    "predict_train =radm_clf_final.predict(train_X)"
   ]
  },
  {
   "cell_type": "code",
   "execution_count": null,
   "id": "2703ce16",
   "metadata": {},
   "outputs": [],
   "source": [
    "predict_test = radm_clf_final.predict(test_X)"
   ]
  },
  {
   "cell_type": "code",
   "execution_count": null,
   "id": "7cfecd94",
   "metadata": {},
   "outputs": [],
   "source": [
    "pd.crosstab(train_y,predict_train , margins = True)"
   ]
  },
  {
   "cell_type": "code",
   "execution_count": null,
   "id": "e74c84ab",
   "metadata": {},
   "outputs": [],
   "source": [
    "print(metrics.classification_report(train_y,radm_clf_final.predict(train_X)))"
   ]
  },
  {
   "cell_type": "code",
   "execution_count": null,
   "id": "de18c6ea",
   "metadata": {},
   "outputs": [],
   "source": [
    "pd.crosstab(test_y,predict_test , margins = True)"
   ]
  },
  {
   "cell_type": "code",
   "execution_count": null,
   "id": "69d6b8b0",
   "metadata": {},
   "outputs": [],
   "source": [
    "print(metrics.classification_report(test_y,radm_clf_final.predict(test_X)))"
   ]
  },
  {
   "cell_type": "code",
   "execution_count": null,
   "id": "98b828e0",
   "metadata": {},
   "outputs": [],
   "source": [
    "predictions = radm_clf_final.predict(test_X)"
   ]
  },
  {
   "cell_type": "code",
   "execution_count": null,
   "id": "84bf961c",
   "metadata": {},
   "outputs": [],
   "source": [
    "probabilities = radm_clf_final.predict_proba(test_X)"
   ]
  },
  {
   "cell_type": "code",
   "execution_count": null,
   "id": "af4e5e60",
   "metadata": {},
   "outputs": [],
   "source": [
    "train_X.columns"
   ]
  },
  {
   "cell_type": "code",
   "execution_count": null,
   "id": "a6c0b482",
   "metadata": {},
   "outputs": [],
   "source": [
    "df3.columns"
   ]
  },
  {
   "cell_type": "code",
   "execution_count": null,
   "id": "b861b497",
   "metadata": {},
   "outputs": [],
   "source": [
    "probabilities = radm_clf_final.predict_proba(X)[:, 1]\n",
    "\n",
    "# Create a new column 'Probability' in df3\n",
    "df3['Probability'] = probabilities\n",
    "\n",
    "# Display the updated DataFrame\n",
    "print(df3)"
   ]
  },
  {
   "cell_type": "markdown",
   "id": "1cafdf24",
   "metadata": {},
   "source": [
    "# XG boost model probabilities"
   ]
  },
  {
   "cell_type": "code",
   "execution_count": null,
   "id": "d164334c",
   "metadata": {},
   "outputs": [],
   "source": [
    "import xgboost as xgb\n",
    "from sklearn.model_selection import train_test_split\n",
    "from sklearn.metrics import accuracy_score, classification_report, confusion_matrix"
   ]
  },
  {
   "cell_type": "code",
   "execution_count": null,
   "id": "d1ce8242",
   "metadata": {},
   "outputs": [],
   "source": [
    "# Initialize the XGBoost classifier\n",
    "xgb_classifier = xgb.XGBClassifier(objective='binary:logistic', random_state=42)"
   ]
  },
  {
   "cell_type": "code",
   "execution_count": null,
   "id": "8d67bfce",
   "metadata": {},
   "outputs": [],
   "source": [
    "xgb_classifier.fit(train_X, train_y)"
   ]
  },
  {
   "cell_type": "code",
   "execution_count": null,
   "id": "c94e4ccf",
   "metadata": {},
   "outputs": [],
   "source": [
    "probabilities =xgb_classifier.predict_proba(X)[:, 1]\n",
    "\n",
    "# Create a new column 'Probability' in df3\n",
    "df3['XG_Probability'] = probabilities\n",
    "\n",
    "# Display the updated DataFrame\n",
    "print(df3)"
   ]
  },
  {
   "cell_type": "code",
   "execution_count": null,
   "id": "09c7f41b",
   "metadata": {},
   "outputs": [],
   "source": [
    "df3"
   ]
  },
  {
   "cell_type": "markdown",
   "id": "26e5fcd7",
   "metadata": {},
   "source": [
    "# SVM probality\n"
   ]
  },
  {
   "cell_type": "code",
   "execution_count": null,
   "id": "78f23b00",
   "metadata": {},
   "outputs": [],
   "source": [
    "from sklearn.svm import SVC\n",
    "from sklearn.model_selection import train_test_split\n",
    "from sklearn.calibration import CalibratedClassifierCV\n",
    "import numpy as np"
   ]
  },
  {
   "cell_type": "code",
   "execution_count": null,
   "id": "f8b29f00",
   "metadata": {},
   "outputs": [],
   "source": [
    "svm_classifier = SVC(kernel='linear', probability=True, random_state=42)"
   ]
  },
  {
   "cell_type": "code",
   "execution_count": null,
   "id": "86613f33",
   "metadata": {},
   "outputs": [],
   "source": [
    "svm_classifier.fit(train_X, train_y)"
   ]
  },
  {
   "cell_type": "code",
   "execution_count": null,
   "id": "eadd8bf3",
   "metadata": {},
   "outputs": [],
   "source": [
    "probabilities =svm_classifier.predict_proba(X)[:, 1]\n",
    "\n",
    "# Create a new column 'Probability' in df3\n",
    "df3['SVM_Probability'] = probabilities\n",
    "\n",
    "# Display the updated DataFrame\n",
    "print(df3)"
   ]
  },
  {
   "cell_type": "code",
   "execution_count": null,
   "id": "43ef0c18",
   "metadata": {},
   "outputs": [],
   "source": [
    "df3.columns"
   ]
  },
  {
   "cell_type": "code",
   "execution_count": null,
   "id": "ba4784d9",
   "metadata": {},
   "outputs": [],
   "source": [
    "df3 = df3['Date', 'Hot_Blast_Vol', 'Hot_Blast_Press'] "
   ]
  },
  {
   "cell_type": "code",
   "execution_count": null,
   "id": "6f2ff846",
   "metadata": {},
   "outputs": [],
   "source": [
    "df3.to_excel(r'C:\\Users\\suraj musale\\OneDrive\\Desktop\\BF data\\Master data\\XG_probability.xlsx')"
   ]
  },
  {
   "cell_type": "code",
   "execution_count": null,
   "id": "fef50721",
   "metadata": {},
   "outputs": [],
   "source": [
    "from matplotlib.colors import ListedColormap\n",
    "import matplotlib.pyplot as plt\n",
    "import matplotlib.dates as mdates\n",
    "\n",
    "# Assuming 'Date' is your date column\n",
    "df3['Date'] = pd.to_datetime(df3['Date'])\n",
    "\n",
    "# Select the first 12 rows\n",
    "df_subset = df.iloc[3100:3131, :]\n",
    "\n",
    "# Define color ranges and corresponding colors\n",
    "color_ranges = [(0, 0.27, 'green'), (0.27, 0.65, 'yellow'), (0.65, 1.0, 'red')]\n",
    "\n",
    "# Create a colormap based on the specified color ranges\n",
    "colors = [color for _, _, color in color_ranges]\n",
    "cmap = ListedColormap(colors)\n",
    "\n",
    "# Increase the figure size and axis visibility\n",
    "plt.figure(figsize=(40, 15))\n",
    "plt.rcParams.update({'font.size': 20})  # Increase font size\n",
    "\n",
    "\n",
    "# Increase the figure size and axis visibility\n",
    "fig, ax = plt.subplots(figsize=(40, 15))\n",
    "plt.rcParams.update({'font.size': 20})  # Increase font size\n",
    "\n",
    "# Fill background with gradient color\n",
    "ax.fill_between(df_subset['Date'], df_subset['Probability'].min(), df_subset['Probability'].max(), color='gray', alpha=0.1)\n",
    "\n",
    "# Fill specific ranges with gradient color\n",
    "for ymin, ymax, color in color_ranges:\n",
    "    ax.fill_between(df_subset['Date'], ymin, ymax, color=color, alpha=0.7)\n",
    "\n",
    "# Plot the line graph over the filled background\n",
    "ax.plot(df_subset['Date'], df_subset['Probability'], marker='o', markersize=15, linestyle='-', color='black', linewidth=5, label='Probability')\n",
    "# Highlight points where Probability exceeds 0.75\n",
    "for index, row in df_subset.iterrows():\n",
    "    if row['Probability'] > 0.657:\n",
    "        ax.scatter(row['Date'], row['Probability'], c='red', marker='o', s=300)\n",
    "    if row['Channelling'] == 1:\n",
    "        ax.scatter(row['Date'], 0.9, c='blue', marker='D', s=300)  # y-value set to 0.9 for visibility\n",
    "# Add a margin line at 0.154 probability\n",
    "ax.axhline(y=0.154, color='black', linestyle='--', linewidth=2, label='Margin at 0.154 Probability')\n",
    "\n",
    "ax.set_title('RF model Probability Over Time (Date:23-06-2018,Time:13.40 to 18.40 )', fontsize=40)\n",
    "ax.set_xlabel('Date', fontsize=35)\n",
    "ax.set_ylabel('Probability', fontsize=35)\n",
    "\n",
    "# Format x-axis ticks to include both date and time stacked vertically\n",
    "plt.gca().xaxis.set_major_formatter(mdates.DateFormatter('%H:%M'))\n",
    "ax.tick_params(axis='x', labelsize=15)  # Adjust the label size as needed\n",
    "for label in ax.get_xticklabels():\n",
    "     label.set_fontweight('bold')\n",
    "plt.xticks(df_subset['Date'], rotation=0, fontsize=15)\n",
    "\n",
    "# Set the desired y-axis scale\n",
    "ax.set_yticks([0, 0.15, 0.27, 0.65, 1.0])\n",
    "ax.set_yticklabels([0, 0.15, 0.27, 0.65, 1.0], fontsize=25)   # Modify the list based on your desired scale\n",
    "\n",
    "ax.legend(fontsize=15)\n",
    "plt.show()"
   ]
  },
  {
   "cell_type": "markdown",
   "id": "c0f65ffe",
   "metadata": {},
   "source": [
    "# line graphs for the probability"
   ]
  },
  {
   "cell_type": "code",
   "execution_count": null,
   "id": "f2175b2b",
   "metadata": {},
   "outputs": [],
   "source": [
    "df = pd.read_excel(r'C:\\Users\\suraj musale\\OneDrive\\Desktop\\BF data\\Master data\\XG_probability.xlsx')"
   ]
  },
  {
   "cell_type": "code",
   "execution_count": null,
   "id": "03dda70c",
   "metadata": {},
   "outputs": [],
   "source": [
    "from matplotlib.colors import ListedColormap\n",
    "import matplotlib.pyplot as plt\n",
    "import matplotlib.dates as mdates\n",
    "\n",
    "# Assuming 'Date' is your date column\n",
    "df['Date'] = pd.to_datetime(df['Date'])\n",
    "\n",
    "# Select the first 12 rows\n",
    "df_subset = df.iloc[3100:3131, :]\n",
    "\n",
    "# Define color ranges and corresponding colors\n",
    "color_ranges = [(0, 0.27, 'green'), (0.27, 0.65, 'yellow'), (0.65, 1.0, 'red')]\n",
    "\n",
    "# Create a colormap based on the specified color ranges\n",
    "colors = [color for _, _, color in color_ranges]\n",
    "cmap = ListedColormap(colors)\n",
    "\n",
    "# Increase the figure size and axis visibility\n",
    "plt.figure(figsize=(40, 15))\n",
    "plt.rcParams.update({'font.size': 20})  # Increase font size\n",
    "\n",
    "\n",
    "# Increase the figure size and axis visibility\n",
    "fig, ax = plt.subplots(figsize=(40, 15))\n",
    "plt.rcParams.update({'font.size': 20})  # Increase font size\n",
    "\n",
    "# Fill background with gradient color\n",
    "ax.fill_between(df_subset['Date'], df_subset['Probability'].min(), df_subset['Probability'].max(), color='gray', alpha=0.1)\n",
    "\n",
    "# Fill specific ranges with gradient color\n",
    "for ymin, ymax, color in color_ranges:\n",
    "    ax.fill_between(df_subset['Date'], ymin, ymax, color=color, alpha=0.7)\n",
    "\n",
    "# Plot the line graph over the filled background\n",
    "ax.plot(df_subset['Date'], df_subset['Probability'], marker='o', markersize=15, linestyle='-', color='black', linewidth=5, label='Probability')\n",
    "# Highlight points where Probability exceeds 0.75\n",
    "for index, row in df_subset.iterrows():\n",
    "    if row['Probability'] > 0.657:\n",
    "        ax.scatter(row['Date'], row['Probability'], c='red', marker='o', s=300)\n",
    "    if row['Channelling'] == 1:\n",
    "        ax.scatter(row['Date'], 0.9, c='blue', marker='D', s=300)  # y-value set to 0.9 for visibility\n",
    "# Add a margin line at 0.154 probability\n",
    "ax.axhline(y=0.154, color='black', linestyle='--', linewidth=2, label='Margin at 0.154 Probability')\n",
    "\n",
    "ax.set_title('RF model Probability Over Time (Date:23-06-2018,Time:13.40 to 18.40 )', fontsize=40)\n",
    "ax.set_xlabel('Date', fontsize=35)\n",
    "ax.set_ylabel('Probability', fontsize=35)\n",
    "\n",
    "# Format x-axis ticks to include both date and time stacked vertically\n",
    "plt.gca().xaxis.set_major_formatter(mdates.DateFormatter('%H:%M'))\n",
    "ax.tick_params(axis='x', labelsize=15)  # Adjust the label size as needed\n",
    "for label in ax.get_xticklabels():\n",
    "     label.set_fontweight('bold')\n",
    "plt.xticks(df_subset['Date'], rotation=0, fontsize=15)\n",
    "\n",
    "# Set the desired y-axis scale\n",
    "ax.set_yticks([0, 0.15, 0.27, 0.65, 1.0])\n",
    "ax.set_yticklabels([0, 0.15, 0.27, 0.65, 1.0], fontsize=25)   # Modify the list based on your desired scale\n",
    "\n",
    "ax.legend(fontsize=15)\n",
    "plt.show()"
   ]
  },
  {
   "cell_type": "code",
   "execution_count": null,
   "id": "05296851",
   "metadata": {},
   "outputs": [],
   "source": [
    "# Increase the figure size and axis visibility\n",
    "fig, ax = plt.subplots(figsize=(40, 15))\n",
    "plt.rcParams.update({'font.size': 20})  # Increase font size\n",
    "\n",
    "# Fill background with gradient color\n",
    "ax.fill_between(df_subset['Date'], df_subset[['Probability', 'SVM_Probability']].min().min(), df_subset[['Probability', 'SVM_Probability']].max().max(), color='gray', alpha=0.1)\n",
    "\n",
    "# Fill specific ranges with gradient color for Probability\n",
    "for ymin, ymax, color in color_ranges:\n",
    "    ax.fill_between(df_subset['Date'], ymin, ymax, color=color, alpha=0.7)\n",
    "\n",
    "# Plot the line graph over the filled background for Probability\n",
    "ax.plot(df_subset['Date'], df_subset['Probability'], marker='o', markersize=15, linestyle='-', color='black', linewidth=5, label='RF Probability')\n",
    "\n",
    "# Plot the line graph over the filled background for SVM_Probability\n",
    "ax.plot(df_subset['Date'], df_subset['SVM_Probability'], marker='o', markersize=15, linestyle='-', color='blue', linewidth=5, label='SVM Probability')\n",
    "\n",
    "# Highlight points where Probability exceeds 0.75 for RF Probability\n",
    "for index, row in df_subset.iterrows():\n",
    "    if row['Probability'] > 0.657:\n",
    "        ax.scatter(row['Date'], row['Probability'], c='red', marker='o', s=300)\n",
    "    if row['Channelling'] == 1:\n",
    "        ax.scatter(row['Date'], 0.9, c='blue', marker='D', s=300)  # y-value set to 0.9 for visibility\n",
    "\n",
    "# Highlight points where SVM Probability exceeds 0.75\n",
    "for index, row in df_subset.iterrows():\n",
    "    if row['SVM_Probability'] > 0.657:\n",
    "        ax.scatter(row['Date'], row['SVM_Probability'], c='red', marker='o', s=300)\n",
    "    # You might need to adjust the y-value for visibility\n",
    "    if row['Channelling'] == 1:\n",
    "        ax.scatter(row['Date'], 0.85, c='blue', marker='D', s=300)  # y-value set to 0.85 for visibility\n",
    "\n",
    "# Add a margin line at 0.154 probability\n",
    "ax.axhline(y=0.154, color='black', linestyle='--', linewidth=2, label='Margin at 0.154 Probability')\n",
    "\n",
    "ax.set_title('RF and SVM model Probabilities Over Time (Date: 23-06-2018, Time: 13:40 to 18:40)', fontsize=40)\n",
    "ax.set_xlabel('Date', fontsize=35)\n",
    "ax.set_ylabel('Probability', fontsize=35)\n",
    "\n",
    "# Format x-axis ticks to include both date and time stacked vertically\n",
    "ax.xaxis.set_major_formatter(mdates.DateFormatter('%H:%M'))\n",
    "ax.tick_params(axis='x', labelsize=15)  # Adjust the label size as needed\n",
    "for label in ax.get_xticklabels():\n",
    "    label.set_fontweight('bold')\n",
    "\n",
    "# Set the desired y-axis scale\n",
    "ax.set_yticks([0, 0.15, 0.27, 0.65, 1.0])\n",
    "ax.set_yticklabels([0, 0.15, 0.27, 0.65, 1.0], fontsize=25)   # Modify the list based on your desired scale\n",
    "\n",
    "ax.legend(fontsize=15)\n",
    "plt.show()"
   ]
  },
  {
   "cell_type": "code",
   "execution_count": null,
   "id": "eec420e1",
   "metadata": {},
   "outputs": [],
   "source": []
  },
  {
   "cell_type": "code",
   "execution_count": null,
   "id": "bcbc2b0f",
   "metadata": {},
   "outputs": [],
   "source": []
  },
  {
   "cell_type": "code",
   "execution_count": null,
   "id": "4c1cfa9c",
   "metadata": {},
   "outputs": [],
   "source": []
  },
  {
   "cell_type": "markdown",
   "id": "31b1c323",
   "metadata": {},
   "source": [
    "# Testing the model over OCT-2023_10 min"
   ]
  },
  {
   "cell_type": "code",
   "execution_count": 168,
   "id": "f7e7341e",
   "metadata": {},
   "outputs": [],
   "source": [
    "\n",
    "ss = pd.read_excel(r'C:\\Users\\suraj musale\\OneDrive\\Desktop\\BF data\\Master data\\oct_2023_10min_filtered.xlsx' )"
   ]
  },
  {
   "cell_type": "code",
   "execution_count": 169,
   "id": "540ba38f",
   "metadata": {},
   "outputs": [
    {
     "data": {
      "text/plain": [
       "(4464, 61)"
      ]
     },
     "execution_count": 169,
     "metadata": {},
     "output_type": "execute_result"
    }
   ],
   "source": [
    "ss.shape"
   ]
  },
  {
   "cell_type": "code",
   "execution_count": 170,
   "id": "ca6d571b",
   "metadata": {},
   "outputs": [
    {
     "data": {
      "text/plain": [
       "<bound method IndexOpsMixin.tolist of Index(['Unnamed: 0', 'Date', 'Cold_Blast_Volume', 'Blast_Volume', 'HBP', 'FTP',\n",
       "       'diff_pressure', 'Permeability', 'Top_Diff_Press', 'Middle_Diff_Press',\n",
       "       'Bottom_Diff_Press', 'ETA_CO', 'HM_PROD_RATE', 'QUAD1_Heat_loss',\n",
       "       'QUAD2_Heat_loss', 'QUAD3_Heat_loss', 'QUAD4_Heat_loss',\n",
       "       'Total_Heat_loss', 'Heat_loss_std', 'Periphery_Temp_avg',\n",
       "       'Periphery_Temp_std', 'Uptake_tem_avg', 'Uptake_tem_std', 'Row8_avg',\n",
       "       'Row8_std', 'Row9_avg', 'Row9_std', 'Row10_avg', 'Row10_std',\n",
       "       'Row11_avg', 'Row11_std', 'Row12_avg', 'Row12_std', 'Row13_avg',\n",
       "       'Row13_std', 'Row14_avg', 'Row14_std', 'Row15_avg', 'Row15_std',\n",
       "       'Row16_avg', 'Row16_std', 'Row17_avg', 'Row17_std', 'Row18_avg',\n",
       "       'Row18_std', 'Row19_avg', 'Row19_std', 'PT_520_523_avg',\n",
       "       'PT_520_523_std', 'PT_524_527_avg', 'PT_524_527_std', 'PT_528_531_avg',\n",
       "       'PT_528_531_std', 'PT_532_535_avg', 'PT_532_535_std', 'PT_536_539_avg',\n",
       "       'PT_536_539_std', 'PT_Q1_std', 'PT_Q2_std', 'PT_Q3_std', 'PT_Q4_std'],\n",
       "      dtype='object')>"
      ]
     },
     "execution_count": 170,
     "metadata": {},
     "output_type": "execute_result"
    }
   ],
   "source": [
    "ss.columns.tolist"
   ]
  },
  {
   "cell_type": "code",
   "execution_count": 171,
   "id": "0446d695",
   "metadata": {},
   "outputs": [],
   "source": [
    "ss1 = ss[['Bottom_Diff_Press', 'ETA_CO', 'FTP', 'Heat_loss_std',\n",
    "       'Middle_Diff_Press', 'PT_520_523_avg', 'PT_520_523_std',\n",
    "       'PT_524_527_avg', 'PT_524_527_std', 'PT_528_531_avg', 'PT_528_531_std',\n",
    "       'PT_532_535_avg', 'PT_532_535_std', 'PT_536_539_avg', 'PT_536_539_std',\n",
    "       'Periphery_Temp_avg', 'Periphery_Temp_std', 'Permeability',\n",
    "       'QUAD1_Heat_loss', 'QUAD2_Heat_loss', 'QUAD3_Heat_loss',\n",
    "       'QUAD4_Heat_loss', 'Row10_avg', 'Row10_std', 'Row11_avg', 'Row11_std',\n",
    "       'Row12_avg', 'Row12_std', 'Row13_avg', 'Row13_std', 'Row14_avg',\n",
    "       'Row14_std', 'Row15_avg', 'Row15_std', 'Row16_avg', 'Row16_std',\n",
    "       'Row17_avg', 'Row17_std', 'Row18_avg', 'Row18_std', 'Row19_avg',\n",
    "       'Row19_std', 'Row8_avg', 'Row8_std', 'Row9_avg', 'Row9_std',\n",
    "       'Top_Diff_Press', 'Total_Heat_loss', 'Uptake_tem_avg', 'Uptake_tem_std',\n",
    "       'diff_pressure']]"
   ]
  },
  {
   "cell_type": "code",
   "execution_count": 172,
   "id": "86a9960e",
   "metadata": {},
   "outputs": [],
   "source": [
    "mean_values = ss1.mean()\n",
    "ss1.fillna(mean_values, inplace=True)"
   ]
  },
  {
   "cell_type": "code",
   "execution_count": 173,
   "id": "8156d0df",
   "metadata": {},
   "outputs": [
    {
     "data": {
      "text/plain": [
       "(4464, 51)"
      ]
     },
     "execution_count": 173,
     "metadata": {},
     "output_type": "execute_result"
    }
   ],
   "source": [
    "ss1.shape"
   ]
  },
  {
   "cell_type": "code",
   "execution_count": 174,
   "id": "eb728fd0",
   "metadata": {},
   "outputs": [],
   "source": [
    "channeling_predictions = radm_clf_final.predict(ss1)\n",
    "channeling_probabilities = radm_clf_final.predict_proba(ss1)[:, 1]"
   ]
  },
  {
   "cell_type": "code",
   "execution_count": 175,
   "id": "6d386d8e",
   "metadata": {},
   "outputs": [],
   "source": [
    "ss1['Predicted_Channeling'] = channeling_predictions\n",
    "ss1['Channeling_Probability'] = channeling_probabilities\n"
   ]
  },
  {
   "cell_type": "code",
   "execution_count": 176,
   "id": "5cd59e78",
   "metadata": {},
   "outputs": [],
   "source": [
    "ss1.to_excel(r'C:\\Users\\suraj musale\\OneDrive\\Desktop\\BF data\\OCT2023_10min_probablity_1.xlsx')"
   ]
  },
  {
   "cell_type": "code",
   "execution_count": null,
   "id": "8d0e1e51",
   "metadata": {},
   "outputs": [],
   "source": []
  },
  {
   "cell_type": "markdown",
   "id": "26ae1f25",
   "metadata": {},
   "source": [
    "# Testing the model over jan-2024"
   ]
  },
  {
   "cell_type": "code",
   "execution_count": null,
   "id": "b1da1249",
   "metadata": {},
   "outputs": [],
   "source": [
    "ss = pd.read_excel(r'C:\\Users\\suraj musale\\OneDrive\\Desktop\\BF data\\Master data\\jan_2024_filtered.xlsx')"
   ]
  },
  {
   "cell_type": "code",
   "execution_count": null,
   "id": "7aa45c2e",
   "metadata": {},
   "outputs": [],
   "source": [
    "ss1 = ss[['Bottom_Diff_Press', 'ETA_CO', 'FTP', 'Heat_loss_std',\n",
    "       'Middle_Diff_Press', 'PT_520_523_avg', 'PT_520_523_std',\n",
    "       'PT_524_527_avg', 'PT_524_527_std', 'PT_528_531_avg', 'PT_528_531_std',\n",
    "       'PT_532_535_avg', 'PT_532_535_std', 'PT_536_539_avg', 'PT_536_539_std',\n",
    "       'PT_Q1_std', 'PT_Q2_std', 'PT_Q3_std', 'PT_Q4_std',\n",
    "       'Periphery_Temp_avg', 'Periphery_Temp_std', 'Permeability',\n",
    "       'QUAD1_Heat_loss', 'QUAD2_Heat_loss', 'QUAD3_Heat_loss',\n",
    "       'QUAD4_Heat_loss', 'Row10_avg', 'Row10_std', 'Row11_avg', 'Row11_std',\n",
    "       'Row12_avg', 'Row12_std', 'Row13_avg', 'Row13_std', 'Row14_avg',\n",
    "       'Row14_std', 'Row15_avg', 'Row15_std', 'Row16_avg', 'Row16_std',\n",
    "       'Row17_avg', 'Row17_std', 'Row18_avg', 'Row18_std', 'Row19_avg',\n",
    "       'Row19_std', 'Row8_avg', 'Row8_std', 'Row9_avg', 'Row9_std',\n",
    "       'Top_Diff_Press', 'Total_Heat_loss', 'Uptake_tem_avg', 'Uptake_tem_std',\n",
    "       'diff_pressure']]"
   ]
  },
  {
   "cell_type": "code",
   "execution_count": null,
   "id": "f436c67f",
   "metadata": {},
   "outputs": [],
   "source": [
    "channeling_predictions = radm_clf_final.predict(ss1)\n",
    "channeling_probabilities = radm_clf_final.predict_proba(ss1)[:, 1]"
   ]
  },
  {
   "cell_type": "code",
   "execution_count": null,
   "id": "375e1ea0",
   "metadata": {},
   "outputs": [],
   "source": [
    "ss1['Predicted_Channeling'] = channeling_predictions\n",
    "ss1['Channeling_Probability'] = channeling_probabilities\n"
   ]
  },
  {
   "cell_type": "code",
   "execution_count": null,
   "id": "ca1b04bd",
   "metadata": {},
   "outputs": [],
   "source": [
    "ss1.to_excel(r'C:\\Users\\suraj musale\\OneDrive\\Desktop\\BF data\\jan2024_probablity_1.xlsx')"
   ]
  },
  {
   "cell_type": "markdown",
   "id": "ddd5da5c",
   "metadata": {},
   "source": [
    "# Testing over the 1hour data"
   ]
  },
  {
   "cell_type": "code",
   "execution_count": null,
   "id": "e3e097ba",
   "metadata": {},
   "outputs": [],
   "source": [
    "df3.columns"
   ]
  },
  {
   "cell_type": "code",
   "execution_count": null,
   "id": "2b804bc6",
   "metadata": {},
   "outputs": [],
   "source": [
    "df4 = pd.read_excel(r'C:\\Users\\suraj musale\\OneDrive\\Desktop\\BF data\\Master data\\masterdata(1hour)_3.xlsx')"
   ]
  },
  {
   "cell_type": "code",
   "execution_count": null,
   "id": "0b21cff8",
   "metadata": {},
   "outputs": [],
   "source": [
    "df4.isnull().count()"
   ]
  },
  {
   "cell_type": "code",
   "execution_count": null,
   "id": "3675cc0a",
   "metadata": {},
   "outputs": [],
   "source": [
    "df4.fillna(df4.mean(), inplace=True)"
   ]
  },
  {
   "cell_type": "code",
   "execution_count": null,
   "id": "a4b1dace",
   "metadata": {},
   "outputs": [],
   "source": [
    "df4.shape"
   ]
  },
  {
   "cell_type": "code",
   "execution_count": null,
   "id": "7c0f68a2",
   "metadata": {},
   "outputs": [],
   "source": [
    "df4.to_excel(r'C:\\Users\\suraj musale\\OneDrive\\Desktop\\BF data\\filter_data2.xlsx')"
   ]
  },
  {
   "cell_type": "code",
   "execution_count": null,
   "id": "217906cf",
   "metadata": {},
   "outputs": [],
   "source": [
    "df4.columns"
   ]
  },
  {
   "cell_type": "code",
   "execution_count": null,
   "id": "194d29ec",
   "metadata": {},
   "outputs": [],
   "source": [
    "train_X.columns"
   ]
  },
  {
   "cell_type": "code",
   "execution_count": null,
   "id": "728956e0",
   "metadata": {},
   "outputs": [],
   "source": [
    "ss3 = df4[['Bottom_Diff_Press', 'ETA_CO', 'FTP', 'Heat_loss_std',\n",
    "       'Middle_Diff_Press', 'PT_520_523_avg', 'PT_520_523_std',\n",
    "       'PT_524_527_avg', 'PT_524_527_std', 'PT_528_531_avg', 'PT_528_531_std',\n",
    "       'PT_532_535_avg', 'PT_532_535_std', 'PT_536_539_avg', 'PT_536_539_std',\n",
    "       'PT_Q1_std', 'PT_Q2_std', 'PT_Q3_std', 'PT_Q4_std',\n",
    "       'Periphery_Temp_avg', 'Periphery_Temp_std', 'Permeability',\n",
    "       'QUAD1_Heat_loss', 'QUAD2_Heat_loss', 'QUAD3_Heat_loss',\n",
    "       'QUAD4_Heat_loss', 'Row10_avg', 'Row10_std', 'Row11_avg', 'Row11_std',\n",
    "       'Row12_avg', 'Row12_std', 'Row13_avg', 'Row13_std', 'Row14_avg',\n",
    "       'Row14_std', 'Row15_avg', 'Row15_std', 'Row16_avg', 'Row16_std',\n",
    "       'Row17_avg', 'Row17_std', 'Row18_avg', 'Row18_std', 'Row19_avg',\n",
    "       'Row19_std', 'Row8_avg', 'Row8_std', 'Row9_avg', 'Row9_std',\n",
    "       'Top_Diff_Press', 'Total_Heat_loss', 'Uptake_tem_avg', 'Uptake_tem_std',\n",
    "       'diff_pressure'\n",
    "       ]]"
   ]
  },
  {
   "cell_type": "code",
   "execution_count": null,
   "id": "96c0d49b",
   "metadata": {},
   "outputs": [],
   "source": [
    "channeling_predictions = radm_clf_final.predict(ss3)\n",
    "channeling_probabilities = radm_clf_final.predict_proba(ss3)[:, 1]"
   ]
  },
  {
   "cell_type": "code",
   "execution_count": null,
   "id": "9bd1f924",
   "metadata": {},
   "outputs": [],
   "source": [
    "ss3['Predicted_Channeling'] = channeling_predictions\n",
    "ss3['Channeling_Probability'] = channeling_probabilities\n"
   ]
  },
  {
   "cell_type": "code",
   "execution_count": null,
   "id": "c9aa1356",
   "metadata": {},
   "outputs": [],
   "source": [
    "ss3.shape"
   ]
  },
  {
   "cell_type": "code",
   "execution_count": null,
   "id": "b307db09",
   "metadata": {},
   "outputs": [],
   "source": [
    "ss3.to_excel(r'C:\\Users\\suraj musale\\OneDrive\\Desktop\\BF data\\1hour_probablity_1.xlsx')"
   ]
  },
  {
   "cell_type": "code",
   "execution_count": null,
   "id": "edcc6beb",
   "metadata": {},
   "outputs": [],
   "source": [
    "# Assuming you have your new test dataset 'ss1'\n",
    "probabilities_ss1 = radm_clf_final.predict_proba(ss1)[:, 1]\n",
    "\n",
    "# Create a new column 'Probability' in ss1\n",
    "ss1['Probability'] = probabilities_ss1\n",
    "\n",
    "# Display the updated DataFrame\n",
    "print(ss1)"
   ]
  },
  {
   "cell_type": "code",
   "execution_count": null,
   "id": "0f2b4a16",
   "metadata": {},
   "outputs": [],
   "source": [
    "asdhHWHGHHH"
   ]
  },
  {
   "cell_type": "markdown",
   "id": "bb9c7a1a",
   "metadata": {},
   "source": [
    "# Logistic regression "
   ]
  },
  {
   "cell_type": "code",
   "execution_count": null,
   "id": "69e21d99",
   "metadata": {},
   "outputs": [],
   "source": [
    "from sklearn.model_selection import train_test_split\n",
    "from sklearn.preprocessing import StandardScaler"
   ]
  },
  {
   "cell_type": "code",
   "execution_count": null,
   "id": "4ea9bb82",
   "metadata": {},
   "outputs": [],
   "source": [
    "# sklearn needs x and y to be separated in different dataframes\n",
    "Y = df3.Channelling\n",
    "X = df3[df3.columns.difference(['Channelling'])]"
   ]
  },
  {
   "cell_type": "code",
   "execution_count": null,
   "id": "e5444717",
   "metadata": {},
   "outputs": [],
   "source": [
    "train_X, test_X, train_y, test_y = train_test_split(X,Y, test_size = 0.3, random_state = 42)\n",
    "train_X"
   ]
  },
  {
   "cell_type": "code",
   "execution_count": null,
   "id": "69303672",
   "metadata": {},
   "outputs": [],
   "source": [
    "train, test = train_test_split(df3, test_size=0.3, random_state=123)"
   ]
  },
  {
   "cell_type": "code",
   "execution_count": null,
   "id": "41f861ea",
   "metadata": {},
   "outputs": [],
   "source": [
    "df"
   ]
  },
  {
   "cell_type": "code",
   "execution_count": null,
   "id": "cabb6e60",
   "metadata": {},
   "outputs": [],
   "source": [
    "ds = df[['Date', 'FTP', 'diff_pressure',  'PT_520_523_avg',  'Total_Heat_loss',  'ETA_CO', 'Periphery_Temp_avg', 'Periphery_Temp_std', 'Row8_avg','Row15_std', 'Row16_std', 'Row17_avg'  ,'Row18_std' ,'Uptake_tem_avg']]"
   ]
  },
  {
   "cell_type": "code",
   "execution_count": null,
   "id": "fd910329",
   "metadata": {},
   "outputs": [],
   "source": [
    "ds.to_excel(r'C:\\Users\\suraj musale\\OneDrive\\Desktop\\BF data\\impfeatures.xlsx')"
   ]
  },
  {
   "cell_type": "code",
   "execution_count": null,
   "id": "e53d8ad6",
   "metadata": {},
   "outputs": [],
   "source": [
    "model = smf.logit('Channelling ~  FTP + diff_pressure + PT_520_523_avg + Total_Heat_loss  + ETA_CO   + Periphery_Temp_avg + Periphery_Temp_std + Row8_avg  + Row15_std + Row16_std + Row17_avg  + Row18_std + Uptake_tem_avg ' , data=train).fit()"
   ]
  },
  {
   "cell_type": "code",
   "execution_count": null,
   "id": "c3e59f50",
   "metadata": {},
   "outputs": [],
   "source": [
    "print(model.summary())"
   ]
  },
  {
   "cell_type": "code",
   "execution_count": null,
   "id": "92087092",
   "metadata": {},
   "outputs": [],
   "source": [
    "#df1 = df[['Channelling','Hot_Blast_Vol','Hot_Blast_Press','FTP','diff_pressure','Permeability','Top_Diff_Press','Middle_Diff_Press','Bottom_Diff_Press','ETA_CO','HM_PROD_RATE','QUAD1_Heat_loss','QUAD2_Heat_loss','QUAD3_Heat_loss','QUAD4_Heat_loss','Total_Heat_loss','Heat_loss_std', 'Periphery_Temp_avg' ,'Periphery_Temp_std','Uptake_tem_avg','Uptake_tem_std', 'Row8_avg','Row8_std','Row9_avg','Row9_std','Row10_avg','Row10_std','Row11_avg','Row11_std','Row11_avg','Row11_std' ,'Row12_avg','Row13_std','Row14_avg','Row14_std','Row15_avg','Row15_std','Row16_avg','Row16_std','Row17_avg','Row17_std','Row18_avg','Row18_std','Row19_avg','Row19_std','PT_520_523_avg','PT_520_523_std','PT_524_527_avg','PT_524_527_std','PT_528_531_avg','PT_528_531_std','PT_532_535_avg','PT_532_535_std','PT_536_539_avg','PT_536_539_std','PT_Q1_std','PT_Q2_std','PT_Q3_std','PT_Q4_std']]"
   ]
  },
  {
   "cell_type": "markdown",
   "id": "97b4d2ad",
   "metadata": {},
   "source": [
    "# To calculate the impact of individual features on your output variable and create a mathematical equation for prediction using random forest model\n"
   ]
  },
  {
   "cell_type": "code",
   "execution_count": null,
   "id": "fca02987",
   "metadata": {},
   "outputs": [],
   "source": [
    "from sklearn.ensemble import RandomForestClassifier\n",
    "from sklearn.ensemble import RandomForestClassifier\n",
    "\n",
    "radm_clf = RandomForestClassifier(oob_score=True,n_estimators=100 , max_depth = 15, max_features=10, n_jobs=-1)\n",
    "radm_clf.fit( train_X, train_y )"
   ]
  },
  {
   "cell_type": "code",
   "execution_count": null,
   "id": "d8c75f3e",
   "metadata": {},
   "outputs": [],
   "source": [
    "importances = radm_clf.feature_importances_"
   ]
  },
  {
   "cell_type": "code",
   "execution_count": null,
   "id": "f24147af",
   "metadata": {},
   "outputs": [],
   "source": [
    "feature_ranking = sorted(zip(importances, df3), reverse=True)"
   ]
  },
  {
   "cell_type": "code",
   "execution_count": null,
   "id": "4c3779ae",
   "metadata": {},
   "outputs": [],
   "source": [
    "top_features = [feature for importance, feature in feature_ranking[:13]]"
   ]
  },
  {
   "cell_type": "code",
   "execution_count": null,
   "id": "b10c96c8",
   "metadata": {},
   "outputs": [],
   "source": [
    "from sklearn.linear_model import LinearRegression\n",
    "\n",
    "X_top_features = df3[top_features] \n",
    "y = df3['Channelling']\n",
    "\n",
    "linear_reg_model = LinearRegression()\n",
    "linear_reg_model.fit(X_top_features, y)\n",
    "\n",
    "coefficients = linear_reg_model.coef_\n",
    "intercept = linear_reg_model.intercept_"
   ]
  },
  {
   "cell_type": "code",
   "execution_count": null,
   "id": "f805a29b",
   "metadata": {},
   "outputs": [],
   "source": [
    "equation = f\"Output = {intercept:.4f} + \"\n",
    "for feature, coefficient in zip(top_features, coefficients):\n",
    "    equation += f\"{coefficient:.4f} * {feature} + \"\n",
    "\n",
    "equation = equation[:-2] "
   ]
  },
  {
   "cell_type": "code",
   "execution_count": null,
   "id": "ec0fd1c6",
   "metadata": {},
   "outputs": [],
   "source": [
    "df3.shape"
   ]
  },
  {
   "cell_type": "code",
   "execution_count": null,
   "id": "f071a7e5",
   "metadata": {},
   "outputs": [],
   "source": [
    "equation"
   ]
  },
  {
   "cell_type": "code",
   "execution_count": null,
   "id": "f006b19d",
   "metadata": {},
   "outputs": [],
   "source": [
    "import numpy as np\n",
    "\n",
    "# List of feature names\n",
    "feature_names = ['FTP', 'Row18_std', 'Row9_avg', 'Bottom_Diff_Press', 'PT_528_531_avg', 'PT_520_523_std', 'PT_524_527_std', \n",
    "                  'Row17_std', 'Row19_avg', 'PT_524_527_avg', 'Row11_std', 'Row8_std', 'Row19_std']\n",
    "\n",
    "# Coefficients from your equation\n",
    "coefficients = np.array([-0.3081, 3.1577, 0.0166, -0.0168, -0.5521, 0.7312, 2.1297, 0.9272, -0.0053, -0.0029, -3.4702, 0.0107, 0.0262, 0.0168])\n",
    "\n",
    "# Get the features from df3\n",
    "df3_features = df3[feature_names]\n",
    "\n",
    "# Calculate the linear combination for each row\n",
    "linear_combinations = df3_features.dot(coefficients[1:]) + coefficients[0]\n",
    "\n",
    "# Apply the sigmoid function\n",
    "df3['Sigmoid_Probability_New'] = 1 / (1 + np.exp(-linear_combinations))\n",
    "\n",
    "# Save the DataFrame to a file\n",
    "df3.to_csv(r'C:\\Users\\suraj musale\\OneDrive\\Desktop\\BF data\\df3_with_sigmoid_probability_new.csv', index=False)"
   ]
  },
  {
   "cell_type": "code",
   "execution_count": null,
   "id": "bff9e892",
   "metadata": {},
   "outputs": [],
   "source": [
    "from sklearn.ensemble import RandomForestClassifier\n",
    "import numpy as np\n",
    "\n",
    "# Assuming X_train and y_train are your training data and labels\n",
    "\n",
    "# Define different hyperparameter values\n",
    "n_estimators_values = [100, 200, 300]\n",
    "max_depth_values = [None, 10, 20,30]\n",
    "\n",
    "best_features = None\n",
    "best_importance = 0.0\n",
    "\n",
    "for n_estimators in n_estimators_values:\n",
    "    for max_depth in max_depth_values:\n",
    "        # Create and train the model\n",
    "        radm_clf = RandomForestClassifier(n_estimators=n_estimators, max_depth=max_depth, random_state=42)\n",
    "        radm_clf.fit(train_X,train_y)\n",
    "\n",
    "        # Retrieve feature importances\n",
    "        importances = radm_clf.feature_importances_\n",
    "\n",
    "        # Sort features based on importance\n",
    "        sorted_indices = np.argsort(importances)[::-1]\n",
    "\n",
    "        # Select top features (e.g., top 5)\n",
    "        top_features = train_X.columns[sorted_indices[:5]]\n",
    "        \n",
    "        # Display or store the results\n",
    "        print(f\"Hyperparameters: n_estimators={n_estimators}, max_depth={max_depth}\")\n",
    "        print(\"Top Features:\", top_features)\n",
    "        print(\"Feature Importances:\", importances[sorted_indices[:5]])\n",
    "\n",
    "        # Update if these features have higher importance\n",
    "        if importances[sorted_indices[0]] > best_importance:\n",
    "            best_features = top_features\n",
    "            best_importance = importances[sorted_indices[0]]\n",
    "\n",
    "print(\"Best Features:\", best_features)\n",
    "print(\"Best Importance:\", best_importance)"
   ]
  },
  {
   "cell_type": "code",
   "execution_count": null,
   "id": "251dc76c",
   "metadata": {},
   "outputs": [],
   "source": [
    "from sklearn.ensemble import RandomForestClassifier\n",
    "import numpy as np\n",
    "\n",
    "# Assuming X_train and y_train are your training data and labels\n",
    "\n",
    "# Define different hyperparameter values\n",
    "n_estimators_values = [100, 200, 300]\n",
    "max_depth_values = [None, 10, 20]\n",
    "\n",
    "best_features = None\n",
    "best_importance = 0.0\n",
    "\n",
    "for n_estimators in n_estimators_values:\n",
    "    for max_depth in max_depth_values:\n",
    "        # Create and train the model\n",
    "        radm_clf = RandomForestClassifier(n_estimators=n_estimators, max_depth=max_depth, random_state=42)\n",
    "        radm_clf.fit(train_X,train_y)\n",
    "\n",
    "        # Retrieve feature importances\n",
    "        importances = radm_clf.feature_importances_\n",
    "\n",
    "        # Sort features based on importance\n",
    "        sorted_indices = np.argsort(importances)[::-1]\n",
    "\n",
    "        # Select top features (e.g., top 5)\n",
    "        top_features =train_X.columns[sorted_indices[:5]]\n",
    "        \n",
    "        # Display or store the results\n",
    "        print(f\"Hyperparameters: n_estimators={n_estimators}, max_depth={max_depth}\")\n",
    "        print(\"Top Features:\", top_features)\n",
    "        print(\"Feature Importances (Relative Coefficients):\", importances[sorted_indices[:5]])\n",
    "\n",
    "        # Update if these features have higher importance\n",
    "        if importances[sorted_indices[0]] > best_importance:\n",
    "            best_features = top_features\n",
    "            best_importance = importances[sorted_indices[0]]\n",
    "\n",
    "print(\"Best Features:\", best_features)\n",
    "print(\"Best Importance:\", best_importance)"
   ]
  },
  {
   "cell_type": "code",
   "execution_count": null,
   "id": "75690c4f",
   "metadata": {},
   "outputs": [],
   "source": []
  }
 ],
 "metadata": {
  "kernelspec": {
   "display_name": "Python 3 (ipykernel)",
   "language": "python",
   "name": "python3"
  },
  "language_info": {
   "codemirror_mode": {
    "name": "ipython",
    "version": 3
   },
   "file_extension": ".py",
   "mimetype": "text/x-python",
   "name": "python",
   "nbconvert_exporter": "python",
   "pygments_lexer": "ipython3",
   "version": "3.10.9"
  }
 },
 "nbformat": 4,
 "nbformat_minor": 5
}
